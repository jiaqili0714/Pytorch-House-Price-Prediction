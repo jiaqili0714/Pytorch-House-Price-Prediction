{
  "cells": [
    {
      "cell_type": "markdown",
      "source": [
        "# House price prediction for Denver Dataset\n",
        "\n",
        "In this case (Part II), there are two main tasks:\n",
        "\n",
        "- First, you will need to split the train data into train and validate data and tune the model hyperparameters to choose the best model. Submit the predicted prices for test data to Kaggle to compete for Prof. X's Prize!\n",
        "\n",
        "- Then you will examine the profit of the iBuyer business model based on the predicted price on the valid data.\n",
        "\n",
        "\n",
        "\n",
        "\n"
      ],
      "metadata": {
        "id": "eqM8VQAFpTst"
      }
    },
    {
      "cell_type": "markdown",
      "source": [
        "You need to submit a report in pdf format containing the following material on canvas site:\n",
        "\n",
        "1.   A plot of the training errors and validation errors over epochs for a base multilayer perceptron model with 2 hidden layers of sizes 256 and 128.\n",
        "\n",
        "2.   A plot of the training errors and validation errors over epochs for a  multilayer perceptron model with 4 hidden layers of sizes 512, 256, 128, 64.\n",
        "\n",
        "3.  A plot of the training errors and validation errors over epochs for a  multilayer perceptron model with 4 hidden layers of sizes 512, 256, 128, 64\n",
        "and norm regularization.\n",
        "\n",
        "4. A plot of the training errors and validation errors over epochs for a  multilayer perceptron model with 4 hidden layers of sizes 512, 256, 128, 64\n",
        "and norm regularization and dropout layers.\n",
        "\n",
        "5. A table listing all the model hyperparameters that you have tried with the corresponding validation errors that you found.\n",
        "\n",
        "6. Your profit analysis of the the iBuyer business model based on the predicted price on the valid data and answers to the four questions therein.\n",
        "\n",
        "\n",
        "You also need to submit on canvas site:\n",
        "\n",
        "- The complete Juyputer notebook containing all your Pytorch code with explanations, along with a Markdown text explaining different parts if needed.\n",
        "-  A checkpoint.pth file containing all the necessary information to retrieve your best model and predictions.\n",
        "\n"
      ],
      "metadata": {
        "id": "I6LbqGHGF66J"
      }
    },
    {
      "cell_type": "markdown",
      "metadata": {
        "id": "s4QjqzSng9P7"
      },
      "source": [
        "---\n",
        "## Data Loading and Visualize Data"
      ]
    },
    {
      "cell_type": "markdown",
      "source": [
        "The train data and test data are available on Kaggle website.\n",
        "You can first download them, then upload them to the google colab, and then read the data using pandas."
      ],
      "metadata": {
        "id": "qJzPZD90wSNP"
      }
    },
    {
      "cell_type": "code",
      "execution_count": null,
      "metadata": {
        "id": "K4gWVq036dy1",
        "scrolled": true,
        "ExecuteTime": {
          "end_time": "2023-08-14T16:46:12.975303400Z",
          "start_time": "2023-08-14T16:46:12.877462900Z"
        }
      },
      "outputs": [],
      "source": [
        "import pandas as pd  # Importing pandas, which is a library for data manipulation and analysis\n",
        "#TODO: Read the datasets\n",
        "train_df = pd.read_csv(\"train.csv\")\n",
        "test_df = pd.read_csv(\"test.csv\")"
      ]
    },
    {
      "cell_type": "code",
      "source": [
        "# Display the train dataframe\n",
        "print(train_df.shape)\n",
        "print(train_df.columns)"
      ],
      "metadata": {
        "id": "XaQo7FuB0doZ",
        "colab": {
          "base_uri": "https://localhost:8080/"
        },
        "outputId": "082c2073-1bcf-4a00-9c49-18642b98e1fc"
      },
      "execution_count": null,
      "outputs": [
        {
          "output_type": "stream",
          "name": "stdout",
          "text": [
            "(11581, 17)\n",
            "Index(['ID', 'NBHD', 'PROP_CLASS', 'LIVING_SQFT', 'FBSMT_SQFT', 'BSMT_AREA',\n",
            "       'LAND_SQFT', 'GRD_AREA', 'BLDG_AGE', 'RM_AGE', 'BED_RMS', 'FULL_B',\n",
            "       'HLF_B', 'STORY', 'STYLE_CN', 'UNITS', 'SALE_PRICE'],\n",
            "      dtype='object')\n"
          ]
        }
      ]
    },
    {
      "cell_type": "code",
      "source": [
        "# Display the test dataframe\n",
        "print(test_df.shape)\n",
        "print(test_df.columns)"
      ],
      "metadata": {
        "id": "r4JCo589iNmI",
        "colab": {
          "base_uri": "https://localhost:8080/"
        },
        "outputId": "9c490041-7e0d-42ec-f729-3b64c8af7fce"
      },
      "execution_count": null,
      "outputs": [
        {
          "output_type": "stream",
          "name": "stdout",
          "text": [
            "(4964, 16)\n",
            "Index(['ID', 'NBHD', 'PROP_CLASS', 'LIVING_SQFT', 'FBSMT_SQFT', 'BSMT_AREA',\n",
            "       'LAND_SQFT', 'GRD_AREA', 'BLDG_AGE', 'RM_AGE', 'BED_RMS', 'FULL_B',\n",
            "       'HLF_B', 'STORY', 'STYLE_CN', 'UNITS'],\n",
            "      dtype='object')\n"
          ]
        }
      ]
    },
    {
      "cell_type": "markdown",
      "source": [
        "As you can see, we have 11581 training samples and 4964 test samples, each with 16 features. The training samples contain the sale_prices, which are the labels. The test samples do not contain the sale_prices, which we will predict by building a MLP model.\n"
      ],
      "metadata": {
        "id": "szikaZ_Stjbw"
      }
    },
    {
      "cell_type": "markdown",
      "source": [
        "### Visualization of SALE PRICES\n",
        "\n",
        "Let's take a closer look at the sale prices in the train data."
      ],
      "metadata": {
        "id": "sJfzgCkCqUio"
      }
    },
    {
      "cell_type": "code",
      "source": [
        "import seaborn as sns\n",
        "import matplotlib.pyplot as plt  # Importing matplotlib's pyplot, it provides a MATLAB-like interface for making plots and charts\n",
        "\n",
        "# Set the style\n",
        "sns.set(style=\"whitegrid\")\n",
        "\n",
        "# Create a histogram\n",
        "plt.figure(figsize=(10, 6))\n",
        "sns.histplot(train_df['SALE_PRICE'], bins=50, color='blue')\n",
        "plt.title('Histogram of Sale Prices (Train Data)')\n",
        "plt.xlabel('Sale Price')\n",
        "plt.ylabel('Number of Properties')\n",
        "plt.show()"
      ],
      "metadata": {
        "id": "1AaQ9nLKJej5",
        "colab": {
          "base_uri": "https://localhost:8080/",
          "height": 573
        },
        "outputId": "85b1ea48-50dc-49fe-d42d-0b046044c29d"
      },
      "execution_count": null,
      "outputs": [
        {
          "output_type": "display_data",
          "data": {
            "text/plain": [
              "<Figure size 1000x600 with 1 Axes>"
            ],
            "image/png": "[encoded data removed]"
          },
          "metadata": {}
        }
      ]
    },
    {
      "cell_type": "markdown",
      "source": [
        "Check the minimum and maximum sale_price in train data."
      ],
      "metadata": {
        "id": "Etksi7L3jPOq"
      }
    },
    {
      "cell_type": "code",
      "source": [
        "print(train_df['SALE_PRICE'].min())\n",
        "print(train_df['SALE_PRICE'].max())\n",
        "print(train_df['SALE_PRICE'].median())"
      ],
      "metadata": {
        "id": "bHZOKq7yPx9S",
        "colab": {
          "base_uri": "https://localhost:8080/"
        },
        "outputId": "7284e76f-e87a-494a-f16d-0be0eec0f61a"
      },
      "execution_count": null,
      "outputs": [
        {
          "output_type": "stream",
          "name": "stdout",
          "text": [
            "51000\n",
            "1995000\n",
            "431000.0\n"
          ]
        }
      ]
    },
    {
      "cell_type": "markdown",
      "source": [
        "We see that the sale_price has a wide range from 50K to 2 million, with the median price 431K."
      ],
      "metadata": {
        "id": "CD8wV4aFqG1Z"
      }
    },
    {
      "cell_type": "markdown",
      "source": [
        "### Visualization of Correlation\n",
        "\n",
        "We can also compute and visualize the correlation matrix."
      ],
      "metadata": {
        "id": "5AgRR1yHFlWS"
      }
    },
    {
      "cell_type": "code",
      "source": [
        "# Compute the correlation matrix:\n",
        "correlation_matrix = train_df.corr()\n",
        "\n",
        "# 1. Increase the figure size for clarity\n",
        "plt.figure(figsize=(8, 8))\n",
        "\n",
        "# 2. Use a heatmap with annotations, a color map, and specific formatting for the annotations\n",
        "ax = sns.heatmap(correlation_matrix, annot=True, cmap='coolwarm', fmt=\".2f\", annot_kws={'size': 8})\n",
        "\n",
        "# 3. Rotate the x-axis labels for better visibility\n",
        "plt.setp(ax.get_xticklabels(), rotation=45, ha=\"right\", rotation_mode=\"anchor\")\n",
        "\n",
        "# Rotate the y-axis labels\n",
        "plt.setp(ax.get_yticklabels(), rotation=0)\n",
        "\n",
        "# 4. Title and display\n",
        "plt.title('Correlation Heatmap')\n",
        "plt.tight_layout()  # This can help if any labels are still being cut off\n",
        "plt.show()\n",
        "\n",
        "# 5. Optionally save the figure with high resolution\n",
        "# plt.savefig(\"heatmap.png\", dpi=300)"
      ],
      "metadata": {
        "id": "lclsy9WmFmAX",
        "colab": {
          "base_uri": "https://localhost:8080/",
          "height": 857
        },
        "outputId": "50cb2894-93ae-4e72-fc40-1cd9f1bd244f"
      },
      "execution_count": null,
      "outputs": [
        {
          "output_type": "stream",
          "name": "stderr",
          "text": [
            "<ipython-input-6-28da14c2e215>:2: FutureWarning: The default value of numeric_only in DataFrame.corr is deprecated. In a future version, it will default to False. Select only valid columns or specify the value of numeric_only to silence this warning.\n",
            "  correlation_matrix = train_df.corr()\n"
          ]
        },
        {
          "output_type": "display_data",
          "data": {
            "text/plain": [
              "<Figure size 800x800 with 2 Axes>"
            ],
            "image/png": "[encoded data removed]"
          },
          "metadata": {}
        }
      ]
    },
    {
      "cell_type": "markdown",
      "source": [
        "We can see that the Sale_Price has high correlation with Living_SQFT and number of Full Bathrooms."
      ],
      "metadata": {
        "id": "mkxgvlgoF8PP"
      }
    },
    {
      "cell_type": "markdown",
      "source": [
        "### Distribution of houses over different NBHD"
      ],
      "metadata": {
        "id": "UmJzfROtGEms"
      }
    },
    {
      "cell_type": "code",
      "source": [
        "# Compute the number of houses per neighborhood\n",
        "House_by_NBHD = train_df['NBHD'].value_counts()\n",
        "print(House_by_NBHD)"
      ],
      "metadata": {
        "id": "tnx5QYiCGFes",
        "colab": {
          "base_uri": "https://localhost:8080/"
        },
        "outputId": "37f9d1d6-029e-4957-e8d2-b629a66b52ac"
      },
      "execution_count": null,
      "outputs": [
        {
          "output_type": "stream",
          "name": "stdout",
          "text": [
            "CENTRAL PARK                    1049\n",
            "GATEWAY / GREEN VALLEY RANCH     937\n",
            "UNION STATION                    369\n",
            "HAMPDEN                          346\n",
            "WINDSOR                          316\n",
            "                                ... \n",
            "VALVERDE                          22\n",
            "GLOBEVILLE                        20\n",
            "SUN VALLEY                         8\n",
            "CORY - MERRILL                     4\n",
            "AURARIA                            1\n",
            "Name: NBHD, Length: 75, dtype: int64\n"
          ]
        }
      ]
    },
    {
      "cell_type": "code",
      "source": [
        "# Filtering ZIP codes that appear more than once\n",
        "filtered_House_by_NBHD = House_by_NBHD[House_by_NBHD > 200]\n",
        "filtered_House_by_NBHD.plot(kind='bar', figsize=(10,6))\n",
        "plt.title('Distribution of Houses by NBHD')\n",
        "plt.ylabel('Number of Houses')\n",
        "plt.xlabel('NBHD')\n",
        "plt.xticks(rotation=90)  # Rotate x-axis labels for better readability, if necessary\n",
        "plt.tight_layout()  # Ensure everything fits without overlapping\n",
        "plt.show()\n"
      ],
      "metadata": {
        "id": "iMNHS8RzGyog",
        "colab": {
          "base_uri": "https://localhost:8080/",
          "height": 588
        },
        "outputId": "0abd703b-836f-4875-99a3-e271823b3a04"
      },
      "execution_count": null,
      "outputs": [
        {
          "output_type": "display_data",
          "data": {
            "text/plain": [
              "<Figure size 1000x600 with 1 Axes>"
            ],
            "image/png": "[encoded data removed]"
          },
          "metadata": {}
        }
      ]
    },
    {
      "cell_type": "markdown",
      "source": [
        "---\n",
        "## Data Preparation\n",
        "\n",
        "The first step when building a neural network model is getting your data into the proper form to feed into the network.\n",
        "\n",
        "- Train labels: We need to extract the sale prices from the train data as train labels. Since the house prices can take very large values, to make training fast it is helpful to define the train labels as the sale prices divided by a normalization factor.\n",
        "\n",
        "- **Handing non-numeric features**: Some of the house features are non-numeric. We will learn about how to process categorical data in the upcoming lectures. For now, you can  remove those non-numeric features and only train over the numeric features.\n",
        "\n",
        "- **Feature standardization**: When predicting house prices, you started from features that took a variety of ranges—some features had small floating-point values, and others had fairly large integer values. The model might be able to automatically adapt to such heterogeneous data, but it would definitely make learning more difficult. A widespread best practice for dealing with such data is to do feature-wise normalization: for each feature in the input data (a column in the input dataframe), we subtract the mean of the feature and divide by the standard deviation, so that the feature is centered around 0 and has\n",
        "a unit standard deviation. Note that here we combine the feature vectors in the train and test data. In this way, the train and test data go through the same normalization.\n",
        "\n",
        "- **Handling missing values**: There may exist some entries with missing values. After the feature standardization, we can impute the missing values with zeros."
      ],
      "metadata": {
        "id": "PHY3Ye4wCmWM"
      }
    },
    {
      "cell_type": "code",
      "source": [
        "test_df.info()"
      ],
      "metadata": {
        "id": "t3DkZgCn0mM7",
        "colab": {
          "base_uri": "https://localhost:8080/"
        },
        "outputId": "34fffa7e-d9a3-432e-a6f1-1d3e96d6d1dd"
      },
      "execution_count": null,
      "outputs": [
        {
          "output_type": "stream",
          "name": "stdout",
          "text": [
            "<class 'pandas.core.frame.DataFrame'>\n",
            "RangeIndex: 4964 entries, 0 to 4963\n",
            "Data columns (total 16 columns):\n",
            " #   Column       Non-Null Count  Dtype  \n",
            "---  ------       --------------  -----  \n",
            " 0   ID           4964 non-null   int64  \n",
            " 1   NBHD         4964 non-null   object \n",
            " 2   PROP_CLASS   4964 non-null   object \n",
            " 3   LIVING_SQFT  4964 non-null   int64  \n",
            " 4   FBSMT_SQFT   4964 non-null   int64  \n",
            " 5   BSMT_AREA    4964 non-null   int64  \n",
            " 6   LAND_SQFT    4964 non-null   int64  \n",
            " 7   GRD_AREA     4964 non-null   int64  \n",
            " 8   BLDG_AGE     4964 non-null   int64  \n",
            " 9   RM_AGE       2623 non-null   float64\n",
            " 10  BED_RMS      4964 non-null   float64\n",
            " 11  FULL_B       4964 non-null   float64\n",
            " 12  HLF_B        4964 non-null   int64  \n",
            " 13  STORY        4964 non-null   float64\n",
            " 14  STYLE_CN     4964 non-null   object \n",
            " 15  UNITS        4964 non-null   float64\n",
            "dtypes: float64(5), int64(8), object(3)\n",
            "memory usage: 620.6+ KB\n"
          ]
        }
      ]
    },
    {
      "cell_type": "markdown",
      "source": [
        "We see that the sale_price in train data has a wide range from 50K to 2 million, with the median price 431K. We can divide the sale_price by 100K, so the normalized sale_price is between 0.5 and 20 in training data. Remember, when we output the predicted price for the test data, we need to multiply back the normalization factor."
      ],
      "metadata": {
        "id": "Vc9Mbiy0d-39"
      }
    },
    {
      "cell_type": "code",
      "source": [
        "#TODO: define labels for train data\n",
        "normalization_factor=100000\n",
        "train_labels = train_df['SALE_PRICE']/normalization_factor\n",
        "train_df.drop('SALE_PRICE', axis=1, inplace=True) # drop the sale_prices in features."
      ],
      "metadata": {
        "id": "6tLe4pPFeBCs"
      },
      "execution_count": null,
      "outputs": []
    },
    {
      "cell_type": "markdown",
      "source": [
        "The inplace parameter, when set to True , allows you to drop the rows or columns without returning a new DataFrame. The issue arises when the drop function reorders the DataFrame, which can be problematic when the order of your data matters"
      ],
      "metadata": {
        "id": "Yu_DUz_aenSw"
      }
    },
    {
      "cell_type": "markdown",
      "source": [
        "Note that both the training samples and test samples contain an ID column, which is not informative for predicting the house price. Thus we will drop the ID column."
      ],
      "metadata": {
        "id": "zghhA9Q1esTN"
      }
    },
    {
      "cell_type": "code",
      "source": [
        "train_ID=train_df['ID']\n",
        "test_ID=test_df['ID']\n",
        "train_df.drop('ID', axis=1, inplace=True)\n",
        "test_df.drop('ID', axis=1, inplace=True)"
      ],
      "metadata": {
        "id": "7qZ0EjfxetnY"
      },
      "execution_count": null,
      "outputs": []
    },
    {
      "cell_type": "code",
      "source": [
        "# Then we combine the feature vectors in the train data and test data\n",
        "features=pd.concat(objs=[train_df,test_df],axis=0)"
      ],
      "metadata": {
        "id": "gG71VfKuyd9W"
      },
      "execution_count": null,
      "outputs": []
    },
    {
      "cell_type": "code",
      "source": [
        "features.info()"
      ],
      "metadata": {
        "id": "44PZBN4py82z",
        "colab": {
          "base_uri": "https://localhost:8080/"
        },
        "outputId": "4f7835fb-e490-48d9-f651-f71e5d8bac68"
      },
      "execution_count": null,
      "outputs": [
        {
          "output_type": "stream",
          "name": "stdout",
          "text": [
            "<class 'pandas.core.frame.DataFrame'>\n",
            "Int64Index: 16545 entries, 0 to 4963\n",
            "Data columns (total 15 columns):\n",
            " #   Column       Non-Null Count  Dtype  \n",
            "---  ------       --------------  -----  \n",
            " 0   NBHD         16545 non-null  object \n",
            " 1   PROP_CLASS   16545 non-null  object \n",
            " 2   LIVING_SQFT  16545 non-null  int64  \n",
            " 3   FBSMT_SQFT   16545 non-null  int64  \n",
            " 4   BSMT_AREA    16545 non-null  int64  \n",
            " 5   LAND_SQFT    16545 non-null  int64  \n",
            " 6   GRD_AREA     16545 non-null  int64  \n",
            " 7   BLDG_AGE     16545 non-null  int64  \n",
            " 8   RM_AGE       8705 non-null   float64\n",
            " 9   BED_RMS      16545 non-null  float64\n",
            " 10  FULL_B       16545 non-null  float64\n",
            " 11  HLF_B        16545 non-null  int64  \n",
            " 12  STORY        16545 non-null  float64\n",
            " 13  STYLE_CN     16545 non-null  object \n",
            " 14  UNITS        16545 non-null  float64\n",
            "dtypes: float64(5), int64(7), object(3)\n",
            "memory usage: 2.0+ MB\n"
          ]
        }
      ]
    },
    {
      "cell_type": "markdown",
      "source": [
        "We see that there are three non-numeric features, namely `NBHD`, `PROP_CLASS`, and `STYLE_CN`. We will apply one-hot encoding to those non-numeric features in our model; you could also simply drop these non-numeric features."
      ],
      "metadata": {
        "id": "f1L4I7q0ygyQ"
      }
    },
    {
      "cell_type": "code",
      "source": [
        "numeric_features = features.dtypes[features.dtypes != 'object'].index\n",
        "non_numeric_features = features.dtypes[features.dtypes == 'object'].index\n",
        "numeric_features, non_numeric_features"
      ],
      "metadata": {
        "id": "N7RHSwODoVGa",
        "colab": {
          "base_uri": "https://localhost:8080/"
        },
        "outputId": "2448b286-d89b-46c6-e4e4-5231cdf9d8e8"
      },
      "execution_count": null,
      "outputs": [
        {
          "output_type": "execute_result",
          "data": {
            "text/plain": [
              "(Index(['LIVING_SQFT', 'FBSMT_SQFT', 'BSMT_AREA', 'LAND_SQFT', 'GRD_AREA',\n",
              "        'BLDG_AGE', 'RM_AGE', 'BED_RMS', 'FULL_B', 'HLF_B', 'STORY', 'UNITS'],\n",
              "       dtype='object'),\n",
              " Index(['NBHD', 'PROP_CLASS', 'STYLE_CN'], dtype='object'))"
            ]
          },
          "metadata": {},
          "execution_count": 14
        }
      ]
    },
    {
      "cell_type": "code",
      "source": [
        "# If you want to drop the non-numeric features, you just set drop_non_numeric_features= True.\n",
        "drop_non_numeric_features= False\n",
        "\n",
        "if drop_non_numeric_features:\n",
        "    features= features.drop(non_numeric_features, axis=1)\n",
        "else:\n",
        "    # One-hot encode categorical features\n",
        "    features = pd.get_dummies(features, columns=non_numeric_features, dummy_na=True)\n",
        "\n",
        "# Check for non-numeric columns\n",
        "non_numeric_cols = features.select_dtypes(include=['object']).columns\n",
        "if not non_numeric_cols.empty:\n",
        "    raise ValueError(f\"DataFrame contains non-numeric columns: {non_numeric_cols.tolist()}\")"
      ],
      "metadata": {
        "id": "c9X9cUC6nvxA"
      },
      "execution_count": null,
      "outputs": []
    },
    {
      "cell_type": "code",
      "source": [
        "# Standardize numeric features\n",
        "features[numeric_features] = features[numeric_features].apply(lambda x: (x - x.mean()) / (x.std()))"
      ],
      "metadata": {
        "id": "UdpzCjfyyXRL"
      },
      "execution_count": null,
      "outputs": []
    },
    {
      "cell_type": "code",
      "source": [
        "# recheck the mean and std after standardization\n",
        "features[numeric_features].mean(), features[numeric_features].std()"
      ],
      "metadata": {
        "id": "3nDD_WHCTPJ-",
        "colab": {
          "base_uri": "https://localhost:8080/"
        },
        "outputId": "7c065e66-f4ee-476a-d0bd-41a824595272"
      },
      "execution_count": null,
      "outputs": [
        {
          "output_type": "execute_result",
          "data": {
            "text/plain": [
              "(LIVING_SQFT   -6.919686e-17\n",
              " FBSMT_SQFT    -7.907445e-17\n",
              " BSMT_AREA      5.829929e-17\n",
              " LAND_SQFT      1.792998e-17\n",
              " GRD_AREA      -1.975519e-17\n",
              " BLDG_AGE      -1.385011e-17\n",
              " RM_AGE         2.795645e-17\n",
              " BED_RMS        2.122341e-16\n",
              " FULL_B         1.469829e-16\n",
              " HLF_B         -5.658145e-17\n",
              " STORY         -4.563020e-18\n",
              " UNITS          5.017175e-16\n",
              " dtype: float64,\n",
              " LIVING_SQFT    1.0\n",
              " FBSMT_SQFT     1.0\n",
              " BSMT_AREA      1.0\n",
              " LAND_SQFT      1.0\n",
              " GRD_AREA       1.0\n",
              " BLDG_AGE       1.0\n",
              " RM_AGE         1.0\n",
              " BED_RMS        1.0\n",
              " FULL_B         1.0\n",
              " HLF_B          1.0\n",
              " STORY          1.0\n",
              " UNITS          1.0\n",
              " dtype: float64)"
            ]
          },
          "metadata": {},
          "execution_count": 17
        }
      ]
    },
    {
      "cell_type": "markdown",
      "source": [
        "We see that after standardization, the features for the train data have mean 0 and standard deviation 1."
      ],
      "metadata": {
        "id": "SI4eO3UKZMmc"
      }
    },
    {
      "cell_type": "code",
      "source": [
        "# After the feature standardization, we can impute the missing values with zeros.\n",
        "features[numeric_features] = features[numeric_features].fillna(0)"
      ],
      "metadata": {
        "id": "b0M6y8TPp2lD"
      },
      "execution_count": null,
      "outputs": []
    },
    {
      "cell_type": "markdown",
      "source": [
        "Double check the features after data processing."
      ],
      "metadata": {
        "id": "Aw-sbAfpr-LX"
      }
    },
    {
      "cell_type": "code",
      "source": [
        "features.info()\n",
        "print(features.columns)"
      ],
      "metadata": {
        "id": "cNhSp4LVI4F5",
        "colab": {
          "base_uri": "https://localhost:8080/"
        },
        "outputId": "b96352ff-dc86-42c9-cabe-c91076b7a8f5"
      },
      "execution_count": null,
      "outputs": [
        {
          "output_type": "stream",
          "name": "stdout",
          "text": [
            "<class 'pandas.core.frame.DataFrame'>\n",
            "Int64Index: 16545 entries, 0 to 4963\n",
            "Columns: 105 entries, LIVING_SQFT to STYLE_CN_nan\n",
            "dtypes: float64(12), uint8(93)\n",
            "memory usage: 3.1 MB\n",
            "Index(['LIVING_SQFT', 'FBSMT_SQFT', 'BSMT_AREA', 'LAND_SQFT', 'GRD_AREA',\n",
            "       'BLDG_AGE', 'RM_AGE', 'BED_RMS', 'FULL_B', 'HLF_B',\n",
            "       ...\n",
            "       'STYLE_CN_3 STORY', 'STYLE_CN_BI-LEVEL', 'STYLE_CN_CONVERSION',\n",
            "       'STYLE_CN_END UNIT', 'STYLE_CN_MIDDLE UNIT', 'STYLE_CN_RANCH',\n",
            "       'STYLE_CN_SPLIT LEVEL', 'STYLE_CN_TRI-LEVEL', 'STYLE_CN_TRI-LEVEL W/B',\n",
            "       'STYLE_CN_nan'],\n",
            "      dtype='object', length=105)\n"
          ]
        }
      ]
    },
    {
      "cell_type": "markdown",
      "source": [
        "Note that after the one-hot encoding of the non-numeric features, now we have 105-dimensional feature."
      ],
      "metadata": {
        "id": "2ZMyEDlqTxz2"
      }
    },
    {
      "cell_type": "code",
      "execution_count": null,
      "outputs": [
        {
          "output_type": "stream",
          "name": "stdout",
          "text": [
            "LIVING_SQFT               0\n",
            "FBSMT_SQFT                0\n",
            "BSMT_AREA                 0\n",
            "LAND_SQFT                 0\n",
            "GRD_AREA                  0\n",
            "                         ..\n",
            "STYLE_CN_RANCH            0\n",
            "STYLE_CN_SPLIT LEVEL      0\n",
            "STYLE_CN_TRI-LEVEL        0\n",
            "STYLE_CN_TRI-LEVEL W/B    0\n",
            "STYLE_CN_nan              0\n",
            "Length: 105, dtype: int64\n"
          ]
        }
      ],
      "source": [
        "# check whether there is any missing entry\n",
        "print(features.isnull().sum())"
      ],
      "metadata": {
        "ExecuteTime": {
          "end_time": "2023-08-14T16:46:13.162308500Z",
          "start_time": "2023-08-14T16:46:13.134614Z"
        },
        "id": "173vEPejAFLh",
        "colab": {
          "base_uri": "https://localhost:8080/"
        },
        "outputId": "b0388ad1-0cab-410e-f93b-515e3ad35f49"
      }
    },
    {
      "cell_type": "code",
      "source": [
        "# we extract out the train and test features\n",
        "train_features = features.iloc[:len(train_labels)]\n",
        "test_features = features.iloc[len(train_labels):]\n",
        "train_features.shape, test_features.shape"
      ],
      "metadata": {
        "id": "wc4ZJf6l0azu",
        "colab": {
          "base_uri": "https://localhost:8080/"
        },
        "outputId": "cc9b998d-49c1-4023-f57b-e72f5f8269b1"
      },
      "execution_count": null,
      "outputs": [
        {
          "output_type": "execute_result",
          "data": {
            "text/plain": [
              "((11581, 105), (4964, 105))"
            ]
          },
          "metadata": {},
          "execution_count": 21
        }
      ]
    },
    {
      "cell_type": "code",
      "source": [
        "import torch\n",
        "import numpy as np\n",
        "\n",
        "# Convert training features and labels to PyTorch tensors\n",
        "train_features = torch.tensor(train_features.values.astype(np.float32), dtype=torch.float32)\n",
        "test_features = torch.tensor(test_features.values.astype(np.float32), dtype=torch.float32)\n",
        "train_labels = torch.tensor(train_labels.values.reshape(-1, 1).astype(np.float32), dtype=torch.float32)"
      ],
      "metadata": {
        "id": "XcjojyA1r6g1"
      },
      "execution_count": null,
      "outputs": []
    },
    {
      "cell_type": "code",
      "execution_count": null,
      "metadata": {
        "ExecuteTime": {
          "end_time": "2023-08-14T16:46:13.162308500Z",
          "start_time": "2023-08-14T16:46:13.134614Z"
        },
        "id": "67Wx2_SOAFLh",
        "colab": {
          "base_uri": "https://localhost:8080/"
        },
        "outputId": "37dff948-a0e9-4d83-e158-7a36aedc0508"
      },
      "outputs": [
        {
          "output_type": "execute_result",
          "data": {
            "text/plain": [
              "tensor([[ 2.8500],\n",
              "        [12.3000],\n",
              "        [ 4.2000],\n",
              "        ...,\n",
              "        [ 6.0200],\n",
              "        [ 3.8370],\n",
              "        [ 5.5000]])"
            ]
          },
          "metadata": {},
          "execution_count": 24
        }
      ],
      "source": [
        "train_labels"
      ]
    },
    {
      "cell_type": "code",
      "source": [
        "train_labels.shape"
      ],
      "metadata": {
        "id": "-bc0cuKEjC5Z",
        "colab": {
          "base_uri": "https://localhost:8080/"
        },
        "outputId": "8796f4de-1439-4854-b3f2-9762917cf658"
      },
      "execution_count": null,
      "outputs": [
        {
          "output_type": "execute_result",
          "data": {
            "text/plain": [
              "torch.Size([11581, 1])"
            ]
          },
          "metadata": {},
          "execution_count": 23
        }
      ]
    },
    {
      "cell_type": "markdown",
      "source": [
        "---\n",
        "## Training and Validation\n",
        "\n",
        "To prevent overfitting, we'll split it our training data into training and validation. We will use validation set to select the appropriate model.\n",
        "One way is to use the [`train_test_split` function](https://scikit-learn.org/stable/modules/generated/sklearn.model_selection.train_test_split.html). You're more than welcome to use your own way."
      ],
      "metadata": {
        "id": "gBJ3mU_qLVRv"
      }
    },
    {
      "cell_type": "code",
      "source": [
        "#TODO: filling in the missing code to split train data into train and validation\n",
        "# Importing train_test_split function from sklearn for splitting data into training set and validation set\n",
        "from sklearn.model_selection import train_test_split\n",
        "\n",
        "# Splitting the training data: 20% is validation data\n",
        "train_features, valid_features, train_labels, valid_labels = train_test_split(train_features,train_labels,test_size=0.2)"
      ],
      "metadata": {
        "id": "kua2akLcLgLm"
      },
      "execution_count": null,
      "outputs": []
    },
    {
      "cell_type": "code",
      "source": [
        "print(train_features.shape)\n",
        "print(valid_features.shape)"
      ],
      "metadata": {
        "id": "W97WNbfULuGS",
        "colab": {
          "base_uri": "https://localhost:8080/"
        },
        "outputId": "8e282af5-eb54-42c3-ac2c-ef9c385e462e"
      },
      "execution_count": null,
      "outputs": [
        {
          "output_type": "stream",
          "name": "stdout",
          "text": [
            "torch.Size([9264, 105])\n",
            "torch.Size([2317, 105])\n"
          ]
        }
      ]
    },
    {
      "cell_type": "markdown",
      "source": [
        "---\n",
        "## DataLoaders and Batching\n",
        "\n",
        "After creating training, test, and validation data, we can create DataLoaders for this data by following two steps:\n",
        "1. Create a known format for accessing our data, using [TensorDataset](https://pytorch.org/docs/stable/data.html#torch.utils.data.TensorDataset) which takes in an input set of data and a target set of data with the same first dimension, and creates a dataset.\n",
        "2. Create DataLoaders and batch our training, validation, and test Tensor datasets. Note that we will shuffle the train data, so the model will not learn a particular order. For valid and test data, we do not shuffle."
      ],
      "metadata": {
        "id": "GpfNC1455HYf"
      }
    },
    {
      "cell_type": "code",
      "source": [
        "from torch.utils.data import TensorDataset, DataLoader\n",
        "train_data = TensorDataset(train_features, train_labels)\n",
        "train_loader = DataLoader(train_data, batch_size=128, shuffle=True)\n",
        "#TODO: create dataloader for validation data\n",
        "valid_data = TensorDataset(valid_features,valid_labels)\n",
        "valid_loader = DataLoader(valid_data,batch_size=128,shuffle=False)"
      ],
      "metadata": {
        "id": "iFnex-AG5hu6"
      },
      "execution_count": null,
      "outputs": []
    },
    {
      "cell_type": "code",
      "source": [
        "test_data = TensorDataset(test_features)\n",
        "test_loader = DataLoader(test_data, batch_size=128, shuffle=False)"
      ],
      "metadata": {
        "id": "k8LmCiW3S8cQ"
      },
      "execution_count": null,
      "outputs": []
    },
    {
      "cell_type": "markdown",
      "source": [
        "Let's take a batch to have a sanity check"
      ],
      "metadata": {
        "id": "IdAZUijCBb2U"
      }
    },
    {
      "cell_type": "code",
      "source": [
        "# obtain one batch of training data\n",
        "dataiter = iter(train_loader)\n",
        "features, labels = next(dataiter)\n",
        "\n",
        "print('Sample input size: ', features.size()) # batch_size, seq_length\n",
        "print('Sample input: \\n', features)\n",
        "print()\n",
        "print('Sample label size: ', labels.size()) # batch_size\n",
        "print('Sample label: \\n', labels)"
      ],
      "metadata": {
        "id": "TO2H6Wo1BbAB",
        "colab": {
          "base_uri": "https://localhost:8080/"
        },
        "outputId": "091d5cff-9c18-482c-8f6d-59d0e433db74"
      },
      "execution_count": null,
      "outputs": [
        {
          "output_type": "stream",
          "name": "stdout",
          "text": [
            "Sample input size:  torch.Size([128, 105])\n",
            "Sample input: \n",
            " tensor([[-0.3099, -0.6920, -0.8231,  ...,  0.0000,  0.0000,  0.0000],\n",
            "        [ 0.8175,  1.0287,  1.0161,  ...,  0.0000,  0.0000,  0.0000],\n",
            "        [-0.4393, -0.6920, -0.8231,  ...,  0.0000,  0.0000,  0.0000],\n",
            "        ...,\n",
            "        [-0.5110, -0.6920, -0.6352,  ...,  0.0000,  0.0000,  0.0000],\n",
            "        [-1.0255, -0.6920, -0.5557,  ...,  0.0000,  0.0000,  0.0000],\n",
            "        [-0.2354, -0.6920, -0.8231,  ...,  0.0000,  0.0000,  0.0000]])\n",
            "\n",
            "Sample label size:  torch.Size([128, 1])\n",
            "Sample label: \n",
            " tensor([[ 3.7600],\n",
            "        [ 4.0000],\n",
            "        [ 2.2300],\n",
            "        [ 6.8000],\n",
            "        [ 7.9500],\n",
            "        [ 5.3745],\n",
            "        [ 3.6895],\n",
            "        [ 1.3500],\n",
            "        [ 3.5500],\n",
            "        [ 3.4500],\n",
            "        [ 4.6000],\n",
            "        [ 3.0500],\n",
            "        [ 1.5327],\n",
            "        [ 6.3500],\n",
            "        [ 4.2500],\n",
            "        [ 2.3282],\n",
            "        [ 2.5500],\n",
            "        [15.2000],\n",
            "        [ 5.6250],\n",
            "        [ 2.9820],\n",
            "        [ 2.9500],\n",
            "        [ 3.6650],\n",
            "        [ 8.7500],\n",
            "        [ 5.8000],\n",
            "        [ 4.6000],\n",
            "        [ 3.0250],\n",
            "        [ 4.1000],\n",
            "        [ 4.7500],\n",
            "        [ 3.4900],\n",
            "        [ 4.2900],\n",
            "        [ 6.0000],\n",
            "        [ 3.3000],\n",
            "        [13.8500],\n",
            "        [ 3.5750],\n",
            "        [ 3.3672],\n",
            "        [ 3.3500],\n",
            "        [ 4.4045],\n",
            "        [ 1.8400],\n",
            "        [ 1.7700],\n",
            "        [ 6.8170],\n",
            "        [ 3.7500],\n",
            "        [ 3.5000],\n",
            "        [ 4.7400],\n",
            "        [ 9.3500],\n",
            "        [ 8.1300],\n",
            "        [ 4.1000],\n",
            "        [ 2.6490],\n",
            "        [ 4.9469],\n",
            "        [ 4.2600],\n",
            "        [ 3.9000],\n",
            "        [ 6.6000],\n",
            "        [ 4.2320],\n",
            "        [ 2.5785],\n",
            "        [ 4.1700],\n",
            "        [ 7.7500],\n",
            "        [ 4.8000],\n",
            "        [ 4.9500],\n",
            "        [ 3.7000],\n",
            "        [ 2.4000],\n",
            "        [ 8.0000],\n",
            "        [ 3.3000],\n",
            "        [ 4.5000],\n",
            "        [ 3.3000],\n",
            "        [ 6.2500],\n",
            "        [17.5000],\n",
            "        [ 4.4000],\n",
            "        [ 3.3500],\n",
            "        [ 9.1000],\n",
            "        [ 4.6700],\n",
            "        [ 4.7650],\n",
            "        [ 4.6081],\n",
            "        [ 2.6300],\n",
            "        [12.7500],\n",
            "        [ 5.4300],\n",
            "        [ 3.2000],\n",
            "        [ 1.8475],\n",
            "        [ 4.4900],\n",
            "        [ 4.0800],\n",
            "        [ 4.4000],\n",
            "        [ 3.8350],\n",
            "        [ 3.8500],\n",
            "        [ 5.3350],\n",
            "        [ 4.5120],\n",
            "        [ 3.1000],\n",
            "        [ 5.2900],\n",
            "        [ 3.8950],\n",
            "        [18.2500],\n",
            "        [ 6.1000],\n",
            "        [ 3.7500],\n",
            "        [ 1.6000],\n",
            "        [ 9.2500],\n",
            "        [ 4.4000],\n",
            "        [16.5000],\n",
            "        [ 6.2000],\n",
            "        [ 9.4500],\n",
            "        [ 2.8000],\n",
            "        [ 3.9900],\n",
            "        [ 2.1800],\n",
            "        [ 2.8500],\n",
            "        [ 4.8970],\n",
            "        [ 5.1000],\n",
            "        [10.3675],\n",
            "        [ 3.0000],\n",
            "        [ 6.8389],\n",
            "        [ 3.1400],\n",
            "        [ 3.2500],\n",
            "        [ 6.7500],\n",
            "        [ 3.3500],\n",
            "        [ 8.2500],\n",
            "        [ 3.0500],\n",
            "        [ 0.8750],\n",
            "        [15.0000],\n",
            "        [ 7.7760],\n",
            "        [ 7.7500],\n",
            "        [ 4.1500],\n",
            "        [ 5.0000],\n",
            "        [ 2.1250],\n",
            "        [ 5.3000],\n",
            "        [ 5.9500],\n",
            "        [ 3.3200],\n",
            "        [ 4.3500],\n",
            "        [ 2.7700],\n",
            "        [12.9500],\n",
            "        [ 4.3000],\n",
            "        [ 3.0000],\n",
            "        [ 4.1000],\n",
            "        [ 4.1000],\n",
            "        [ 3.2500]])\n"
          ]
        }
      ]
    },
    {
      "cell_type": "markdown",
      "source": [
        "---\n",
        "## Linear Regression as Benchmark\n",
        "\n",
        "Let us build a linear regression model as a benchmark. Note that the linear regression model can be viewed as a special instance of multi-layer perception with no hidden layer and a single output neuron."
      ],
      "metadata": {
        "id": "BQ7a1MTxbK_T"
      }
    },
    {
      "cell_type": "code",
      "source": [
        "# Build a linear regression model network\n",
        "import torch.nn as nn\n",
        "lin_net = nn.Linear(train_features.shape[1], 1)"
      ],
      "metadata": {
        "id": "ez55bAsjbOhq"
      },
      "execution_count": null,
      "outputs": []
    },
    {
      "cell_type": "markdown",
      "source": [
        "Let's print out the model achitecture."
      ],
      "metadata": {
        "id": "O1_ZsGNRfOVI"
      }
    },
    {
      "cell_type": "code",
      "source": [
        "lin_net"
      ],
      "metadata": {
        "id": "wYyVOBJIfPmE",
        "colab": {
          "base_uri": "https://localhost:8080/"
        },
        "outputId": "95ce58f4-4a2e-4a7e-9093-00c75386b12e"
      },
      "execution_count": null,
      "outputs": [
        {
          "output_type": "execute_result",
          "data": {
            "text/plain": [
              "Linear(in_features=105, out_features=1, bias=True)"
            ]
          },
          "metadata": {},
          "execution_count": 30
        }
      ]
    },
    {
      "cell_type": "markdown",
      "source": [
        "Let's take a batch and see the output"
      ],
      "metadata": {
        "id": "sjsqBCoGfTgk"
      }
    },
    {
      "cell_type": "code",
      "source": [
        "features, labels = next(dataiter)\n",
        "output=lin_net(features)\n",
        "output.shape,labels.shape"
      ],
      "metadata": {
        "id": "Jck1SXWWfWdy",
        "colab": {
          "base_uri": "https://localhost:8080/"
        },
        "outputId": "8dc1a2e4-970c-4d97-d888-fd8571d9d1ac"
      },
      "execution_count": null,
      "outputs": [
        {
          "output_type": "execute_result",
          "data": {
            "text/plain": [
              "(torch.Size([128, 1]), torch.Size([128, 1]))"
            ]
          },
          "metadata": {},
          "execution_count": 31
        }
      ]
    },
    {
      "cell_type": "markdown",
      "source": [
        "---\n",
        "## Train the model"
      ],
      "metadata": {
        "id": "4gP6KXY_TAR3"
      }
    },
    {
      "cell_type": "markdown",
      "source": [
        "First, we will use GPU training if it is availabe."
      ],
      "metadata": {
        "id": "2EBhmGZh4Gt9"
      }
    },
    {
      "cell_type": "code",
      "source": [
        "device = torch.device(\"cuda:0\" if torch.cuda.is_available() else \"cpu\")\n"
      ],
      "metadata": {
        "id": "CFheqQ4Q4L49"
      },
      "execution_count": null,
      "outputs": []
    },
    {
      "cell_type": "code",
      "source": [
        "lin_net = lin_net.to(device)"
      ],
      "metadata": {
        "id": "zdhMRpyIqo93"
      },
      "execution_count": null,
      "outputs": []
    },
    {
      "cell_type": "markdown",
      "source": [
        "Second, let us specify the loss function."
      ],
      "metadata": {
        "id": "SKEzpB5F5FCa"
      }
    },
    {
      "cell_type": "code",
      "source": [
        "#Since both the output and the label are real valued, we will use the standard mean-squared loss.\n",
        "criterion = nn.MSELoss()"
      ],
      "metadata": {
        "id": "_rEH9aVe4_7E"
      },
      "execution_count": null,
      "outputs": []
    },
    {
      "cell_type": "code",
      "source": [
        "def median_error_rate_loss(predictions, labels):\n",
        "    absolute_diff = torch.abs(predictions - labels)/labels\n",
        "    median_error_rate = torch.median(absolute_diff)\n",
        "    return median_error_rate\n",
        "\n",
        "criterion2 = median_error_rate_loss"
      ],
      "metadata": {
        "id": "3rgKGkCKDGGj"
      },
      "execution_count": null,
      "outputs": []
    },
    {
      "cell_type": "markdown",
      "source": [
        "Third, while we are using the mean-squared loss for training loss, we will use\n",
        "a different metric to measure the predictive performance.\n",
        "\n",
        "Note that with house prices, as with stock prices, we care about relative quantities more than absolute quantities. Thus we tend to care more about the relative error than about the absolute error. For instance, if our prediction is off by \\\\$100,000 when estimating the sale price of a house which is \\\\$125,000, then we are probably doing a horrible job. On the other hand, if we err by this amount for a house with sale price \\\\$2 million, this might represent a pretty  accurate prediction.\n",
        "\n",
        "To address this issue, we will use the median error rate (MER) used by [Zestimate](https://www.zillow.com/z/zestimate/) to measure the predictive performance. The error rate is defined as\n",
        "$$\n",
        "\\text{Error Rate} = \\left| \\frac{\\text{Predicted Price}-\\text{Actual Price}}{\\text{Actual Price}} \\right|\n",
        "$$\n",
        "The median error rate is defined as the median of error rates for all properties."
      ],
      "metadata": {
        "id": "YosuRJqr7VDG"
      }
    },
    {
      "cell_type": "markdown",
      "source": [
        "We are now ready to train the network. Let’s try training the model a bit longer: 200 epochs. To keep a record of how well the model does at each epoch, we will save the per-epoch training error and validation error in the training loop."
      ],
      "metadata": {
        "id": "TweT3hAxadKR"
      }
    },
    {
      "cell_type": "code",
      "source": [
        "#TODO: Write code to train the network and save training and validation error.\n",
        "from torch import nn, optim\n",
        "optimizer = optim.SGD(lin_net.parameters(),lr=0.005)\n",
        "\n",
        "epochs = 200\n",
        "train_losses = []\n",
        "test_losses=[]\n",
        "for e in range(epochs):\n",
        "  tot_train_loss = 0\n",
        "  for features, labels in train_loader:\n",
        "\n",
        "    features = features.to(device)\n",
        "    labels = labels.to(device)\n",
        "\n",
        "    optimizer.zero_grad()\n",
        "\n",
        "    output = lin_net(features)\n",
        "    loss = criterion2(output,labels)\n",
        "    loss.backward()\n",
        "    optimizer.step()\n",
        "\n",
        "    tot_train_loss += loss.item()\n",
        "  else:\n",
        "    tot_test_loss = 0\n",
        "    with torch.no_grad():\n",
        "      lin_net.eval()\n",
        "      for features, labels in valid_loader:\n",
        "\n",
        "        features = features.to(device)\n",
        "        labels = labels.to(device)\n",
        "        output = lin_net(features)\n",
        "        loss = criterion2(output,labels)\n",
        "        tot_test_loss += loss.item()\n",
        "\n",
        "    lin_net.train()\n",
        "    train_loss = tot_train_loss/len(train_loader)\n",
        "    test_loss = tot_test_loss / len(valid_loader)\n",
        "    train_losses.append(train_loss)\n",
        "    test_losses.append(test_loss)\n",
        "\n",
        "    print(\"Epoch: {}/{}.. \".format(e+1, epochs),\n",
        "          \"Training Loss: {:.3f}.. \".format(train_loss),\n",
        "          \"Test Loss: {:.3f}.. \".format(test_loss),\n",
        "          )\n"
      ],
      "metadata": {
        "id": "n83k2GL-3Mnh",
        "colab": {
          "base_uri": "https://localhost:8080/"
        },
        "outputId": "61f92206-7b62-4e04-eb4b-3c04b76c971d"
      },
      "execution_count": null,
      "outputs": [
        {
          "output_type": "stream",
          "name": "stdout",
          "text": [
            "Epoch: 1/200..  Training Loss: 0.986..  Test Loss: 0.966.. \n",
            "Epoch: 2/200..  Training Loss: 0.944..  Test Loss: 0.932.. \n",
            "Epoch: 3/200..  Training Loss: 0.907..  Test Loss: 0.896.. \n",
            "Epoch: 4/200..  Training Loss: 0.867..  Test Loss: 0.862.. \n",
            "Epoch: 5/200..  Training Loss: 0.830..  Test Loss: 0.826.. \n",
            "Epoch: 6/200..  Training Loss: 0.792..  Test Loss: 0.793.. \n",
            "Epoch: 7/200..  Training Loss: 0.756..  Test Loss: 0.755.. \n",
            "Epoch: 8/200..  Training Loss: 0.719..  Test Loss: 0.722.. \n",
            "Epoch: 9/200..  Training Loss: 0.683..  Test Loss: 0.692.. \n",
            "Epoch: 10/200..  Training Loss: 0.648..  Test Loss: 0.657.. \n",
            "Epoch: 11/200..  Training Loss: 0.615..  Test Loss: 0.634.. \n",
            "Epoch: 12/200..  Training Loss: 0.589..  Test Loss: 0.608.. \n",
            "Epoch: 13/200..  Training Loss: 0.563..  Test Loss: 0.589.. \n",
            "Epoch: 14/200..  Training Loss: 0.542..  Test Loss: 0.571.. \n",
            "Epoch: 15/200..  Training Loss: 0.523..  Test Loss: 0.556.. \n",
            "Epoch: 16/200..  Training Loss: 0.502..  Test Loss: 0.538.. \n",
            "Epoch: 17/200..  Training Loss: 0.487..  Test Loss: 0.531.. \n",
            "Epoch: 18/200..  Training Loss: 0.475..  Test Loss: 0.499.. \n",
            "Epoch: 19/200..  Training Loss: 0.464..  Test Loss: 0.485.. \n",
            "Epoch: 20/200..  Training Loss: 0.451..  Test Loss: 0.470.. \n",
            "Epoch: 21/200..  Training Loss: 0.434..  Test Loss: 0.466.. \n",
            "Epoch: 22/200..  Training Loss: 0.422..  Test Loss: 0.453.. \n",
            "Epoch: 23/200..  Training Loss: 0.407..  Test Loss: 0.442.. \n",
            "Epoch: 24/200..  Training Loss: 0.398..  Test Loss: 0.421.. \n",
            "Epoch: 25/200..  Training Loss: 0.387..  Test Loss: 0.415.. \n",
            "Epoch: 26/200..  Training Loss: 0.380..  Test Loss: 0.404.. \n",
            "Epoch: 27/200..  Training Loss: 0.366..  Test Loss: 0.389.. \n",
            "Epoch: 28/200..  Training Loss: 0.356..  Test Loss: 0.378.. \n",
            "Epoch: 29/200..  Training Loss: 0.345..  Test Loss: 0.363.. \n",
            "Epoch: 30/200..  Training Loss: 0.333..  Test Loss: 0.350.. \n",
            "Epoch: 31/200..  Training Loss: 0.321..  Test Loss: 0.338.. \n",
            "Epoch: 32/200..  Training Loss: 0.313..  Test Loss: 0.328.. \n",
            "Epoch: 33/200..  Training Loss: 0.305..  Test Loss: 0.320.. \n",
            "Epoch: 34/200..  Training Loss: 0.296..  Test Loss: 0.314.. \n",
            "Epoch: 35/200..  Training Loss: 0.288..  Test Loss: 0.312.. \n",
            "Epoch: 36/200..  Training Loss: 0.283..  Test Loss: 0.300.. \n",
            "Epoch: 37/200..  Training Loss: 0.277..  Test Loss: 0.294.. \n",
            "Epoch: 38/200..  Training Loss: 0.269..  Test Loss: 0.288.. \n",
            "Epoch: 39/200..  Training Loss: 0.267..  Test Loss: 0.281.. \n",
            "Epoch: 40/200..  Training Loss: 0.261..  Test Loss: 0.275.. \n",
            "Epoch: 41/200..  Training Loss: 0.256..  Test Loss: 0.272.. \n",
            "Epoch: 42/200..  Training Loss: 0.252..  Test Loss: 0.260.. \n",
            "Epoch: 43/200..  Training Loss: 0.250..  Test Loss: 0.256.. \n",
            "Epoch: 44/200..  Training Loss: 0.244..  Test Loss: 0.253.. \n",
            "Epoch: 45/200..  Training Loss: 0.242..  Test Loss: 0.246.. \n",
            "Epoch: 46/200..  Training Loss: 0.237..  Test Loss: 0.240.. \n",
            "Epoch: 47/200..  Training Loss: 0.236..  Test Loss: 0.240.. \n",
            "Epoch: 48/200..  Training Loss: 0.233..  Test Loss: 0.239.. \n",
            "Epoch: 49/200..  Training Loss: 0.230..  Test Loss: 0.235.. \n",
            "Epoch: 50/200..  Training Loss: 0.227..  Test Loss: 0.233.. \n",
            "Epoch: 51/200..  Training Loss: 0.226..  Test Loss: 0.232.. \n",
            "Epoch: 52/200..  Training Loss: 0.222..  Test Loss: 0.230.. \n",
            "Epoch: 53/200..  Training Loss: 0.220..  Test Loss: 0.228.. \n",
            "Epoch: 54/200..  Training Loss: 0.219..  Test Loss: 0.224.. \n",
            "Epoch: 55/200..  Training Loss: 0.220..  Test Loss: 0.221.. \n",
            "Epoch: 56/200..  Training Loss: 0.216..  Test Loss: 0.219.. \n",
            "Epoch: 57/200..  Training Loss: 0.215..  Test Loss: 0.217.. \n",
            "Epoch: 58/200..  Training Loss: 0.215..  Test Loss: 0.217.. \n",
            "Epoch: 59/200..  Training Loss: 0.213..  Test Loss: 0.216.. \n",
            "Epoch: 60/200..  Training Loss: 0.213..  Test Loss: 0.215.. \n",
            "Epoch: 61/200..  Training Loss: 0.211..  Test Loss: 0.211.. \n",
            "Epoch: 62/200..  Training Loss: 0.213..  Test Loss: 0.212.. \n",
            "Epoch: 63/200..  Training Loss: 0.213..  Test Loss: 0.211.. \n",
            "Epoch: 64/200..  Training Loss: 0.213..  Test Loss: 0.209.. \n",
            "Epoch: 65/200..  Training Loss: 0.212..  Test Loss: 0.209.. \n",
            "Epoch: 66/200..  Training Loss: 0.210..  Test Loss: 0.207.. \n",
            "Epoch: 67/200..  Training Loss: 0.206..  Test Loss: 0.207.. \n",
            "Epoch: 68/200..  Training Loss: 0.208..  Test Loss: 0.205.. \n",
            "Epoch: 69/200..  Training Loss: 0.206..  Test Loss: 0.204.. \n",
            "Epoch: 70/200..  Training Loss: 0.208..  Test Loss: 0.204.. \n",
            "Epoch: 71/200..  Training Loss: 0.206..  Test Loss: 0.205.. \n",
            "Epoch: 72/200..  Training Loss: 0.206..  Test Loss: 0.204.. \n",
            "Epoch: 73/200..  Training Loss: 0.204..  Test Loss: 0.204.. \n",
            "Epoch: 74/200..  Training Loss: 0.203..  Test Loss: 0.201.. \n",
            "Epoch: 75/200..  Training Loss: 0.202..  Test Loss: 0.201.. \n",
            "Epoch: 76/200..  Training Loss: 0.202..  Test Loss: 0.202.. \n",
            "Epoch: 77/200..  Training Loss: 0.202..  Test Loss: 0.201.. \n",
            "Epoch: 78/200..  Training Loss: 0.202..  Test Loss: 0.202.. \n",
            "Epoch: 79/200..  Training Loss: 0.201..  Test Loss: 0.199.. \n",
            "Epoch: 80/200..  Training Loss: 0.199..  Test Loss: 0.201.. \n",
            "Epoch: 81/200..  Training Loss: 0.201..  Test Loss: 0.198.. \n",
            "Epoch: 82/200..  Training Loss: 0.201..  Test Loss: 0.198.. \n",
            "Epoch: 83/200..  Training Loss: 0.199..  Test Loss: 0.196.. \n",
            "Epoch: 84/200..  Training Loss: 0.197..  Test Loss: 0.195.. \n",
            "Epoch: 85/200..  Training Loss: 0.197..  Test Loss: 0.197.. \n",
            "Epoch: 86/200..  Training Loss: 0.196..  Test Loss: 0.196.. \n",
            "Epoch: 87/200..  Training Loss: 0.196..  Test Loss: 0.194.. \n",
            "Epoch: 88/200..  Training Loss: 0.195..  Test Loss: 0.194.. \n",
            "Epoch: 89/200..  Training Loss: 0.195..  Test Loss: 0.196.. \n",
            "Epoch: 90/200..  Training Loss: 0.195..  Test Loss: 0.195.. \n",
            "Epoch: 91/200..  Training Loss: 0.194..  Test Loss: 0.195.. \n",
            "Epoch: 92/200..  Training Loss: 0.196..  Test Loss: 0.195.. \n",
            "Epoch: 93/200..  Training Loss: 0.193..  Test Loss: 0.194.. \n",
            "Epoch: 94/200..  Training Loss: 0.195..  Test Loss: 0.192.. \n",
            "Epoch: 95/200..  Training Loss: 0.193..  Test Loss: 0.191.. \n",
            "Epoch: 96/200..  Training Loss: 0.193..  Test Loss: 0.191.. \n",
            "Epoch: 97/200..  Training Loss: 0.192..  Test Loss: 0.188.. \n",
            "Epoch: 98/200..  Training Loss: 0.190..  Test Loss: 0.189.. \n",
            "Epoch: 99/200..  Training Loss: 0.190..  Test Loss: 0.187.. \n",
            "Epoch: 100/200..  Training Loss: 0.189..  Test Loss: 0.188.. \n",
            "Epoch: 101/200..  Training Loss: 0.190..  Test Loss: 0.186.. \n",
            "Epoch: 102/200..  Training Loss: 0.190..  Test Loss: 0.188.. \n",
            "Epoch: 103/200..  Training Loss: 0.188..  Test Loss: 0.186.. \n",
            "Epoch: 104/200..  Training Loss: 0.187..  Test Loss: 0.188.. \n",
            "Epoch: 105/200..  Training Loss: 0.188..  Test Loss: 0.184.. \n",
            "Epoch: 106/200..  Training Loss: 0.186..  Test Loss: 0.184.. \n",
            "Epoch: 107/200..  Training Loss: 0.187..  Test Loss: 0.185.. \n",
            "Epoch: 108/200..  Training Loss: 0.189..  Test Loss: 0.184.. \n",
            "Epoch: 109/200..  Training Loss: 0.187..  Test Loss: 0.182.. \n",
            "Epoch: 110/200..  Training Loss: 0.186..  Test Loss: 0.183.. \n",
            "Epoch: 111/200..  Training Loss: 0.187..  Test Loss: 0.181.. \n",
            "Epoch: 112/200..  Training Loss: 0.186..  Test Loss: 0.182.. \n",
            "Epoch: 113/200..  Training Loss: 0.188..  Test Loss: 0.182.. \n",
            "Epoch: 114/200..  Training Loss: 0.187..  Test Loss: 0.182.. \n",
            "Epoch: 115/200..  Training Loss: 0.185..  Test Loss: 0.180.. \n",
            "Epoch: 116/200..  Training Loss: 0.183..  Test Loss: 0.182.. \n",
            "Epoch: 117/200..  Training Loss: 0.186..  Test Loss: 0.183.. \n",
            "Epoch: 118/200..  Training Loss: 0.184..  Test Loss: 0.187.. \n",
            "Epoch: 119/200..  Training Loss: 0.183..  Test Loss: 0.183.. \n",
            "Epoch: 120/200..  Training Loss: 0.182..  Test Loss: 0.183.. \n",
            "Epoch: 121/200..  Training Loss: 0.184..  Test Loss: 0.185.. \n",
            "Epoch: 122/200..  Training Loss: 0.183..  Test Loss: 0.180.. \n",
            "Epoch: 123/200..  Training Loss: 0.181..  Test Loss: 0.185.. \n",
            "Epoch: 124/200..  Training Loss: 0.183..  Test Loss: 0.186.. \n",
            "Epoch: 125/200..  Training Loss: 0.184..  Test Loss: 0.190.. \n",
            "Epoch: 126/200..  Training Loss: 0.183..  Test Loss: 0.184.. \n",
            "Epoch: 127/200..  Training Loss: 0.181..  Test Loss: 0.181.. \n",
            "Epoch: 128/200..  Training Loss: 0.182..  Test Loss: 0.180.. \n",
            "Epoch: 129/200..  Training Loss: 0.183..  Test Loss: 0.181.. \n",
            "Epoch: 130/200..  Training Loss: 0.181..  Test Loss: 0.184.. \n",
            "Epoch: 131/200..  Training Loss: 0.180..  Test Loss: 0.184.. \n",
            "Epoch: 132/200..  Training Loss: 0.182..  Test Loss: 0.182.. \n",
            "Epoch: 133/200..  Training Loss: 0.180..  Test Loss: 0.181.. \n",
            "Epoch: 134/200..  Training Loss: 0.179..  Test Loss: 0.181.. \n",
            "Epoch: 135/200..  Training Loss: 0.179..  Test Loss: 0.183.. \n",
            "Epoch: 136/200..  Training Loss: 0.180..  Test Loss: 0.181.. \n",
            "Epoch: 137/200..  Training Loss: 0.180..  Test Loss: 0.181.. \n",
            "Epoch: 138/200..  Training Loss: 0.181..  Test Loss: 0.178.. \n",
            "Epoch: 139/200..  Training Loss: 0.178..  Test Loss: 0.178.. \n",
            "Epoch: 140/200..  Training Loss: 0.177..  Test Loss: 0.179.. \n",
            "Epoch: 141/200..  Training Loss: 0.177..  Test Loss: 0.177.. \n",
            "Epoch: 142/200..  Training Loss: 0.178..  Test Loss: 0.178.. \n",
            "Epoch: 143/200..  Training Loss: 0.179..  Test Loss: 0.179.. \n",
            "Epoch: 144/200..  Training Loss: 0.179..  Test Loss: 0.178.. \n",
            "Epoch: 145/200..  Training Loss: 0.178..  Test Loss: 0.179.. \n",
            "Epoch: 146/200..  Training Loss: 0.177..  Test Loss: 0.179.. \n",
            "Epoch: 147/200..  Training Loss: 0.176..  Test Loss: 0.177.. \n",
            "Epoch: 148/200..  Training Loss: 0.179..  Test Loss: 0.178.. \n",
            "Epoch: 149/200..  Training Loss: 0.176..  Test Loss: 0.177.. \n",
            "Epoch: 150/200..  Training Loss: 0.176..  Test Loss: 0.177.. \n",
            "Epoch: 151/200..  Training Loss: 0.177..  Test Loss: 0.177.. \n",
            "Epoch: 152/200..  Training Loss: 0.176..  Test Loss: 0.176.. \n",
            "Epoch: 153/200..  Training Loss: 0.176..  Test Loss: 0.176.. \n",
            "Epoch: 154/200..  Training Loss: 0.175..  Test Loss: 0.180.. \n",
            "Epoch: 155/200..  Training Loss: 0.175..  Test Loss: 0.175.. \n",
            "Epoch: 156/200..  Training Loss: 0.175..  Test Loss: 0.176.. \n",
            "Epoch: 157/200..  Training Loss: 0.176..  Test Loss: 0.180.. \n",
            "Epoch: 158/200..  Training Loss: 0.176..  Test Loss: 0.179.. \n",
            "Epoch: 159/200..  Training Loss: 0.175..  Test Loss: 0.174.. \n",
            "Epoch: 160/200..  Training Loss: 0.173..  Test Loss: 0.179.. \n",
            "Epoch: 161/200..  Training Loss: 0.175..  Test Loss: 0.174.. \n",
            "Epoch: 162/200..  Training Loss: 0.174..  Test Loss: 0.178.. \n",
            "Epoch: 163/200..  Training Loss: 0.173..  Test Loss: 0.179.. \n",
            "Epoch: 164/200..  Training Loss: 0.175..  Test Loss: 0.179.. \n",
            "Epoch: 165/200..  Training Loss: 0.174..  Test Loss: 0.176.. \n",
            "Epoch: 166/200..  Training Loss: 0.174..  Test Loss: 0.177.. \n",
            "Epoch: 167/200..  Training Loss: 0.173..  Test Loss: 0.181.. \n",
            "Epoch: 168/200..  Training Loss: 0.175..  Test Loss: 0.182.. \n",
            "Epoch: 169/200..  Training Loss: 0.174..  Test Loss: 0.175.. \n",
            "Epoch: 170/200..  Training Loss: 0.172..  Test Loss: 0.174.. \n",
            "Epoch: 171/200..  Training Loss: 0.172..  Test Loss: 0.175.. \n",
            "Epoch: 172/200..  Training Loss: 0.173..  Test Loss: 0.175.. \n",
            "Epoch: 173/200..  Training Loss: 0.174..  Test Loss: 0.173.. \n",
            "Epoch: 174/200..  Training Loss: 0.173..  Test Loss: 0.172.. \n",
            "Epoch: 175/200..  Training Loss: 0.173..  Test Loss: 0.175.. \n",
            "Epoch: 176/200..  Training Loss: 0.173..  Test Loss: 0.176.. \n",
            "Epoch: 177/200..  Training Loss: 0.172..  Test Loss: 0.172.. \n",
            "Epoch: 178/200..  Training Loss: 0.174..  Test Loss: 0.170.. \n",
            "Epoch: 179/200..  Training Loss: 0.174..  Test Loss: 0.171.. \n",
            "Epoch: 180/200..  Training Loss: 0.174..  Test Loss: 0.172.. \n",
            "Epoch: 181/200..  Training Loss: 0.177..  Test Loss: 0.172.. \n",
            "Epoch: 182/200..  Training Loss: 0.175..  Test Loss: 0.171.. \n",
            "Epoch: 183/200..  Training Loss: 0.173..  Test Loss: 0.177.. \n",
            "Epoch: 184/200..  Training Loss: 0.171..  Test Loss: 0.174.. \n",
            "Epoch: 185/200..  Training Loss: 0.170..  Test Loss: 0.175.. \n",
            "Epoch: 186/200..  Training Loss: 0.171..  Test Loss: 0.177.. \n",
            "Epoch: 187/200..  Training Loss: 0.171..  Test Loss: 0.178.. \n",
            "Epoch: 188/200..  Training Loss: 0.170..  Test Loss: 0.175.. \n",
            "Epoch: 189/200..  Training Loss: 0.170..  Test Loss: 0.175.. \n",
            "Epoch: 190/200..  Training Loss: 0.170..  Test Loss: 0.174.. \n",
            "Epoch: 191/200..  Training Loss: 0.169..  Test Loss: 0.177.. \n",
            "Epoch: 192/200..  Training Loss: 0.168..  Test Loss: 0.173.. \n",
            "Epoch: 193/200..  Training Loss: 0.169..  Test Loss: 0.175.. \n",
            "Epoch: 194/200..  Training Loss: 0.169..  Test Loss: 0.172.. \n",
            "Epoch: 195/200..  Training Loss: 0.171..  Test Loss: 0.174.. \n",
            "Epoch: 196/200..  Training Loss: 0.169..  Test Loss: 0.175.. \n",
            "Epoch: 197/200..  Training Loss: 0.168..  Test Loss: 0.175.. \n",
            "Epoch: 198/200..  Training Loss: 0.170..  Test Loss: 0.176.. \n",
            "Epoch: 199/200..  Training Loss: 0.170..  Test Loss: 0.170.. \n",
            "Epoch: 200/200..  Training Loss: 0.169..  Test Loss: 0.169.. \n"
          ]
        }
      ]
    },
    {
      "cell_type": "markdown",
      "source": [
        "Define a function to plot errors."
      ],
      "metadata": {
        "id": "DXRA3VrD5--n"
      }
    },
    {
      "cell_type": "code",
      "source": [
        "#TODO: Write code to plot the training and vadliation errors (MER) over epochs\n",
        "import matplotlib.pyplot as plt\n",
        "plt.plot(train_losses, label='Training Errors')\n",
        "plt.plot(test_losses, label='Validation Errors')\n",
        "plt.legend(frameon=False)\n"
      ],
      "metadata": {
        "id": "rYbMwpcn5-HR",
        "colab": {
          "base_uri": "https://localhost:8080/"
        },
        "outputId": "6fefdb43-108e-4837-c98c-27e64d256ccf"
      },
      "execution_count": null,
      "outputs": [
        {
          "output_type": "execute_result",
          "data": {
            "text/plain": [
              "<matplotlib.legend.Legend at 0x7ce77a52bee0>"
            ]
          },
          "metadata": {},
          "execution_count": 40
        },
        {
          "output_type": "display_data",
          "data": {
            "text/plain": [
              "<Figure size 640x480 with 1 Axes>"
            ],
            "image/png": "[encoded data removed]"
          },
          "metadata": {}
        }
      ]
    },
    {
      "cell_type": "markdown",
      "source": [
        "---\n",
        "## Build the Multi-layer Perceptron Base Model"
      ],
      "metadata": {
        "id": "vsxR1nrM1yFH"
      }
    },
    {
      "cell_type": "markdown",
      "source": [
        "In the following, we build a multi-layer perception model with 2 hidden layers of sizes 256 and 128, respectively and ReLu activations."
      ],
      "metadata": {
        "id": "2hZc2xpgZxmj"
      }
    },
    {
      "cell_type": "code",
      "source": [
        "# Build a feed-forward network\n",
        "import torch.nn as nn\n",
        "model = nn.Sequential(nn.Linear(train_features.shape[1], 256),\n",
        "                      nn.ReLU(),\n",
        "                      nn.Linear(256, 128),\n",
        "                      nn.ReLU(),\n",
        "                      nn.Linear(128,1))"
      ],
      "metadata": {
        "id": "8tYjrMNm2FXP"
      },
      "execution_count": null,
      "outputs": []
    },
    {
      "cell_type": "markdown",
      "source": [
        "Let's print out the model achitecture."
      ],
      "metadata": {
        "id": "XHmRp7esaFWI"
      }
    },
    {
      "cell_type": "code",
      "source": [
        "model"
      ],
      "metadata": {
        "id": "c_QdNFsAZ_L5",
        "colab": {
          "base_uri": "https://localhost:8080/"
        },
        "outputId": "9ac916c3-5d7c-40b7-80e5-b57bdd158f6c"
      },
      "execution_count": null,
      "outputs": [
        {
          "output_type": "execute_result",
          "data": {
            "text/plain": [
              "Sequential(\n",
              "  (0): Linear(in_features=105, out_features=256, bias=True)\n",
              "  (1): ReLU()\n",
              "  (2): Linear(in_features=256, out_features=128, bias=True)\n",
              "  (3): ReLU()\n",
              "  (4): Linear(in_features=128, out_features=1, bias=True)\n",
              ")"
            ]
          },
          "metadata": {},
          "execution_count": 42
        }
      ]
    },
    {
      "cell_type": "code",
      "source": [
        "model = model.to(device)"
      ],
      "metadata": {
        "id": "HiraJa-zf5LZ"
      },
      "execution_count": null,
      "outputs": []
    },
    {
      "cell_type": "code",
      "source": [
        "#TODO: write code to train the MLP network and save training and validation error.\n",
        "optimizer = optim.SGD(model.parameters(),lr=0.008)\n",
        "\n",
        "epochs = 200\n",
        "train_losses = []\n",
        "test_losses=[]\n",
        "for e in range(epochs):\n",
        "  tot_train_loss = 0\n",
        "  for features, labels in train_loader:\n",
        "\n",
        "    features = features.to(device)\n",
        "    labels = labels.to(device)\n",
        "\n",
        "    optimizer.zero_grad()\n",
        "\n",
        "    output = model(features)\n",
        "    loss = criterion2(output,labels)\n",
        "    loss.backward()\n",
        "    optimizer.step()\n",
        "\n",
        "    tot_train_loss += loss.item()\n",
        "  else:\n",
        "    tot_test_loss = 0\n",
        "    with torch.no_grad():\n",
        "      model.eval()\n",
        "      for features, labels in valid_loader:\n",
        "\n",
        "        features = features.to(device)\n",
        "        labels = labels.to(device)\n",
        "        output = model(features)\n",
        "        loss = criterion2(output,labels)\n",
        "        tot_test_loss += loss.item()\n",
        "\n",
        "    model.train()\n",
        "    train_loss = tot_train_loss/len(train_loader)\n",
        "    test_loss = tot_test_loss / len(valid_loader)\n",
        "    train_losses.append(train_loss)\n",
        "    test_losses.append(test_loss)\n",
        "\n",
        "    print(\"Epoch: {}/{}.. \".format(e+1, epochs),\n",
        "          \"Training Loss: {:.3f}.. \".format(train_loss),\n",
        "          \"Test Loss: {:.3f}.. \".format(test_loss),\n",
        "          )"
      ],
      "metadata": {
        "id": "Ivqg6xw_f9H-",
        "colab": {
          "base_uri": "https://localhost:8080/"
        },
        "outputId": "0a02e30f-8a8b-423a-b3ca-d85659303540"
      },
      "execution_count": null,
      "outputs": [
        {
          "output_type": "stream",
          "name": "stdout",
          "text": [
            "Epoch: 1/200..  Training Loss: 0.964..  Test Loss: 0.939.. \n",
            "Epoch: 2/200..  Training Loss: 0.905..  Test Loss: 0.878.. \n",
            "Epoch: 3/200..  Training Loss: 0.834..  Test Loss: 0.800.. \n",
            "Epoch: 4/200..  Training Loss: 0.738..  Test Loss: 0.691.. \n",
            "Epoch: 5/200..  Training Loss: 0.602..  Test Loss: 0.528.. \n",
            "Epoch: 6/200..  Training Loss: 0.428..  Test Loss: 0.373.. \n",
            "Epoch: 7/200..  Training Loss: 0.323..  Test Loss: 0.303.. \n",
            "Epoch: 8/200..  Training Loss: 0.271..  Test Loss: 0.262.. \n",
            "Epoch: 9/200..  Training Loss: 0.251..  Test Loss: 0.246.. \n",
            "Epoch: 10/200..  Training Loss: 0.237..  Test Loss: 0.236.. \n",
            "Epoch: 11/200..  Training Loss: 0.234..  Test Loss: 0.232.. \n",
            "Epoch: 12/200..  Training Loss: 0.225..  Test Loss: 0.219.. \n",
            "Epoch: 13/200..  Training Loss: 0.217..  Test Loss: 0.215.. \n",
            "Epoch: 14/200..  Training Loss: 0.214..  Test Loss: 0.214.. \n",
            "Epoch: 15/200..  Training Loss: 0.209..  Test Loss: 0.208.. \n",
            "Epoch: 16/200..  Training Loss: 0.207..  Test Loss: 0.211.. \n",
            "Epoch: 17/200..  Training Loss: 0.204..  Test Loss: 0.206.. \n",
            "Epoch: 18/200..  Training Loss: 0.198..  Test Loss: 0.205.. \n",
            "Epoch: 19/200..  Training Loss: 0.199..  Test Loss: 0.205.. \n",
            "Epoch: 20/200..  Training Loss: 0.197..  Test Loss: 0.200.. \n",
            "Epoch: 21/200..  Training Loss: 0.197..  Test Loss: 0.196.. \n",
            "Epoch: 22/200..  Training Loss: 0.191..  Test Loss: 0.189.. \n",
            "Epoch: 23/200..  Training Loss: 0.191..  Test Loss: 0.193.. \n",
            "Epoch: 24/200..  Training Loss: 0.187..  Test Loss: 0.194.. \n",
            "Epoch: 25/200..  Training Loss: 0.186..  Test Loss: 0.189.. \n",
            "Epoch: 26/200..  Training Loss: 0.183..  Test Loss: 0.185.. \n",
            "Epoch: 27/200..  Training Loss: 0.184..  Test Loss: 0.189.. \n",
            "Epoch: 28/200..  Training Loss: 0.187..  Test Loss: 0.182.. \n",
            "Epoch: 29/200..  Training Loss: 0.181..  Test Loss: 0.180.. \n",
            "Epoch: 30/200..  Training Loss: 0.179..  Test Loss: 0.173.. \n",
            "Epoch: 31/200..  Training Loss: 0.177..  Test Loss: 0.175.. \n",
            "Epoch: 32/200..  Training Loss: 0.174..  Test Loss: 0.183.. \n",
            "Epoch: 33/200..  Training Loss: 0.176..  Test Loss: 0.174.. \n",
            "Epoch: 34/200..  Training Loss: 0.175..  Test Loss: 0.178.. \n",
            "Epoch: 35/200..  Training Loss: 0.172..  Test Loss: 0.174.. \n",
            "Epoch: 36/200..  Training Loss: 0.170..  Test Loss: 0.163.. \n",
            "Epoch: 37/200..  Training Loss: 0.167..  Test Loss: 0.162.. \n",
            "Epoch: 38/200..  Training Loss: 0.164..  Test Loss: 0.163.. \n",
            "Epoch: 39/200..  Training Loss: 0.164..  Test Loss: 0.164.. \n",
            "Epoch: 40/200..  Training Loss: 0.164..  Test Loss: 0.169.. \n",
            "Epoch: 41/200..  Training Loss: 0.172..  Test Loss: 0.172.. \n",
            "Epoch: 42/200..  Training Loss: 0.164..  Test Loss: 0.169.. \n",
            "Epoch: 43/200..  Training Loss: 0.164..  Test Loss: 0.161.. \n",
            "Epoch: 44/200..  Training Loss: 0.160..  Test Loss: 0.162.. \n",
            "Epoch: 45/200..  Training Loss: 0.160..  Test Loss: 0.162.. \n",
            "Epoch: 46/200..  Training Loss: 0.159..  Test Loss: 0.161.. \n",
            "Epoch: 47/200..  Training Loss: 0.159..  Test Loss: 0.159.. \n",
            "Epoch: 48/200..  Training Loss: 0.156..  Test Loss: 0.156.. \n",
            "Epoch: 49/200..  Training Loss: 0.155..  Test Loss: 0.162.. \n",
            "Epoch: 50/200..  Training Loss: 0.154..  Test Loss: 0.166.. \n",
            "Epoch: 51/200..  Training Loss: 0.160..  Test Loss: 0.160.. \n",
            "Epoch: 52/200..  Training Loss: 0.153..  Test Loss: 0.160.. \n",
            "Epoch: 53/200..  Training Loss: 0.156..  Test Loss: 0.160.. \n",
            "Epoch: 54/200..  Training Loss: 0.156..  Test Loss: 0.162.. \n",
            "Epoch: 55/200..  Training Loss: 0.154..  Test Loss: 0.156.. \n",
            "Epoch: 56/200..  Training Loss: 0.153..  Test Loss: 0.161.. \n",
            "Epoch: 57/200..  Training Loss: 0.153..  Test Loss: 0.153.. \n",
            "Epoch: 58/200..  Training Loss: 0.151..  Test Loss: 0.146.. \n",
            "Epoch: 59/200..  Training Loss: 0.153..  Test Loss: 0.155.. \n",
            "Epoch: 60/200..  Training Loss: 0.149..  Test Loss: 0.151.. \n",
            "Epoch: 61/200..  Training Loss: 0.148..  Test Loss: 0.144.. \n",
            "Epoch: 62/200..  Training Loss: 0.150..  Test Loss: 0.150.. \n",
            "Epoch: 63/200..  Training Loss: 0.149..  Test Loss: 0.151.. \n",
            "Epoch: 64/200..  Training Loss: 0.146..  Test Loss: 0.144.. \n",
            "Epoch: 65/200..  Training Loss: 0.146..  Test Loss: 0.150.. \n",
            "Epoch: 66/200..  Training Loss: 0.145..  Test Loss: 0.151.. \n",
            "Epoch: 67/200..  Training Loss: 0.145..  Test Loss: 0.155.. \n",
            "Epoch: 68/200..  Training Loss: 0.144..  Test Loss: 0.151.. \n",
            "Epoch: 69/200..  Training Loss: 0.145..  Test Loss: 0.145.. \n",
            "Epoch: 70/200..  Training Loss: 0.144..  Test Loss: 0.152.. \n",
            "Epoch: 71/200..  Training Loss: 0.142..  Test Loss: 0.148.. \n",
            "Epoch: 72/200..  Training Loss: 0.141..  Test Loss: 0.151.. \n",
            "Epoch: 73/200..  Training Loss: 0.141..  Test Loss: 0.145.. \n",
            "Epoch: 74/200..  Training Loss: 0.141..  Test Loss: 0.153.. \n",
            "Epoch: 75/200..  Training Loss: 0.142..  Test Loss: 0.148.. \n",
            "Epoch: 76/200..  Training Loss: 0.142..  Test Loss: 0.151.. \n",
            "Epoch: 77/200..  Training Loss: 0.141..  Test Loss: 0.145.. \n",
            "Epoch: 78/200..  Training Loss: 0.138..  Test Loss: 0.144.. \n",
            "Epoch: 79/200..  Training Loss: 0.141..  Test Loss: 0.144.. \n",
            "Epoch: 80/200..  Training Loss: 0.139..  Test Loss: 0.149.. \n",
            "Epoch: 81/200..  Training Loss: 0.140..  Test Loss: 0.152.. \n",
            "Epoch: 82/200..  Training Loss: 0.136..  Test Loss: 0.141.. \n",
            "Epoch: 83/200..  Training Loss: 0.138..  Test Loss: 0.141.. \n",
            "Epoch: 84/200..  Training Loss: 0.139..  Test Loss: 0.146.. \n",
            "Epoch: 85/200..  Training Loss: 0.138..  Test Loss: 0.139.. \n",
            "Epoch: 86/200..  Training Loss: 0.136..  Test Loss: 0.137.. \n",
            "Epoch: 87/200..  Training Loss: 0.135..  Test Loss: 0.145.. \n",
            "Epoch: 88/200..  Training Loss: 0.139..  Test Loss: 0.142.. \n",
            "Epoch: 89/200..  Training Loss: 0.139..  Test Loss: 0.139.. \n",
            "Epoch: 90/200..  Training Loss: 0.140..  Test Loss: 0.138.. \n",
            "Epoch: 91/200..  Training Loss: 0.141..  Test Loss: 0.135.. \n",
            "Epoch: 92/200..  Training Loss: 0.134..  Test Loss: 0.135.. \n",
            "Epoch: 93/200..  Training Loss: 0.139..  Test Loss: 0.153.. \n",
            "Epoch: 94/200..  Training Loss: 0.139..  Test Loss: 0.134.. \n",
            "Epoch: 95/200..  Training Loss: 0.136..  Test Loss: 0.143.. \n",
            "Epoch: 96/200..  Training Loss: 0.133..  Test Loss: 0.143.. \n",
            "Epoch: 97/200..  Training Loss: 0.139..  Test Loss: 0.144.. \n",
            "Epoch: 98/200..  Training Loss: 0.142..  Test Loss: 0.139.. \n",
            "Epoch: 99/200..  Training Loss: 0.136..  Test Loss: 0.132.. \n",
            "Epoch: 100/200..  Training Loss: 0.142..  Test Loss: 0.142.. \n",
            "Epoch: 101/200..  Training Loss: 0.137..  Test Loss: 0.139.. \n",
            "Epoch: 102/200..  Training Loss: 0.133..  Test Loss: 0.140.. \n",
            "Epoch: 103/200..  Training Loss: 0.133..  Test Loss: 0.137.. \n",
            "Epoch: 104/200..  Training Loss: 0.132..  Test Loss: 0.130.. \n",
            "Epoch: 105/200..  Training Loss: 0.131..  Test Loss: 0.137.. \n",
            "Epoch: 106/200..  Training Loss: 0.128..  Test Loss: 0.133.. \n",
            "Epoch: 107/200..  Training Loss: 0.132..  Test Loss: 0.133.. \n",
            "Epoch: 108/200..  Training Loss: 0.130..  Test Loss: 0.131.. \n",
            "Epoch: 109/200..  Training Loss: 0.129..  Test Loss: 0.130.. \n",
            "Epoch: 110/200..  Training Loss: 0.129..  Test Loss: 0.134.. \n",
            "Epoch: 111/200..  Training Loss: 0.131..  Test Loss: 0.131.. \n",
            "Epoch: 112/200..  Training Loss: 0.129..  Test Loss: 0.146.. \n",
            "Epoch: 113/200..  Training Loss: 0.129..  Test Loss: 0.130.. \n",
            "Epoch: 114/200..  Training Loss: 0.126..  Test Loss: 0.128.. \n",
            "Epoch: 115/200..  Training Loss: 0.126..  Test Loss: 0.134.. \n",
            "Epoch: 116/200..  Training Loss: 0.126..  Test Loss: 0.127.. \n",
            "Epoch: 117/200..  Training Loss: 0.125..  Test Loss: 0.137.. \n",
            "Epoch: 118/200..  Training Loss: 0.126..  Test Loss: 0.133.. \n",
            "Epoch: 119/200..  Training Loss: 0.127..  Test Loss: 0.132.. \n",
            "Epoch: 120/200..  Training Loss: 0.130..  Test Loss: 0.134.. \n",
            "Epoch: 121/200..  Training Loss: 0.125..  Test Loss: 0.130.. \n",
            "Epoch: 122/200..  Training Loss: 0.129..  Test Loss: 0.145.. \n",
            "Epoch: 123/200..  Training Loss: 0.129..  Test Loss: 0.128.. \n",
            "Epoch: 124/200..  Training Loss: 0.124..  Test Loss: 0.125.. \n",
            "Epoch: 125/200..  Training Loss: 0.123..  Test Loss: 0.134.. \n",
            "Epoch: 126/200..  Training Loss: 0.125..  Test Loss: 0.134.. \n",
            "Epoch: 127/200..  Training Loss: 0.128..  Test Loss: 0.128.. \n",
            "Epoch: 128/200..  Training Loss: 0.127..  Test Loss: 0.128.. \n",
            "Epoch: 129/200..  Training Loss: 0.122..  Test Loss: 0.126.. \n",
            "Epoch: 130/200..  Training Loss: 0.123..  Test Loss: 0.125.. \n",
            "Epoch: 131/200..  Training Loss: 0.121..  Test Loss: 0.132.. \n",
            "Epoch: 132/200..  Training Loss: 0.123..  Test Loss: 0.130.. \n",
            "Epoch: 133/200..  Training Loss: 0.126..  Test Loss: 0.128.. \n",
            "Epoch: 134/200..  Training Loss: 0.123..  Test Loss: 0.133.. \n",
            "Epoch: 135/200..  Training Loss: 0.121..  Test Loss: 0.121.. \n",
            "Epoch: 136/200..  Training Loss: 0.128..  Test Loss: 0.133.. \n",
            "Epoch: 137/200..  Training Loss: 0.119..  Test Loss: 0.122.. \n",
            "Epoch: 138/200..  Training Loss: 0.119..  Test Loss: 0.127.. \n",
            "Epoch: 139/200..  Training Loss: 0.123..  Test Loss: 0.121.. \n",
            "Epoch: 140/200..  Training Loss: 0.119..  Test Loss: 0.127.. \n",
            "Epoch: 141/200..  Training Loss: 0.122..  Test Loss: 0.120.. \n",
            "Epoch: 142/200..  Training Loss: 0.119..  Test Loss: 0.128.. \n",
            "Epoch: 143/200..  Training Loss: 0.128..  Test Loss: 0.123.. \n",
            "Epoch: 144/200..  Training Loss: 0.121..  Test Loss: 0.129.. \n",
            "Epoch: 145/200..  Training Loss: 0.119..  Test Loss: 0.124.. \n",
            "Epoch: 146/200..  Training Loss: 0.119..  Test Loss: 0.120.. \n",
            "Epoch: 147/200..  Training Loss: 0.118..  Test Loss: 0.124.. \n",
            "Epoch: 148/200..  Training Loss: 0.125..  Test Loss: 0.126.. \n",
            "Epoch: 149/200..  Training Loss: 0.119..  Test Loss: 0.126.. \n",
            "Epoch: 150/200..  Training Loss: 0.122..  Test Loss: 0.126.. \n",
            "Epoch: 151/200..  Training Loss: 0.121..  Test Loss: 0.126.. \n",
            "Epoch: 152/200..  Training Loss: 0.121..  Test Loss: 0.149.. \n",
            "Epoch: 153/200..  Training Loss: 0.126..  Test Loss: 0.139.. \n",
            "Epoch: 154/200..  Training Loss: 0.122..  Test Loss: 0.126.. \n",
            "Epoch: 155/200..  Training Loss: 0.119..  Test Loss: 0.125.. \n",
            "Epoch: 156/200..  Training Loss: 0.120..  Test Loss: 0.124.. \n",
            "Epoch: 157/200..  Training Loss: 0.118..  Test Loss: 0.123.. \n",
            "Epoch: 158/200..  Training Loss: 0.118..  Test Loss: 0.123.. \n",
            "Epoch: 159/200..  Training Loss: 0.121..  Test Loss: 0.128.. \n",
            "Epoch: 160/200..  Training Loss: 0.123..  Test Loss: 0.131.. \n",
            "Epoch: 161/200..  Training Loss: 0.120..  Test Loss: 0.124.. \n",
            "Epoch: 162/200..  Training Loss: 0.115..  Test Loss: 0.129.. \n",
            "Epoch: 163/200..  Training Loss: 0.126..  Test Loss: 0.122.. \n",
            "Epoch: 164/200..  Training Loss: 0.122..  Test Loss: 0.134.. \n",
            "Epoch: 165/200..  Training Loss: 0.120..  Test Loss: 0.123.. \n",
            "Epoch: 166/200..  Training Loss: 0.124..  Test Loss: 0.121.. \n",
            "Epoch: 167/200..  Training Loss: 0.119..  Test Loss: 0.127.. \n",
            "Epoch: 168/200..  Training Loss: 0.118..  Test Loss: 0.120.. \n",
            "Epoch: 169/200..  Training Loss: 0.119..  Test Loss: 0.126.. \n",
            "Epoch: 170/200..  Training Loss: 0.119..  Test Loss: 0.120.. \n",
            "Epoch: 171/200..  Training Loss: 0.117..  Test Loss: 0.128.. \n",
            "Epoch: 172/200..  Training Loss: 0.120..  Test Loss: 0.118.. \n",
            "Epoch: 173/200..  Training Loss: 0.115..  Test Loss: 0.120.. \n",
            "Epoch: 174/200..  Training Loss: 0.121..  Test Loss: 0.119.. \n",
            "Epoch: 175/200..  Training Loss: 0.113..  Test Loss: 0.120.. \n",
            "Epoch: 176/200..  Training Loss: 0.114..  Test Loss: 0.118.. \n",
            "Epoch: 177/200..  Training Loss: 0.115..  Test Loss: 0.132.. \n",
            "Epoch: 178/200..  Training Loss: 0.112..  Test Loss: 0.120.. \n",
            "Epoch: 179/200..  Training Loss: 0.112..  Test Loss: 0.129.. \n",
            "Epoch: 180/200..  Training Loss: 0.117..  Test Loss: 0.126.. \n",
            "Epoch: 181/200..  Training Loss: 0.112..  Test Loss: 0.116.. \n",
            "Epoch: 182/200..  Training Loss: 0.112..  Test Loss: 0.125.. \n",
            "Epoch: 183/200..  Training Loss: 0.115..  Test Loss: 0.117.. \n",
            "Epoch: 184/200..  Training Loss: 0.112..  Test Loss: 0.114.. \n",
            "Epoch: 185/200..  Training Loss: 0.114..  Test Loss: 0.116.. \n",
            "Epoch: 186/200..  Training Loss: 0.112..  Test Loss: 0.114.. \n",
            "Epoch: 187/200..  Training Loss: 0.114..  Test Loss: 0.113.. \n",
            "Epoch: 188/200..  Training Loss: 0.114..  Test Loss: 0.117.. \n",
            "Epoch: 189/200..  Training Loss: 0.115..  Test Loss: 0.113.. \n",
            "Epoch: 190/200..  Training Loss: 0.114..  Test Loss: 0.119.. \n",
            "Epoch: 191/200..  Training Loss: 0.115..  Test Loss: 0.119.. \n",
            "Epoch: 192/200..  Training Loss: 0.112..  Test Loss: 0.121.. \n",
            "Epoch: 193/200..  Training Loss: 0.113..  Test Loss: 0.114.. \n",
            "Epoch: 194/200..  Training Loss: 0.114..  Test Loss: 0.114.. \n",
            "Epoch: 195/200..  Training Loss: 0.113..  Test Loss: 0.111.. \n",
            "Epoch: 196/200..  Training Loss: 0.109..  Test Loss: 0.116.. \n",
            "Epoch: 197/200..  Training Loss: 0.119..  Test Loss: 0.119.. \n",
            "Epoch: 198/200..  Training Loss: 0.112..  Test Loss: 0.113.. \n",
            "Epoch: 199/200..  Training Loss: 0.113..  Test Loss: 0.130.. \n",
            "Epoch: 200/200..  Training Loss: 0.115..  Test Loss: 0.117.. \n"
          ]
        }
      ]
    },
    {
      "cell_type": "code",
      "source": [
        "#TODO: Write code to plot the training and validation error (MER) over epochs\n",
        "plt.plot(train_losses, label='Training Errors')\n",
        "plt.plot(test_losses, label='Validation Errors')\n",
        "plt.legend(frameon=False)"
      ],
      "metadata": {
        "id": "VsnEBtxKfit7",
        "colab": {
          "base_uri": "https://localhost:8080/"
        },
        "outputId": "fd19ca01-5a45-4eb4-f421-c7e6a1742a7c"
      },
      "execution_count": null,
      "outputs": [
        {
          "output_type": "execute_result",
          "data": {
            "text/plain": [
              "<matplotlib.legend.Legend at 0x7ce6bd431510>"
            ]
          },
          "metadata": {},
          "execution_count": 45
        },
        {
          "output_type": "display_data",
          "data": {
            "text/plain": [
              "<Figure size 640x480 with 1 Axes>"
            ],
            "image/png": "[encoded data removed]"
          },
          "metadata": {}
        }
      ]
    },
    {
      "cell_type": "markdown",
      "source": [
        "---\n",
        "## Change network architecture\n"
      ],
      "metadata": {
        "id": "96o6pXJZtLIF"
      }
    },
    {
      "cell_type": "markdown",
      "source": [
        "In the following, build a MLP with 4 hidden layer of sizes 512, 256, 128, 64, respectively.  "
      ],
      "metadata": {
        "id": "E6_u31AKvGAA"
      }
    },
    {
      "cell_type": "code",
      "source": [
        "#TODO: building a MLP with 4 hidden layer of sizes 512, 256, 128, 64,\n",
        "model_2 = nn.Sequential(nn.Linear(train_features.shape[1], 512),\n",
        "                      nn.ReLU(),\n",
        "                      nn.Linear(512, 256),\n",
        "                      nn.ReLU(),\n",
        "                      nn.Linear(256,128),\n",
        "                      nn.ReLU(),\n",
        "                      nn.Linear(128,64),\n",
        "                      nn.ReLU(),\n",
        "                      nn.Linear(64,1)\n",
        "                      )"
      ],
      "metadata": {
        "id": "T4uh-Uyaur3m"
      },
      "execution_count": null,
      "outputs": []
    },
    {
      "cell_type": "code",
      "source": [
        "#Train model_2\n",
        "from torch import nn, optim\n",
        "optimizer = optim.SGD(model_2.parameters(),lr=0.008)\n",
        "model_2.to(device)\n",
        "\n",
        "epochs = 200\n",
        "train_losses = []\n",
        "test_losses=[]\n",
        "for e in range(epochs):\n",
        "  tot_train_loss = 0\n",
        "  for features, labels in train_loader:\n",
        "\n",
        "    features = features.to(device)\n",
        "    labels = labels.to(device)\n",
        "\n",
        "    optimizer.zero_grad()\n",
        "\n",
        "    output = model_2(features).to(device)\n",
        "    loss = criterion2(output,labels)\n",
        "    loss.backward()\n",
        "    optimizer.step()\n",
        "\n",
        "    tot_train_loss += loss.item()\n",
        "  else:\n",
        "    tot_test_loss = 0\n",
        "    with torch.no_grad():\n",
        "      model_2.eval()\n",
        "      for features, labels in valid_loader:\n",
        "\n",
        "        features = features.to(device)\n",
        "        labels = labels.to(device)\n",
        "        output = model_2(features)\n",
        "        loss = criterion2(output,labels)\n",
        "        tot_test_loss += loss.item()\n",
        "\n",
        "    model_2.train()\n",
        "    train_loss = tot_train_loss/len(train_loader)\n",
        "    test_loss = tot_test_loss / len(valid_loader)\n",
        "    train_losses.append(train_loss)\n",
        "    test_losses.append(test_loss)\n",
        "\n",
        "    print(\"Epoch: {}/{}.. \".format(e+1, epochs),\n",
        "          \"Training Loss: {:.3f}.. \".format(train_loss),\n",
        "          \"Test Loss: {:.3f}.. \".format(test_loss),\n",
        "          )"
      ],
      "metadata": {
        "colab": {
          "base_uri": "https://localhost:8080/"
        },
        "id": "s41GOPxPSKhI",
        "outputId": "cec4696e-c38b-49d4-b4e8-bf616130466a"
      },
      "execution_count": null,
      "outputs": [
        {
          "output_type": "stream",
          "name": "stdout",
          "text": [
            "Epoch: 1/200..  Training Loss: 0.995..  Test Loss: 0.972.. \n",
            "Epoch: 2/200..  Training Loss: 0.947..  Test Loss: 0.924.. \n",
            "Epoch: 3/200..  Training Loss: 0.895..  Test Loss: 0.873.. \n",
            "Epoch: 4/200..  Training Loss: 0.840..  Test Loss: 0.814.. \n",
            "Epoch: 5/200..  Training Loss: 0.773..  Test Loss: 0.743.. \n",
            "Epoch: 6/200..  Training Loss: 0.688..  Test Loss: 0.655.. \n",
            "Epoch: 7/200..  Training Loss: 0.578..  Test Loss: 0.516.. \n",
            "Epoch: 8/200..  Training Loss: 0.428..  Test Loss: 0.383.. \n",
            "Epoch: 9/200..  Training Loss: 0.325..  Test Loss: 0.306.. \n",
            "Epoch: 10/200..  Training Loss: 0.282..  Test Loss: 0.283.. \n",
            "Epoch: 11/200..  Training Loss: 0.274..  Test Loss: 0.269.. \n",
            "Epoch: 12/200..  Training Loss: 0.264..  Test Loss: 0.264.. \n",
            "Epoch: 13/200..  Training Loss: 0.257..  Test Loss: 0.258.. \n",
            "Epoch: 14/200..  Training Loss: 0.256..  Test Loss: 0.255.. \n",
            "Epoch: 15/200..  Training Loss: 0.250..  Test Loss: 0.246.. \n",
            "Epoch: 16/200..  Training Loss: 0.242..  Test Loss: 0.239.. \n",
            "Epoch: 17/200..  Training Loss: 0.240..  Test Loss: 0.238.. \n",
            "Epoch: 18/200..  Training Loss: 0.237..  Test Loss: 0.231.. \n",
            "Epoch: 19/200..  Training Loss: 0.233..  Test Loss: 0.241.. \n",
            "Epoch: 20/200..  Training Loss: 0.230..  Test Loss: 0.227.. \n",
            "Epoch: 21/200..  Training Loss: 0.228..  Test Loss: 0.219.. \n",
            "Epoch: 22/200..  Training Loss: 0.222..  Test Loss: 0.215.. \n",
            "Epoch: 23/200..  Training Loss: 0.222..  Test Loss: 0.214.. \n",
            "Epoch: 24/200..  Training Loss: 0.214..  Test Loss: 0.204.. \n",
            "Epoch: 25/200..  Training Loss: 0.209..  Test Loss: 0.218.. \n",
            "Epoch: 26/200..  Training Loss: 0.207..  Test Loss: 0.212.. \n",
            "Epoch: 27/200..  Training Loss: 0.201..  Test Loss: 0.196.. \n",
            "Epoch: 28/200..  Training Loss: 0.194..  Test Loss: 0.202.. \n",
            "Epoch: 29/200..  Training Loss: 0.194..  Test Loss: 0.197.. \n",
            "Epoch: 30/200..  Training Loss: 0.191..  Test Loss: 0.193.. \n",
            "Epoch: 31/200..  Training Loss: 0.190..  Test Loss: 0.191.. \n",
            "Epoch: 32/200..  Training Loss: 0.189..  Test Loss: 0.186.. \n",
            "Epoch: 33/200..  Training Loss: 0.184..  Test Loss: 0.183.. \n",
            "Epoch: 34/200..  Training Loss: 0.184..  Test Loss: 0.181.. \n",
            "Epoch: 35/200..  Training Loss: 0.181..  Test Loss: 0.182.. \n",
            "Epoch: 36/200..  Training Loss: 0.180..  Test Loss: 0.186.. \n",
            "Epoch: 37/200..  Training Loss: 0.180..  Test Loss: 0.184.. \n",
            "Epoch: 38/200..  Training Loss: 0.182..  Test Loss: 0.180.. \n",
            "Epoch: 39/200..  Training Loss: 0.177..  Test Loss: 0.179.. \n",
            "Epoch: 40/200..  Training Loss: 0.174..  Test Loss: 0.175.. \n",
            "Epoch: 41/200..  Training Loss: 0.174..  Test Loss: 0.175.. \n",
            "Epoch: 42/200..  Training Loss: 0.170..  Test Loss: 0.176.. \n",
            "Epoch: 43/200..  Training Loss: 0.172..  Test Loss: 0.172.. \n",
            "Epoch: 44/200..  Training Loss: 0.172..  Test Loss: 0.172.. \n",
            "Epoch: 45/200..  Training Loss: 0.169..  Test Loss: 0.182.. \n",
            "Epoch: 46/200..  Training Loss: 0.180..  Test Loss: 0.163.. \n",
            "Epoch: 47/200..  Training Loss: 0.167..  Test Loss: 0.172.. \n",
            "Epoch: 48/200..  Training Loss: 0.168..  Test Loss: 0.162.. \n",
            "Epoch: 49/200..  Training Loss: 0.169..  Test Loss: 0.161.. \n",
            "Epoch: 50/200..  Training Loss: 0.162..  Test Loss: 0.161.. \n",
            "Epoch: 51/200..  Training Loss: 0.161..  Test Loss: 0.161.. \n",
            "Epoch: 52/200..  Training Loss: 0.161..  Test Loss: 0.167.. \n",
            "Epoch: 53/200..  Training Loss: 0.160..  Test Loss: 0.160.. \n",
            "Epoch: 54/200..  Training Loss: 0.158..  Test Loss: 0.156.. \n",
            "Epoch: 55/200..  Training Loss: 0.160..  Test Loss: 0.157.. \n",
            "Epoch: 56/200..  Training Loss: 0.157..  Test Loss: 0.159.. \n",
            "Epoch: 57/200..  Training Loss: 0.159..  Test Loss: 0.164.. \n",
            "Epoch: 58/200..  Training Loss: 0.156..  Test Loss: 0.159.. \n",
            "Epoch: 59/200..  Training Loss: 0.155..  Test Loss: 0.156.. \n",
            "Epoch: 60/200..  Training Loss: 0.151..  Test Loss: 0.153.. \n",
            "Epoch: 61/200..  Training Loss: 0.149..  Test Loss: 0.156.. \n",
            "Epoch: 62/200..  Training Loss: 0.151..  Test Loss: 0.150.. \n",
            "Epoch: 63/200..  Training Loss: 0.154..  Test Loss: 0.158.. \n",
            "Epoch: 64/200..  Training Loss: 0.154..  Test Loss: 0.161.. \n",
            "Epoch: 65/200..  Training Loss: 0.157..  Test Loss: 0.150.. \n",
            "Epoch: 66/200..  Training Loss: 0.151..  Test Loss: 0.152.. \n",
            "Epoch: 67/200..  Training Loss: 0.152..  Test Loss: 0.148.. \n",
            "Epoch: 68/200..  Training Loss: 0.153..  Test Loss: 0.147.. \n",
            "Epoch: 69/200..  Training Loss: 0.151..  Test Loss: 0.145.. \n",
            "Epoch: 70/200..  Training Loss: 0.156..  Test Loss: 0.171.. \n",
            "Epoch: 71/200..  Training Loss: 0.155..  Test Loss: 0.150.. \n",
            "Epoch: 72/200..  Training Loss: 0.151..  Test Loss: 0.165.. \n",
            "Epoch: 73/200..  Training Loss: 0.148..  Test Loss: 0.144.. \n",
            "Epoch: 74/200..  Training Loss: 0.143..  Test Loss: 0.140.. \n",
            "Epoch: 75/200..  Training Loss: 0.147..  Test Loss: 0.139.. \n",
            "Epoch: 76/200..  Training Loss: 0.144..  Test Loss: 0.141.. \n",
            "Epoch: 77/200..  Training Loss: 0.141..  Test Loss: 0.140.. \n",
            "Epoch: 78/200..  Training Loss: 0.146..  Test Loss: 0.136.. \n",
            "Epoch: 79/200..  Training Loss: 0.146..  Test Loss: 0.152.. \n",
            "Epoch: 80/200..  Training Loss: 0.140..  Test Loss: 0.139.. \n",
            "Epoch: 81/200..  Training Loss: 0.139..  Test Loss: 0.141.. \n",
            "Epoch: 82/200..  Training Loss: 0.143..  Test Loss: 0.146.. \n",
            "Epoch: 83/200..  Training Loss: 0.138..  Test Loss: 0.165.. \n",
            "Epoch: 84/200..  Training Loss: 0.146..  Test Loss: 0.138.. \n",
            "Epoch: 85/200..  Training Loss: 0.137..  Test Loss: 0.145.. \n",
            "Epoch: 86/200..  Training Loss: 0.144..  Test Loss: 0.137.. \n",
            "Epoch: 87/200..  Training Loss: 0.136..  Test Loss: 0.136.. \n",
            "Epoch: 88/200..  Training Loss: 0.137..  Test Loss: 0.147.. \n",
            "Epoch: 89/200..  Training Loss: 0.138..  Test Loss: 0.143.. \n",
            "Epoch: 90/200..  Training Loss: 0.142..  Test Loss: 0.133.. \n",
            "Epoch: 91/200..  Training Loss: 0.138..  Test Loss: 0.164.. \n",
            "Epoch: 92/200..  Training Loss: 0.138..  Test Loss: 0.135.. \n",
            "Epoch: 93/200..  Training Loss: 0.138..  Test Loss: 0.139.. \n",
            "Epoch: 94/200..  Training Loss: 0.133..  Test Loss: 0.134.. \n",
            "Epoch: 95/200..  Training Loss: 0.135..  Test Loss: 0.142.. \n",
            "Epoch: 96/200..  Training Loss: 0.135..  Test Loss: 0.142.. \n",
            "Epoch: 97/200..  Training Loss: 0.147..  Test Loss: 0.170.. \n",
            "Epoch: 98/200..  Training Loss: 0.145..  Test Loss: 0.135.. \n",
            "Epoch: 99/200..  Training Loss: 0.134..  Test Loss: 0.133.. \n",
            "Epoch: 100/200..  Training Loss: 0.133..  Test Loss: 0.145.. \n",
            "Epoch: 101/200..  Training Loss: 0.136..  Test Loss: 0.135.. \n",
            "Epoch: 102/200..  Training Loss: 0.136..  Test Loss: 0.132.. \n",
            "Epoch: 103/200..  Training Loss: 0.135..  Test Loss: 0.144.. \n",
            "Epoch: 104/200..  Training Loss: 0.131..  Test Loss: 0.134.. \n",
            "Epoch: 105/200..  Training Loss: 0.133..  Test Loss: 0.129.. \n",
            "Epoch: 106/200..  Training Loss: 0.131..  Test Loss: 0.130.. \n",
            "Epoch: 107/200..  Training Loss: 0.129..  Test Loss: 0.136.. \n",
            "Epoch: 108/200..  Training Loss: 0.134..  Test Loss: 0.129.. \n",
            "Epoch: 109/200..  Training Loss: 0.127..  Test Loss: 0.151.. \n",
            "Epoch: 110/200..  Training Loss: 0.134..  Test Loss: 0.133.. \n",
            "Epoch: 111/200..  Training Loss: 0.131..  Test Loss: 0.124.. \n",
            "Epoch: 112/200..  Training Loss: 0.131..  Test Loss: 0.136.. \n",
            "Epoch: 113/200..  Training Loss: 0.129..  Test Loss: 0.129.. \n",
            "Epoch: 114/200..  Training Loss: 0.131..  Test Loss: 0.126.. \n",
            "Epoch: 115/200..  Training Loss: 0.134..  Test Loss: 0.126.. \n",
            "Epoch: 116/200..  Training Loss: 0.131..  Test Loss: 0.130.. \n",
            "Epoch: 117/200..  Training Loss: 0.133..  Test Loss: 0.128.. \n",
            "Epoch: 118/200..  Training Loss: 0.125..  Test Loss: 0.136.. \n",
            "Epoch: 119/200..  Training Loss: 0.126..  Test Loss: 0.124.. \n",
            "Epoch: 120/200..  Training Loss: 0.127..  Test Loss: 0.135.. \n",
            "Epoch: 121/200..  Training Loss: 0.130..  Test Loss: 0.126.. \n",
            "Epoch: 122/200..  Training Loss: 0.128..  Test Loss: 0.136.. \n",
            "Epoch: 123/200..  Training Loss: 0.133..  Test Loss: 0.128.. \n",
            "Epoch: 124/200..  Training Loss: 0.130..  Test Loss: 0.130.. \n",
            "Epoch: 125/200..  Training Loss: 0.130..  Test Loss: 0.131.. \n",
            "Epoch: 126/200..  Training Loss: 0.126..  Test Loss: 0.146.. \n",
            "Epoch: 127/200..  Training Loss: 0.133..  Test Loss: 0.133.. \n",
            "Epoch: 128/200..  Training Loss: 0.125..  Test Loss: 0.124.. \n",
            "Epoch: 129/200..  Training Loss: 0.127..  Test Loss: 0.144.. \n",
            "Epoch: 130/200..  Training Loss: 0.127..  Test Loss: 0.126.. \n",
            "Epoch: 131/200..  Training Loss: 0.126..  Test Loss: 0.144.. \n",
            "Epoch: 132/200..  Training Loss: 0.123..  Test Loss: 0.133.. \n",
            "Epoch: 133/200..  Training Loss: 0.129..  Test Loss: 0.127.. \n",
            "Epoch: 134/200..  Training Loss: 0.122..  Test Loss: 0.120.. \n",
            "Epoch: 135/200..  Training Loss: 0.124..  Test Loss: 0.124.. \n",
            "Epoch: 136/200..  Training Loss: 0.125..  Test Loss: 0.122.. \n",
            "Epoch: 137/200..  Training Loss: 0.123..  Test Loss: 0.127.. \n",
            "Epoch: 138/200..  Training Loss: 0.128..  Test Loss: 0.127.. \n",
            "Epoch: 139/200..  Training Loss: 0.127..  Test Loss: 0.126.. \n",
            "Epoch: 140/200..  Training Loss: 0.122..  Test Loss: 0.130.. \n",
            "Epoch: 141/200..  Training Loss: 0.122..  Test Loss: 0.120.. \n",
            "Epoch: 142/200..  Training Loss: 0.120..  Test Loss: 0.139.. \n",
            "Epoch: 143/200..  Training Loss: 0.121..  Test Loss: 0.131.. \n",
            "Epoch: 144/200..  Training Loss: 0.120..  Test Loss: 0.129.. \n",
            "Epoch: 145/200..  Training Loss: 0.119..  Test Loss: 0.126.. \n",
            "Epoch: 146/200..  Training Loss: 0.122..  Test Loss: 0.124.. \n",
            "Epoch: 147/200..  Training Loss: 0.126..  Test Loss: 0.129.. \n",
            "Epoch: 148/200..  Training Loss: 0.124..  Test Loss: 0.123.. \n",
            "Epoch: 149/200..  Training Loss: 0.117..  Test Loss: 0.123.. \n",
            "Epoch: 150/200..  Training Loss: 0.117..  Test Loss: 0.127.. \n",
            "Epoch: 151/200..  Training Loss: 0.116..  Test Loss: 0.126.. \n",
            "Epoch: 152/200..  Training Loss: 0.116..  Test Loss: 0.118.. \n",
            "Epoch: 153/200..  Training Loss: 0.117..  Test Loss: 0.116.. \n",
            "Epoch: 154/200..  Training Loss: 0.118..  Test Loss: 0.123.. \n",
            "Epoch: 155/200..  Training Loss: 0.124..  Test Loss: 0.120.. \n",
            "Epoch: 156/200..  Training Loss: 0.120..  Test Loss: 0.145.. \n",
            "Epoch: 157/200..  Training Loss: 0.124..  Test Loss: 0.123.. \n",
            "Epoch: 158/200..  Training Loss: 0.118..  Test Loss: 0.120.. \n",
            "Epoch: 159/200..  Training Loss: 0.119..  Test Loss: 0.143.. \n",
            "Epoch: 160/200..  Training Loss: 0.119..  Test Loss: 0.122.. \n",
            "Epoch: 161/200..  Training Loss: 0.120..  Test Loss: 0.124.. \n",
            "Epoch: 162/200..  Training Loss: 0.113..  Test Loss: 0.125.. \n",
            "Epoch: 163/200..  Training Loss: 0.116..  Test Loss: 0.148.. \n",
            "Epoch: 164/200..  Training Loss: 0.115..  Test Loss: 0.127.. \n",
            "Epoch: 165/200..  Training Loss: 0.119..  Test Loss: 0.120.. \n",
            "Epoch: 166/200..  Training Loss: 0.115..  Test Loss: 0.113.. \n",
            "Epoch: 167/200..  Training Loss: 0.111..  Test Loss: 0.118.. \n",
            "Epoch: 168/200..  Training Loss: 0.115..  Test Loss: 0.114.. \n",
            "Epoch: 169/200..  Training Loss: 0.117..  Test Loss: 0.119.. \n",
            "Epoch: 170/200..  Training Loss: 0.112..  Test Loss: 0.124.. \n",
            "Epoch: 171/200..  Training Loss: 0.113..  Test Loss: 0.120.. \n",
            "Epoch: 172/200..  Training Loss: 0.119..  Test Loss: 0.115.. \n",
            "Epoch: 173/200..  Training Loss: 0.113..  Test Loss: 0.120.. \n",
            "Epoch: 174/200..  Training Loss: 0.113..  Test Loss: 0.112.. \n",
            "Epoch: 175/200..  Training Loss: 0.112..  Test Loss: 0.110.. \n",
            "Epoch: 176/200..  Training Loss: 0.115..  Test Loss: 0.115.. \n",
            "Epoch: 177/200..  Training Loss: 0.112..  Test Loss: 0.120.. \n",
            "Epoch: 178/200..  Training Loss: 0.108..  Test Loss: 0.113.. \n",
            "Epoch: 179/200..  Training Loss: 0.107..  Test Loss: 0.115.. \n",
            "Epoch: 180/200..  Training Loss: 0.110..  Test Loss: 0.124.. \n",
            "Epoch: 181/200..  Training Loss: 0.111..  Test Loss: 0.121.. \n",
            "Epoch: 182/200..  Training Loss: 0.119..  Test Loss: 0.118.. \n",
            "Epoch: 183/200..  Training Loss: 0.117..  Test Loss: 0.126.. \n",
            "Epoch: 184/200..  Training Loss: 0.119..  Test Loss: 0.129.. \n",
            "Epoch: 185/200..  Training Loss: 0.128..  Test Loss: 0.128.. \n",
            "Epoch: 186/200..  Training Loss: 0.115..  Test Loss: 0.113.. \n",
            "Epoch: 187/200..  Training Loss: 0.112..  Test Loss: 0.112.. \n",
            "Epoch: 188/200..  Training Loss: 0.111..  Test Loss: 0.116.. \n",
            "Epoch: 189/200..  Training Loss: 0.113..  Test Loss: 0.109.. \n",
            "Epoch: 190/200..  Training Loss: 0.113..  Test Loss: 0.113.. \n",
            "Epoch: 191/200..  Training Loss: 0.112..  Test Loss: 0.114.. \n",
            "Epoch: 192/200..  Training Loss: 0.116..  Test Loss: 0.129.. \n",
            "Epoch: 193/200..  Training Loss: 0.113..  Test Loss: 0.110.. \n",
            "Epoch: 194/200..  Training Loss: 0.112..  Test Loss: 0.111.. \n",
            "Epoch: 195/200..  Training Loss: 0.111..  Test Loss: 0.109.. \n",
            "Epoch: 196/200..  Training Loss: 0.111..  Test Loss: 0.114.. \n",
            "Epoch: 197/200..  Training Loss: 0.114..  Test Loss: 0.121.. \n",
            "Epoch: 198/200..  Training Loss: 0.112..  Test Loss: 0.114.. \n",
            "Epoch: 199/200..  Training Loss: 0.110..  Test Loss: 0.127.. \n",
            "Epoch: 200/200..  Training Loss: 0.110..  Test Loss: 0.112.. \n"
          ]
        }
      ]
    },
    {
      "cell_type": "code",
      "source": [
        "#TODO: plot the training and validation error (MER) over epochs\n",
        "plt.plot(train_losses, label='Training Errors')\n",
        "plt.plot(test_losses, label='Validation Errors')\n",
        "plt.legend(frameon=False)"
      ],
      "metadata": {
        "id": "Cfrs6pdpvqyr",
        "colab": {
          "base_uri": "https://localhost:8080/"
        },
        "outputId": "003c1d4c-8f8f-4df3-d285-38105f4d653b"
      },
      "execution_count": null,
      "outputs": [
        {
          "output_type": "execute_result",
          "data": {
            "text/plain": [
              "<matplotlib.legend.Legend at 0x7ce6bd2e0400>"
            ]
          },
          "metadata": {},
          "execution_count": 48
        },
        {
          "output_type": "display_data",
          "data": {
            "text/plain": [
              "<Figure size 640x480 with 1 Axes>"
            ],
            "image/png": "[encoded data removed]"
          },
          "metadata": {}
        }
      ]
    },
    {
      "cell_type": "markdown",
      "source": [
        "---\n",
        "## Add norm regularization\n",
        "\n",
        "In the following, use the norm regularization to retrain the above MLP."
      ],
      "metadata": {
        "id": "7318EVBqr6lX"
      }
    },
    {
      "cell_type": "code",
      "source": [
        "#TODO: plot the training and validation error (MER) over epochs after using norm regularization\n",
        "from torch import nn, optim\n",
        "optimizer = optim.SGD(model_2.parameters(),weight_decay=0.0001,lr=0.009)\n",
        "model_2.to(device)\n",
        "\n",
        "epochs = 600\n",
        "train_losses = []\n",
        "test_losses=[]\n",
        "for e in range(epochs):\n",
        "  tot_train_loss = 0\n",
        "  for features, labels in train_loader:\n",
        "\n",
        "    features = features.to(device)\n",
        "    labels = labels.to(device)\n",
        "\n",
        "    optimizer.zero_grad()\n",
        "\n",
        "    output = model_2(features).to(device)\n",
        "    loss = criterion2(output,labels)\n",
        "    loss.backward()\n",
        "    optimizer.step()\n",
        "\n",
        "    tot_train_loss += loss.item()\n",
        "  else:\n",
        "    tot_test_loss = 0\n",
        "    with torch.no_grad():\n",
        "      model_2.eval()\n",
        "      for features, labels in valid_loader:\n",
        "\n",
        "        features = features.to(device)\n",
        "        labels = labels.to(device)\n",
        "        output = model_2(features)\n",
        "        loss = criterion2(output,labels)\n",
        "        tot_test_loss += loss.item()\n",
        "\n",
        "    model_2.train()\n",
        "    train_loss = tot_train_loss/len(train_loader)\n",
        "    test_loss = tot_test_loss / len(valid_loader)\n",
        "    train_losses.append(train_loss)\n",
        "    test_losses.append(test_loss)\n",
        "\n",
        "    print(\"Epoch: {}/{}.. \".format(e+1, epochs),\n",
        "          \"Training Loss: {:.3f}.. \".format(train_loss),\n",
        "          \"Test Loss: {:.3f}.. \".format(test_loss),\n",
        "          )\n"
      ],
      "metadata": {
        "id": "pccxcR7CwFjA",
        "colab": {
          "base_uri": "https://localhost:8080/"
        },
        "outputId": "ced81385-7ce1-40c2-8f9c-ace1f1476f67"
      },
      "execution_count": null,
      "outputs": [
        {
          "output_type": "stream",
          "name": "stdout",
          "text": [
            "Epoch: 1/600..  Training Loss: 0.110..  Test Loss: 0.117.. \n",
            "Epoch: 2/600..  Training Loss: 0.111..  Test Loss: 0.109.. \n",
            "Epoch: 3/600..  Training Loss: 0.108..  Test Loss: 0.112.. \n",
            "Epoch: 4/600..  Training Loss: 0.105..  Test Loss: 0.108.. \n",
            "Epoch: 5/600..  Training Loss: 0.107..  Test Loss: 0.109.. \n",
            "Epoch: 6/600..  Training Loss: 0.108..  Test Loss: 0.111.. \n",
            "Epoch: 7/600..  Training Loss: 0.109..  Test Loss: 0.116.. \n",
            "Epoch: 8/600..  Training Loss: 0.112..  Test Loss: 0.114.. \n",
            "Epoch: 9/600..  Training Loss: 0.108..  Test Loss: 0.115.. \n",
            "Epoch: 10/600..  Training Loss: 0.113..  Test Loss: 0.130.. \n",
            "Epoch: 11/600..  Training Loss: 0.118..  Test Loss: 0.115.. \n",
            "Epoch: 12/600..  Training Loss: 0.114..  Test Loss: 0.118.. \n",
            "Epoch: 13/600..  Training Loss: 0.118..  Test Loss: 0.113.. \n",
            "Epoch: 14/600..  Training Loss: 0.111..  Test Loss: 0.115.. \n",
            "Epoch: 15/600..  Training Loss: 0.109..  Test Loss: 0.114.. \n",
            "Epoch: 16/600..  Training Loss: 0.108..  Test Loss: 0.112.. \n",
            "Epoch: 17/600..  Training Loss: 0.110..  Test Loss: 0.126.. \n",
            "Epoch: 18/600..  Training Loss: 0.121..  Test Loss: 0.118.. \n",
            "Epoch: 19/600..  Training Loss: 0.109..  Test Loss: 0.110.. \n",
            "Epoch: 20/600..  Training Loss: 0.110..  Test Loss: 0.116.. \n",
            "Epoch: 21/600..  Training Loss: 0.109..  Test Loss: 0.125.. \n",
            "Epoch: 22/600..  Training Loss: 0.105..  Test Loss: 0.106.. \n",
            "Epoch: 23/600..  Training Loss: 0.107..  Test Loss: 0.108.. \n",
            "Epoch: 24/600..  Training Loss: 0.108..  Test Loss: 0.114.. \n",
            "Epoch: 25/600..  Training Loss: 0.103..  Test Loss: 0.110.. \n",
            "Epoch: 26/600..  Training Loss: 0.109..  Test Loss: 0.124.. \n",
            "Epoch: 27/600..  Training Loss: 0.109..  Test Loss: 0.109.. \n",
            "Epoch: 28/600..  Training Loss: 0.112..  Test Loss: 0.113.. \n",
            "Epoch: 29/600..  Training Loss: 0.106..  Test Loss: 0.109.. \n",
            "Epoch: 30/600..  Training Loss: 0.107..  Test Loss: 0.111.. \n",
            "Epoch: 31/600..  Training Loss: 0.104..  Test Loss: 0.109.. \n",
            "Epoch: 32/600..  Training Loss: 0.101..  Test Loss: 0.123.. \n",
            "Epoch: 33/600..  Training Loss: 0.106..  Test Loss: 0.108.. \n",
            "Epoch: 34/600..  Training Loss: 0.110..  Test Loss: 0.118.. \n",
            "Epoch: 35/600..  Training Loss: 0.113..  Test Loss: 0.116.. \n",
            "Epoch: 36/600..  Training Loss: 0.106..  Test Loss: 0.111.. \n",
            "Epoch: 37/600..  Training Loss: 0.103..  Test Loss: 0.113.. \n",
            "Epoch: 38/600..  Training Loss: 0.105..  Test Loss: 0.110.. \n",
            "Epoch: 39/600..  Training Loss: 0.105..  Test Loss: 0.111.. \n",
            "Epoch: 40/600..  Training Loss: 0.109..  Test Loss: 0.111.. \n",
            "Epoch: 41/600..  Training Loss: 0.101..  Test Loss: 0.138.. \n",
            "Epoch: 42/600..  Training Loss: 0.107..  Test Loss: 0.120.. \n",
            "Epoch: 43/600..  Training Loss: 0.105..  Test Loss: 0.116.. \n",
            "Epoch: 44/600..  Training Loss: 0.105..  Test Loss: 0.112.. \n",
            "Epoch: 45/600..  Training Loss: 0.108..  Test Loss: 0.115.. \n",
            "Epoch: 46/600..  Training Loss: 0.113..  Test Loss: 0.141.. \n",
            "Epoch: 47/600..  Training Loss: 0.113..  Test Loss: 0.113.. \n",
            "Epoch: 48/600..  Training Loss: 0.104..  Test Loss: 0.109.. \n",
            "Epoch: 49/600..  Training Loss: 0.101..  Test Loss: 0.132.. \n",
            "Epoch: 50/600..  Training Loss: 0.102..  Test Loss: 0.114.. \n",
            "Epoch: 51/600..  Training Loss: 0.107..  Test Loss: 0.138.. \n",
            "Epoch: 52/600..  Training Loss: 0.108..  Test Loss: 0.108.. \n",
            "Epoch: 53/600..  Training Loss: 0.104..  Test Loss: 0.118.. \n",
            "Epoch: 54/600..  Training Loss: 0.113..  Test Loss: 0.110.. \n",
            "Epoch: 55/600..  Training Loss: 0.102..  Test Loss: 0.110.. \n",
            "Epoch: 56/600..  Training Loss: 0.102..  Test Loss: 0.117.. \n",
            "Epoch: 57/600..  Training Loss: 0.104..  Test Loss: 0.117.. \n",
            "Epoch: 58/600..  Training Loss: 0.105..  Test Loss: 0.113.. \n",
            "Epoch: 59/600..  Training Loss: 0.104..  Test Loss: 0.108.. \n",
            "Epoch: 60/600..  Training Loss: 0.103..  Test Loss: 0.128.. \n",
            "Epoch: 61/600..  Training Loss: 0.103..  Test Loss: 0.110.. \n",
            "Epoch: 62/600..  Training Loss: 0.104..  Test Loss: 0.109.. \n",
            "Epoch: 63/600..  Training Loss: 0.108..  Test Loss: 0.129.. \n",
            "Epoch: 64/600..  Training Loss: 0.109..  Test Loss: 0.120.. \n",
            "Epoch: 65/600..  Training Loss: 0.109..  Test Loss: 0.112.. \n",
            "Epoch: 66/600..  Training Loss: 0.105..  Test Loss: 0.121.. \n",
            "Epoch: 67/600..  Training Loss: 0.110..  Test Loss: 0.107.. \n",
            "Epoch: 68/600..  Training Loss: 0.102..  Test Loss: 0.112.. \n",
            "Epoch: 69/600..  Training Loss: 0.108..  Test Loss: 0.119.. \n",
            "Epoch: 70/600..  Training Loss: 0.102..  Test Loss: 0.123.. \n",
            "Epoch: 71/600..  Training Loss: 0.102..  Test Loss: 0.107.. \n",
            "Epoch: 72/600..  Training Loss: 0.097..  Test Loss: 0.111.. \n",
            "Epoch: 73/600..  Training Loss: 0.109..  Test Loss: 0.109.. \n",
            "Epoch: 74/600..  Training Loss: 0.105..  Test Loss: 0.142.. \n",
            "Epoch: 75/600..  Training Loss: 0.107..  Test Loss: 0.110.. \n",
            "Epoch: 76/600..  Training Loss: 0.099..  Test Loss: 0.112.. \n",
            "Epoch: 77/600..  Training Loss: 0.099..  Test Loss: 0.109.. \n",
            "Epoch: 78/600..  Training Loss: 0.100..  Test Loss: 0.104.. \n",
            "Epoch: 79/600..  Training Loss: 0.098..  Test Loss: 0.105.. \n",
            "Epoch: 80/600..  Training Loss: 0.102..  Test Loss: 0.111.. \n",
            "Epoch: 81/600..  Training Loss: 0.101..  Test Loss: 0.115.. \n",
            "Epoch: 82/600..  Training Loss: 0.103..  Test Loss: 0.114.. \n",
            "Epoch: 83/600..  Training Loss: 0.103..  Test Loss: 0.103.. \n",
            "Epoch: 84/600..  Training Loss: 0.099..  Test Loss: 0.105.. \n",
            "Epoch: 85/600..  Training Loss: 0.110..  Test Loss: 0.105.. \n",
            "Epoch: 86/600..  Training Loss: 0.107..  Test Loss: 0.123.. \n",
            "Epoch: 87/600..  Training Loss: 0.103..  Test Loss: 0.104.. \n",
            "Epoch: 88/600..  Training Loss: 0.095..  Test Loss: 0.104.. \n",
            "Epoch: 89/600..  Training Loss: 0.096..  Test Loss: 0.107.. \n",
            "Epoch: 90/600..  Training Loss: 0.100..  Test Loss: 0.109.. \n",
            "Epoch: 91/600..  Training Loss: 0.100..  Test Loss: 0.107.. \n",
            "Epoch: 92/600..  Training Loss: 0.101..  Test Loss: 0.103.. \n",
            "Epoch: 93/600..  Training Loss: 0.104..  Test Loss: 0.102.. \n",
            "Epoch: 94/600..  Training Loss: 0.103..  Test Loss: 0.128.. \n",
            "Epoch: 95/600..  Training Loss: 0.109..  Test Loss: 0.114.. \n",
            "Epoch: 96/600..  Training Loss: 0.105..  Test Loss: 0.110.. \n",
            "Epoch: 97/600..  Training Loss: 0.099..  Test Loss: 0.125.. \n",
            "Epoch: 98/600..  Training Loss: 0.102..  Test Loss: 0.108.. \n",
            "Epoch: 99/600..  Training Loss: 0.099..  Test Loss: 0.109.. \n",
            "Epoch: 100/600..  Training Loss: 0.099..  Test Loss: 0.105.. \n",
            "Epoch: 101/600..  Training Loss: 0.099..  Test Loss: 0.129.. \n",
            "Epoch: 102/600..  Training Loss: 0.102..  Test Loss: 0.111.. \n",
            "Epoch: 103/600..  Training Loss: 0.098..  Test Loss: 0.111.. \n",
            "Epoch: 104/600..  Training Loss: 0.098..  Test Loss: 0.106.. \n",
            "Epoch: 105/600..  Training Loss: 0.097..  Test Loss: 0.106.. \n",
            "Epoch: 106/600..  Training Loss: 0.104..  Test Loss: 0.113.. \n",
            "Epoch: 107/600..  Training Loss: 0.097..  Test Loss: 0.100.. \n",
            "Epoch: 108/600..  Training Loss: 0.097..  Test Loss: 0.105.. \n",
            "Epoch: 109/600..  Training Loss: 0.097..  Test Loss: 0.105.. \n",
            "Epoch: 110/600..  Training Loss: 0.096..  Test Loss: 0.111.. \n",
            "Epoch: 111/600..  Training Loss: 0.095..  Test Loss: 0.115.. \n",
            "Epoch: 112/600..  Training Loss: 0.097..  Test Loss: 0.123.. \n",
            "Epoch: 113/600..  Training Loss: 0.095..  Test Loss: 0.104.. \n",
            "Epoch: 114/600..  Training Loss: 0.094..  Test Loss: 0.106.. \n",
            "Epoch: 115/600..  Training Loss: 0.097..  Test Loss: 0.101.. \n",
            "Epoch: 116/600..  Training Loss: 0.097..  Test Loss: 0.110.. \n",
            "Epoch: 117/600..  Training Loss: 0.097..  Test Loss: 0.114.. \n",
            "Epoch: 118/600..  Training Loss: 0.093..  Test Loss: 0.104.. \n",
            "Epoch: 119/600..  Training Loss: 0.094..  Test Loss: 0.100.. \n",
            "Epoch: 120/600..  Training Loss: 0.094..  Test Loss: 0.113.. \n",
            "Epoch: 121/600..  Training Loss: 0.093..  Test Loss: 0.105.. \n",
            "Epoch: 122/600..  Training Loss: 0.094..  Test Loss: 0.109.. \n",
            "Epoch: 123/600..  Training Loss: 0.096..  Test Loss: 0.109.. \n",
            "Epoch: 124/600..  Training Loss: 0.105..  Test Loss: 0.105.. \n",
            "Epoch: 125/600..  Training Loss: 0.092..  Test Loss: 0.109.. \n",
            "Epoch: 126/600..  Training Loss: 0.101..  Test Loss: 0.102.. \n",
            "Epoch: 127/600..  Training Loss: 0.100..  Test Loss: 0.123.. \n",
            "Epoch: 128/600..  Training Loss: 0.098..  Test Loss: 0.110.. \n",
            "Epoch: 129/600..  Training Loss: 0.103..  Test Loss: 0.104.. \n",
            "Epoch: 130/600..  Training Loss: 0.097..  Test Loss: 0.105.. \n",
            "Epoch: 131/600..  Training Loss: 0.094..  Test Loss: 0.108.. \n",
            "Epoch: 132/600..  Training Loss: 0.095..  Test Loss: 0.107.. \n",
            "Epoch: 133/600..  Training Loss: 0.102..  Test Loss: 0.103.. \n",
            "Epoch: 134/600..  Training Loss: 0.099..  Test Loss: 0.120.. \n",
            "Epoch: 135/600..  Training Loss: 0.104..  Test Loss: 0.101.. \n",
            "Epoch: 136/600..  Training Loss: 0.093..  Test Loss: 0.121.. \n",
            "Epoch: 137/600..  Training Loss: 0.095..  Test Loss: 0.103.. \n",
            "Epoch: 138/600..  Training Loss: 0.093..  Test Loss: 0.112.. \n",
            "Epoch: 139/600..  Training Loss: 0.097..  Test Loss: 0.122.. \n",
            "Epoch: 140/600..  Training Loss: 0.098..  Test Loss: 0.112.. \n",
            "Epoch: 141/600..  Training Loss: 0.093..  Test Loss: 0.110.. \n",
            "Epoch: 142/600..  Training Loss: 0.092..  Test Loss: 0.096.. \n",
            "Epoch: 143/600..  Training Loss: 0.091..  Test Loss: 0.103.. \n",
            "Epoch: 144/600..  Training Loss: 0.091..  Test Loss: 0.107.. \n",
            "Epoch: 145/600..  Training Loss: 0.098..  Test Loss: 0.110.. \n",
            "Epoch: 146/600..  Training Loss: 0.094..  Test Loss: 0.105.. \n",
            "Epoch: 147/600..  Training Loss: 0.091..  Test Loss: 0.107.. \n",
            "Epoch: 148/600..  Training Loss: 0.101..  Test Loss: 0.107.. \n",
            "Epoch: 149/600..  Training Loss: 0.097..  Test Loss: 0.106.. \n",
            "Epoch: 150/600..  Training Loss: 0.094..  Test Loss: 0.097.. \n",
            "Epoch: 151/600..  Training Loss: 0.091..  Test Loss: 0.115.. \n",
            "Epoch: 152/600..  Training Loss: 0.102..  Test Loss: 0.102.. \n",
            "Epoch: 153/600..  Training Loss: 0.099..  Test Loss: 0.110.. \n",
            "Epoch: 154/600..  Training Loss: 0.091..  Test Loss: 0.101.. \n",
            "Epoch: 155/600..  Training Loss: 0.094..  Test Loss: 0.093.. \n",
            "Epoch: 156/600..  Training Loss: 0.094..  Test Loss: 0.101.. \n",
            "Epoch: 157/600..  Training Loss: 0.098..  Test Loss: 0.103.. \n",
            "Epoch: 158/600..  Training Loss: 0.096..  Test Loss: 0.103.. \n",
            "Epoch: 159/600..  Training Loss: 0.097..  Test Loss: 0.100.. \n",
            "Epoch: 160/600..  Training Loss: 0.093..  Test Loss: 0.105.. \n",
            "Epoch: 161/600..  Training Loss: 0.093..  Test Loss: 0.097.. \n",
            "Epoch: 162/600..  Training Loss: 0.099..  Test Loss: 0.106.. \n",
            "Epoch: 163/600..  Training Loss: 0.097..  Test Loss: 0.102.. \n",
            "Epoch: 164/600..  Training Loss: 0.096..  Test Loss: 0.105.. \n",
            "Epoch: 165/600..  Training Loss: 0.097..  Test Loss: 0.113.. \n",
            "Epoch: 166/600..  Training Loss: 0.096..  Test Loss: 0.101.. \n",
            "Epoch: 167/600..  Training Loss: 0.091..  Test Loss: 0.110.. \n",
            "Epoch: 168/600..  Training Loss: 0.099..  Test Loss: 0.101.. \n",
            "Epoch: 169/600..  Training Loss: 0.098..  Test Loss: 0.102.. \n",
            "Epoch: 170/600..  Training Loss: 0.096..  Test Loss: 0.105.. \n",
            "Epoch: 171/600..  Training Loss: 0.101..  Test Loss: 0.101.. \n",
            "Epoch: 172/600..  Training Loss: 0.095..  Test Loss: 0.101.. \n",
            "Epoch: 173/600..  Training Loss: 0.094..  Test Loss: 0.113.. \n",
            "Epoch: 174/600..  Training Loss: 0.091..  Test Loss: 0.108.. \n",
            "Epoch: 175/600..  Training Loss: 0.096..  Test Loss: 0.108.. \n",
            "Epoch: 176/600..  Training Loss: 0.093..  Test Loss: 0.100.. \n",
            "Epoch: 177/600..  Training Loss: 0.090..  Test Loss: 0.100.. \n",
            "Epoch: 178/600..  Training Loss: 0.092..  Test Loss: 0.105.. \n",
            "Epoch: 179/600..  Training Loss: 0.094..  Test Loss: 0.097.. \n",
            "Epoch: 180/600..  Training Loss: 0.091..  Test Loss: 0.103.. \n",
            "Epoch: 181/600..  Training Loss: 0.089..  Test Loss: 0.099.. \n",
            "Epoch: 182/600..  Training Loss: 0.090..  Test Loss: 0.101.. \n",
            "Epoch: 183/600..  Training Loss: 0.087..  Test Loss: 0.098.. \n",
            "Epoch: 184/600..  Training Loss: 0.094..  Test Loss: 0.103.. \n",
            "Epoch: 185/600..  Training Loss: 0.092..  Test Loss: 0.101.. \n",
            "Epoch: 186/600..  Training Loss: 0.090..  Test Loss: 0.098.. \n",
            "Epoch: 187/600..  Training Loss: 0.092..  Test Loss: 0.110.. \n",
            "Epoch: 188/600..  Training Loss: 0.094..  Test Loss: 0.113.. \n",
            "Epoch: 189/600..  Training Loss: 0.089..  Test Loss: 0.097.. \n",
            "Epoch: 190/600..  Training Loss: 0.097..  Test Loss: 0.114.. \n",
            "Epoch: 191/600..  Training Loss: 0.094..  Test Loss: 0.102.. \n",
            "Epoch: 192/600..  Training Loss: 0.089..  Test Loss: 0.109.. \n",
            "Epoch: 193/600..  Training Loss: 0.092..  Test Loss: 0.102.. \n",
            "Epoch: 194/600..  Training Loss: 0.092..  Test Loss: 0.097.. \n",
            "Epoch: 195/600..  Training Loss: 0.092..  Test Loss: 0.104.. \n",
            "Epoch: 196/600..  Training Loss: 0.092..  Test Loss: 0.106.. \n",
            "Epoch: 197/600..  Training Loss: 0.100..  Test Loss: 0.103.. \n",
            "Epoch: 198/600..  Training Loss: 0.093..  Test Loss: 0.096.. \n",
            "Epoch: 199/600..  Training Loss: 0.101..  Test Loss: 0.106.. \n",
            "Epoch: 200/600..  Training Loss: 0.090..  Test Loss: 0.112.. \n",
            "Epoch: 201/600..  Training Loss: 0.090..  Test Loss: 0.112.. \n",
            "Epoch: 202/600..  Training Loss: 0.091..  Test Loss: 0.104.. \n",
            "Epoch: 203/600..  Training Loss: 0.090..  Test Loss: 0.101.. \n",
            "Epoch: 204/600..  Training Loss: 0.088..  Test Loss: 0.097.. \n",
            "Epoch: 205/600..  Training Loss: 0.094..  Test Loss: 0.102.. \n",
            "Epoch: 206/600..  Training Loss: 0.094..  Test Loss: 0.102.. \n",
            "Epoch: 207/600..  Training Loss: 0.094..  Test Loss: 0.098.. \n",
            "Epoch: 208/600..  Training Loss: 0.092..  Test Loss: 0.118.. \n",
            "Epoch: 209/600..  Training Loss: 0.097..  Test Loss: 0.112.. \n",
            "Epoch: 210/600..  Training Loss: 0.099..  Test Loss: 0.105.. \n",
            "Epoch: 211/600..  Training Loss: 0.096..  Test Loss: 0.116.. \n",
            "Epoch: 212/600..  Training Loss: 0.101..  Test Loss: 0.114.. \n",
            "Epoch: 213/600..  Training Loss: 0.090..  Test Loss: 0.103.. \n",
            "Epoch: 214/600..  Training Loss: 0.094..  Test Loss: 0.099.. \n",
            "Epoch: 215/600..  Training Loss: 0.097..  Test Loss: 0.098.. \n",
            "Epoch: 216/600..  Training Loss: 0.093..  Test Loss: 0.097.. \n",
            "Epoch: 217/600..  Training Loss: 0.091..  Test Loss: 0.100.. \n",
            "Epoch: 218/600..  Training Loss: 0.088..  Test Loss: 0.099.. \n",
            "Epoch: 219/600..  Training Loss: 0.090..  Test Loss: 0.111.. \n",
            "Epoch: 220/600..  Training Loss: 0.092..  Test Loss: 0.097.. \n",
            "Epoch: 221/600..  Training Loss: 0.092..  Test Loss: 0.111.. \n",
            "Epoch: 222/600..  Training Loss: 0.091..  Test Loss: 0.099.. \n",
            "Epoch: 223/600..  Training Loss: 0.090..  Test Loss: 0.108.. \n",
            "Epoch: 224/600..  Training Loss: 0.096..  Test Loss: 0.108.. \n",
            "Epoch: 225/600..  Training Loss: 0.095..  Test Loss: 0.116.. \n",
            "Epoch: 226/600..  Training Loss: 0.093..  Test Loss: 0.107.. \n",
            "Epoch: 227/600..  Training Loss: 0.090..  Test Loss: 0.098.. \n",
            "Epoch: 228/600..  Training Loss: 0.095..  Test Loss: 0.103.. \n",
            "Epoch: 229/600..  Training Loss: 0.091..  Test Loss: 0.109.. \n",
            "Epoch: 230/600..  Training Loss: 0.089..  Test Loss: 0.101.. \n",
            "Epoch: 231/600..  Training Loss: 0.092..  Test Loss: 0.112.. \n",
            "Epoch: 232/600..  Training Loss: 0.092..  Test Loss: 0.093.. \n",
            "Epoch: 233/600..  Training Loss: 0.089..  Test Loss: 0.096.. \n",
            "Epoch: 234/600..  Training Loss: 0.089..  Test Loss: 0.114.. \n",
            "Epoch: 235/600..  Training Loss: 0.086..  Test Loss: 0.102.. \n",
            "Epoch: 236/600..  Training Loss: 0.091..  Test Loss: 0.104.. \n",
            "Epoch: 237/600..  Training Loss: 0.089..  Test Loss: 0.099.. \n",
            "Epoch: 238/600..  Training Loss: 0.092..  Test Loss: 0.098.. \n",
            "Epoch: 239/600..  Training Loss: 0.092..  Test Loss: 0.101.. \n",
            "Epoch: 240/600..  Training Loss: 0.091..  Test Loss: 0.110.. \n",
            "Epoch: 241/600..  Training Loss: 0.096..  Test Loss: 0.133.. \n",
            "Epoch: 242/600..  Training Loss: 0.096..  Test Loss: 0.097.. \n",
            "Epoch: 243/600..  Training Loss: 0.091..  Test Loss: 0.092.. \n",
            "Epoch: 244/600..  Training Loss: 0.090..  Test Loss: 0.107.. \n",
            "Epoch: 245/600..  Training Loss: 0.087..  Test Loss: 0.106.. \n",
            "Epoch: 246/600..  Training Loss: 0.087..  Test Loss: 0.094.. \n",
            "Epoch: 247/600..  Training Loss: 0.091..  Test Loss: 0.123.. \n",
            "Epoch: 248/600..  Training Loss: 0.090..  Test Loss: 0.092.. \n",
            "Epoch: 249/600..  Training Loss: 0.084..  Test Loss: 0.104.. \n",
            "Epoch: 250/600..  Training Loss: 0.085..  Test Loss: 0.094.. \n",
            "Epoch: 251/600..  Training Loss: 0.090..  Test Loss: 0.113.. \n",
            "Epoch: 252/600..  Training Loss: 0.096..  Test Loss: 0.107.. \n",
            "Epoch: 253/600..  Training Loss: 0.085..  Test Loss: 0.097.. \n",
            "Epoch: 254/600..  Training Loss: 0.093..  Test Loss: 0.101.. \n",
            "Epoch: 255/600..  Training Loss: 0.089..  Test Loss: 0.100.. \n",
            "Epoch: 256/600..  Training Loss: 0.087..  Test Loss: 0.102.. \n",
            "Epoch: 257/600..  Training Loss: 0.092..  Test Loss: 0.111.. \n",
            "Epoch: 258/600..  Training Loss: 0.088..  Test Loss: 0.092.. \n",
            "Epoch: 259/600..  Training Loss: 0.092..  Test Loss: 0.095.. \n",
            "Epoch: 260/600..  Training Loss: 0.085..  Test Loss: 0.105.. \n",
            "Epoch: 261/600..  Training Loss: 0.099..  Test Loss: 0.099.. \n",
            "Epoch: 262/600..  Training Loss: 0.102..  Test Loss: 0.100.. \n",
            "Epoch: 263/600..  Training Loss: 0.091..  Test Loss: 0.094.. \n",
            "Epoch: 264/600..  Training Loss: 0.088..  Test Loss: 0.091.. \n",
            "Epoch: 265/600..  Training Loss: 0.087..  Test Loss: 0.106.. \n",
            "Epoch: 266/600..  Training Loss: 0.090..  Test Loss: 0.096.. \n",
            "Epoch: 267/600..  Training Loss: 0.086..  Test Loss: 0.099.. \n",
            "Epoch: 268/600..  Training Loss: 0.087..  Test Loss: 0.094.. \n",
            "Epoch: 269/600..  Training Loss: 0.090..  Test Loss: 0.096.. \n",
            "Epoch: 270/600..  Training Loss: 0.092..  Test Loss: 0.094.. \n",
            "Epoch: 271/600..  Training Loss: 0.092..  Test Loss: 0.092.. \n",
            "Epoch: 272/600..  Training Loss: 0.088..  Test Loss: 0.098.. \n",
            "Epoch: 273/600..  Training Loss: 0.085..  Test Loss: 0.092.. \n",
            "Epoch: 274/600..  Training Loss: 0.082..  Test Loss: 0.095.. \n",
            "Epoch: 275/600..  Training Loss: 0.092..  Test Loss: 0.112.. \n",
            "Epoch: 276/600..  Training Loss: 0.088..  Test Loss: 0.099.. \n",
            "Epoch: 277/600..  Training Loss: 0.086..  Test Loss: 0.090.. \n",
            "Epoch: 278/600..  Training Loss: 0.092..  Test Loss: 0.094.. \n",
            "Epoch: 279/600..  Training Loss: 0.088..  Test Loss: 0.095.. \n",
            "Epoch: 280/600..  Training Loss: 0.089..  Test Loss: 0.101.. \n",
            "Epoch: 281/600..  Training Loss: 0.093..  Test Loss: 0.112.. \n",
            "Epoch: 282/600..  Training Loss: 0.092..  Test Loss: 0.096.. \n",
            "Epoch: 283/600..  Training Loss: 0.102..  Test Loss: 0.115.. \n",
            "Epoch: 284/600..  Training Loss: 0.091..  Test Loss: 0.103.. \n",
            "Epoch: 285/600..  Training Loss: 0.092..  Test Loss: 0.099.. \n",
            "Epoch: 286/600..  Training Loss: 0.088..  Test Loss: 0.106.. \n",
            "Epoch: 287/600..  Training Loss: 0.096..  Test Loss: 0.104.. \n",
            "Epoch: 288/600..  Training Loss: 0.091..  Test Loss: 0.099.. \n",
            "Epoch: 289/600..  Training Loss: 0.089..  Test Loss: 0.093.. \n",
            "Epoch: 290/600..  Training Loss: 0.089..  Test Loss: 0.100.. \n",
            "Epoch: 291/600..  Training Loss: 0.088..  Test Loss: 0.094.. \n",
            "Epoch: 292/600..  Training Loss: 0.090..  Test Loss: 0.097.. \n",
            "Epoch: 293/600..  Training Loss: 0.087..  Test Loss: 0.102.. \n",
            "Epoch: 294/600..  Training Loss: 0.088..  Test Loss: 0.096.. \n",
            "Epoch: 295/600..  Training Loss: 0.090..  Test Loss: 0.104.. \n",
            "Epoch: 296/600..  Training Loss: 0.091..  Test Loss: 0.098.. \n",
            "Epoch: 297/600..  Training Loss: 0.098..  Test Loss: 0.101.. \n",
            "Epoch: 298/600..  Training Loss: 0.090..  Test Loss: 0.098.. \n",
            "Epoch: 299/600..  Training Loss: 0.091..  Test Loss: 0.106.. \n",
            "Epoch: 300/600..  Training Loss: 0.089..  Test Loss: 0.105.. \n",
            "Epoch: 301/600..  Training Loss: 0.087..  Test Loss: 0.099.. \n",
            "Epoch: 302/600..  Training Loss: 0.091..  Test Loss: 0.119.. \n",
            "Epoch: 303/600..  Training Loss: 0.105..  Test Loss: 0.101.. \n",
            "Epoch: 304/600..  Training Loss: 0.090..  Test Loss: 0.101.. \n",
            "Epoch: 305/600..  Training Loss: 0.089..  Test Loss: 0.122.. \n",
            "Epoch: 306/600..  Training Loss: 0.094..  Test Loss: 0.096.. \n",
            "Epoch: 307/600..  Training Loss: 0.084..  Test Loss: 0.092.. \n",
            "Epoch: 308/600..  Training Loss: 0.087..  Test Loss: 0.093.. \n",
            "Epoch: 309/600..  Training Loss: 0.087..  Test Loss: 0.099.. \n",
            "Epoch: 310/600..  Training Loss: 0.085..  Test Loss: 0.099.. \n",
            "Epoch: 311/600..  Training Loss: 0.088..  Test Loss: 0.094.. \n",
            "Epoch: 312/600..  Training Loss: 0.086..  Test Loss: 0.099.. \n",
            "Epoch: 313/600..  Training Loss: 0.086..  Test Loss: 0.093.. \n",
            "Epoch: 314/600..  Training Loss: 0.086..  Test Loss: 0.104.. \n",
            "Epoch: 315/600..  Training Loss: 0.091..  Test Loss: 0.100.. \n",
            "Epoch: 316/600..  Training Loss: 0.086..  Test Loss: 0.101.. \n",
            "Epoch: 317/600..  Training Loss: 0.086..  Test Loss: 0.099.. \n",
            "Epoch: 318/600..  Training Loss: 0.086..  Test Loss: 0.092.. \n",
            "Epoch: 319/600..  Training Loss: 0.086..  Test Loss: 0.097.. \n",
            "Epoch: 320/600..  Training Loss: 0.087..  Test Loss: 0.111.. \n",
            "Epoch: 321/600..  Training Loss: 0.091..  Test Loss: 0.098.. \n",
            "Epoch: 322/600..  Training Loss: 0.085..  Test Loss: 0.105.. \n",
            "Epoch: 323/600..  Training Loss: 0.085..  Test Loss: 0.103.. \n",
            "Epoch: 324/600..  Training Loss: 0.085..  Test Loss: 0.097.. \n",
            "Epoch: 325/600..  Training Loss: 0.089..  Test Loss: 0.096.. \n",
            "Epoch: 326/600..  Training Loss: 0.088..  Test Loss: 0.096.. \n",
            "Epoch: 327/600..  Training Loss: 0.092..  Test Loss: 0.095.. \n",
            "Epoch: 328/600..  Training Loss: 0.089..  Test Loss: 0.094.. \n",
            "Epoch: 329/600..  Training Loss: 0.085..  Test Loss: 0.090.. \n",
            "Epoch: 330/600..  Training Loss: 0.088..  Test Loss: 0.094.. \n",
            "Epoch: 331/600..  Training Loss: 0.096..  Test Loss: 0.107.. \n",
            "Epoch: 332/600..  Training Loss: 0.095..  Test Loss: 0.127.. \n",
            "Epoch: 333/600..  Training Loss: 0.096..  Test Loss: 0.107.. \n",
            "Epoch: 334/600..  Training Loss: 0.087..  Test Loss: 0.089.. \n",
            "Epoch: 335/600..  Training Loss: 0.084..  Test Loss: 0.096.. \n",
            "Epoch: 336/600..  Training Loss: 0.087..  Test Loss: 0.098.. \n",
            "Epoch: 337/600..  Training Loss: 0.088..  Test Loss: 0.108.. \n",
            "Epoch: 338/600..  Training Loss: 0.089..  Test Loss: 0.112.. \n",
            "Epoch: 339/600..  Training Loss: 0.084..  Test Loss: 0.108.. \n",
            "Epoch: 340/600..  Training Loss: 0.088..  Test Loss: 0.105.. \n",
            "Epoch: 341/600..  Training Loss: 0.085..  Test Loss: 0.097.. \n",
            "Epoch: 342/600..  Training Loss: 0.085..  Test Loss: 0.100.. \n",
            "Epoch: 343/600..  Training Loss: 0.082..  Test Loss: 0.095.. \n",
            "Epoch: 344/600..  Training Loss: 0.087..  Test Loss: 0.105.. \n",
            "Epoch: 345/600..  Training Loss: 0.089..  Test Loss: 0.102.. \n",
            "Epoch: 346/600..  Training Loss: 0.087..  Test Loss: 0.097.. \n",
            "Epoch: 347/600..  Training Loss: 0.084..  Test Loss: 0.099.. \n",
            "Epoch: 348/600..  Training Loss: 0.085..  Test Loss: 0.102.. \n",
            "Epoch: 349/600..  Training Loss: 0.090..  Test Loss: 0.101.. \n",
            "Epoch: 350/600..  Training Loss: 0.085..  Test Loss: 0.096.. \n",
            "Epoch: 351/600..  Training Loss: 0.090..  Test Loss: 0.106.. \n",
            "Epoch: 352/600..  Training Loss: 0.092..  Test Loss: 0.099.. \n",
            "Epoch: 353/600..  Training Loss: 0.083..  Test Loss: 0.114.. \n",
            "Epoch: 354/600..  Training Loss: 0.084..  Test Loss: 0.099.. \n",
            "Epoch: 355/600..  Training Loss: 0.090..  Test Loss: 0.103.. \n",
            "Epoch: 356/600..  Training Loss: 0.087..  Test Loss: 0.096.. \n",
            "Epoch: 357/600..  Training Loss: 0.086..  Test Loss: 0.111.. \n",
            "Epoch: 358/600..  Training Loss: 0.087..  Test Loss: 0.100.. \n",
            "Epoch: 359/600..  Training Loss: 0.087..  Test Loss: 0.096.. \n",
            "Epoch: 360/600..  Training Loss: 0.089..  Test Loss: 0.104.. \n",
            "Epoch: 361/600..  Training Loss: 0.085..  Test Loss: 0.106.. \n",
            "Epoch: 362/600..  Training Loss: 0.086..  Test Loss: 0.096.. \n",
            "Epoch: 363/600..  Training Loss: 0.083..  Test Loss: 0.099.. \n",
            "Epoch: 364/600..  Training Loss: 0.083..  Test Loss: 0.101.. \n",
            "Epoch: 365/600..  Training Loss: 0.082..  Test Loss: 0.095.. \n",
            "Epoch: 366/600..  Training Loss: 0.086..  Test Loss: 0.116.. \n",
            "Epoch: 367/600..  Training Loss: 0.089..  Test Loss: 0.104.. \n",
            "Epoch: 368/600..  Training Loss: 0.086..  Test Loss: 0.095.. \n",
            "Epoch: 369/600..  Training Loss: 0.087..  Test Loss: 0.101.. \n",
            "Epoch: 370/600..  Training Loss: 0.087..  Test Loss: 0.095.. \n",
            "Epoch: 371/600..  Training Loss: 0.084..  Test Loss: 0.098.. \n",
            "Epoch: 372/600..  Training Loss: 0.083..  Test Loss: 0.095.. \n",
            "Epoch: 373/600..  Training Loss: 0.082..  Test Loss: 0.093.. \n",
            "Epoch: 374/600..  Training Loss: 0.083..  Test Loss: 0.094.. \n",
            "Epoch: 375/600..  Training Loss: 0.085..  Test Loss: 0.095.. \n",
            "Epoch: 376/600..  Training Loss: 0.084..  Test Loss: 0.095.. \n",
            "Epoch: 377/600..  Training Loss: 0.080..  Test Loss: 0.092.. \n",
            "Epoch: 378/600..  Training Loss: 0.080..  Test Loss: 0.105.. \n",
            "Epoch: 379/600..  Training Loss: 0.084..  Test Loss: 0.102.. \n",
            "Epoch: 380/600..  Training Loss: 0.085..  Test Loss: 0.098.. \n",
            "Epoch: 381/600..  Training Loss: 0.084..  Test Loss: 0.104.. \n",
            "Epoch: 382/600..  Training Loss: 0.085..  Test Loss: 0.093.. \n",
            "Epoch: 383/600..  Training Loss: 0.083..  Test Loss: 0.102.. \n",
            "Epoch: 384/600..  Training Loss: 0.089..  Test Loss: 0.097.. \n",
            "Epoch: 385/600..  Training Loss: 0.086..  Test Loss: 0.093.. \n",
            "Epoch: 386/600..  Training Loss: 0.090..  Test Loss: 0.110.. \n",
            "Epoch: 387/600..  Training Loss: 0.085..  Test Loss: 0.097.. \n",
            "Epoch: 388/600..  Training Loss: 0.087..  Test Loss: 0.103.. \n",
            "Epoch: 389/600..  Training Loss: 0.080..  Test Loss: 0.095.. \n",
            "Epoch: 390/600..  Training Loss: 0.087..  Test Loss: 0.096.. \n",
            "Epoch: 391/600..  Training Loss: 0.084..  Test Loss: 0.102.. \n",
            "Epoch: 392/600..  Training Loss: 0.087..  Test Loss: 0.097.. \n",
            "Epoch: 393/600..  Training Loss: 0.085..  Test Loss: 0.104.. \n",
            "Epoch: 394/600..  Training Loss: 0.080..  Test Loss: 0.094.. \n",
            "Epoch: 395/600..  Training Loss: 0.085..  Test Loss: 0.092.. \n",
            "Epoch: 396/600..  Training Loss: 0.083..  Test Loss: 0.097.. \n",
            "Epoch: 397/600..  Training Loss: 0.083..  Test Loss: 0.092.. \n",
            "Epoch: 398/600..  Training Loss: 0.085..  Test Loss: 0.103.. \n",
            "Epoch: 399/600..  Training Loss: 0.084..  Test Loss: 0.096.. \n",
            "Epoch: 400/600..  Training Loss: 0.082..  Test Loss: 0.092.. \n",
            "Epoch: 401/600..  Training Loss: 0.082..  Test Loss: 0.089.. \n",
            "Epoch: 402/600..  Training Loss: 0.079..  Test Loss: 0.104.. \n",
            "Epoch: 403/600..  Training Loss: 0.079..  Test Loss: 0.094.. \n",
            "Epoch: 404/600..  Training Loss: 0.085..  Test Loss: 0.093.. \n",
            "Epoch: 405/600..  Training Loss: 0.080..  Test Loss: 0.095.. \n",
            "Epoch: 406/600..  Training Loss: 0.083..  Test Loss: 0.097.. \n",
            "Epoch: 407/600..  Training Loss: 0.082..  Test Loss: 0.100.. \n",
            "Epoch: 408/600..  Training Loss: 0.081..  Test Loss: 0.100.. \n",
            "Epoch: 409/600..  Training Loss: 0.083..  Test Loss: 0.101.. \n",
            "Epoch: 410/600..  Training Loss: 0.086..  Test Loss: 0.112.. \n",
            "Epoch: 411/600..  Training Loss: 0.084..  Test Loss: 0.098.. \n",
            "Epoch: 412/600..  Training Loss: 0.084..  Test Loss: 0.093.. \n",
            "Epoch: 413/600..  Training Loss: 0.079..  Test Loss: 0.099.. \n",
            "Epoch: 414/600..  Training Loss: 0.084..  Test Loss: 0.094.. \n",
            "Epoch: 415/600..  Training Loss: 0.085..  Test Loss: 0.094.. \n",
            "Epoch: 416/600..  Training Loss: 0.082..  Test Loss: 0.094.. \n",
            "Epoch: 417/600..  Training Loss: 0.078..  Test Loss: 0.095.. \n",
            "Epoch: 418/600..  Training Loss: 0.079..  Test Loss: 0.092.. \n",
            "Epoch: 419/600..  Training Loss: 0.079..  Test Loss: 0.092.. \n",
            "Epoch: 420/600..  Training Loss: 0.083..  Test Loss: 0.094.. \n",
            "Epoch: 421/600..  Training Loss: 0.083..  Test Loss: 0.103.. \n",
            "Epoch: 422/600..  Training Loss: 0.081..  Test Loss: 0.103.. \n",
            "Epoch: 423/600..  Training Loss: 0.089..  Test Loss: 0.110.. \n",
            "Epoch: 424/600..  Training Loss: 0.078..  Test Loss: 0.093.. \n",
            "Epoch: 425/600..  Training Loss: 0.083..  Test Loss: 0.092.. \n",
            "Epoch: 426/600..  Training Loss: 0.082..  Test Loss: 0.095.. \n",
            "Epoch: 427/600..  Training Loss: 0.084..  Test Loss: 0.097.. \n",
            "Epoch: 428/600..  Training Loss: 0.082..  Test Loss: 0.099.. \n",
            "Epoch: 429/600..  Training Loss: 0.080..  Test Loss: 0.096.. \n",
            "Epoch: 430/600..  Training Loss: 0.082..  Test Loss: 0.096.. \n",
            "Epoch: 431/600..  Training Loss: 0.082..  Test Loss: 0.094.. \n",
            "Epoch: 432/600..  Training Loss: 0.085..  Test Loss: 0.097.. \n",
            "Epoch: 433/600..  Training Loss: 0.084..  Test Loss: 0.094.. \n",
            "Epoch: 434/600..  Training Loss: 0.081..  Test Loss: 0.097.. \n",
            "Epoch: 435/600..  Training Loss: 0.079..  Test Loss: 0.094.. \n",
            "Epoch: 436/600..  Training Loss: 0.081..  Test Loss: 0.097.. \n",
            "Epoch: 437/600..  Training Loss: 0.083..  Test Loss: 0.095.. \n",
            "Epoch: 438/600..  Training Loss: 0.080..  Test Loss: 0.111.. \n",
            "Epoch: 439/600..  Training Loss: 0.081..  Test Loss: 0.100.. \n",
            "Epoch: 440/600..  Training Loss: 0.082..  Test Loss: 0.097.. \n",
            "Epoch: 441/600..  Training Loss: 0.084..  Test Loss: 0.108.. \n",
            "Epoch: 442/600..  Training Loss: 0.077..  Test Loss: 0.093.. \n",
            "Epoch: 443/600..  Training Loss: 0.079..  Test Loss: 0.096.. \n",
            "Epoch: 444/600..  Training Loss: 0.079..  Test Loss: 0.096.. \n",
            "Epoch: 445/600..  Training Loss: 0.079..  Test Loss: 0.095.. \n",
            "Epoch: 446/600..  Training Loss: 0.080..  Test Loss: 0.092.. \n",
            "Epoch: 447/600..  Training Loss: 0.080..  Test Loss: 0.092.. \n",
            "Epoch: 448/600..  Training Loss: 0.081..  Test Loss: 0.102.. \n",
            "Epoch: 449/600..  Training Loss: 0.083..  Test Loss: 0.100.. \n",
            "Epoch: 450/600..  Training Loss: 0.084..  Test Loss: 0.095.. \n",
            "Epoch: 451/600..  Training Loss: 0.078..  Test Loss: 0.092.. \n",
            "Epoch: 452/600..  Training Loss: 0.077..  Test Loss: 0.110.. \n",
            "Epoch: 453/600..  Training Loss: 0.084..  Test Loss: 0.100.. \n",
            "Epoch: 454/600..  Training Loss: 0.076..  Test Loss: 0.097.. \n",
            "Epoch: 455/600..  Training Loss: 0.081..  Test Loss: 0.093.. \n",
            "Epoch: 456/600..  Training Loss: 0.078..  Test Loss: 0.091.. \n",
            "Epoch: 457/600..  Training Loss: 0.078..  Test Loss: 0.094.. \n",
            "Epoch: 458/600..  Training Loss: 0.080..  Test Loss: 0.096.. \n",
            "Epoch: 459/600..  Training Loss: 0.083..  Test Loss: 0.111.. \n",
            "Epoch: 460/600..  Training Loss: 0.084..  Test Loss: 0.108.. \n",
            "Epoch: 461/600..  Training Loss: 0.082..  Test Loss: 0.088.. \n",
            "Epoch: 462/600..  Training Loss: 0.081..  Test Loss: 0.096.. \n",
            "Epoch: 463/600..  Training Loss: 0.081..  Test Loss: 0.100.. \n",
            "Epoch: 464/600..  Training Loss: 0.090..  Test Loss: 0.093.. \n",
            "Epoch: 465/600..  Training Loss: 0.087..  Test Loss: 0.095.. \n",
            "Epoch: 466/600..  Training Loss: 0.083..  Test Loss: 0.101.. \n",
            "Epoch: 467/600..  Training Loss: 0.085..  Test Loss: 0.094.. \n",
            "Epoch: 468/600..  Training Loss: 0.081..  Test Loss: 0.090.. \n",
            "Epoch: 469/600..  Training Loss: 0.080..  Test Loss: 0.091.. \n",
            "Epoch: 470/600..  Training Loss: 0.083..  Test Loss: 0.090.. \n",
            "Epoch: 471/600..  Training Loss: 0.078..  Test Loss: 0.094.. \n",
            "Epoch: 472/600..  Training Loss: 0.079..  Test Loss: 0.095.. \n",
            "Epoch: 473/600..  Training Loss: 0.084..  Test Loss: 0.095.. \n",
            "Epoch: 474/600..  Training Loss: 0.081..  Test Loss: 0.110.. \n",
            "Epoch: 475/600..  Training Loss: 0.085..  Test Loss: 0.094.. \n",
            "Epoch: 476/600..  Training Loss: 0.080..  Test Loss: 0.095.. \n",
            "Epoch: 477/600..  Training Loss: 0.078..  Test Loss: 0.090.. \n",
            "Epoch: 478/600..  Training Loss: 0.079..  Test Loss: 0.097.. \n",
            "Epoch: 479/600..  Training Loss: 0.078..  Test Loss: 0.093.. \n",
            "Epoch: 480/600..  Training Loss: 0.083..  Test Loss: 0.092.. \n",
            "Epoch: 481/600..  Training Loss: 0.085..  Test Loss: 0.103.. \n",
            "Epoch: 482/600..  Training Loss: 0.081..  Test Loss: 0.102.. \n",
            "Epoch: 483/600..  Training Loss: 0.081..  Test Loss: 0.093.. \n",
            "Epoch: 484/600..  Training Loss: 0.081..  Test Loss: 0.105.. \n",
            "Epoch: 485/600..  Training Loss: 0.085..  Test Loss: 0.101.. \n",
            "Epoch: 486/600..  Training Loss: 0.083..  Test Loss: 0.103.. \n",
            "Epoch: 487/600..  Training Loss: 0.090..  Test Loss: 0.097.. \n",
            "Epoch: 488/600..  Training Loss: 0.082..  Test Loss: 0.094.. \n",
            "Epoch: 489/600..  Training Loss: 0.079..  Test Loss: 0.091.. \n",
            "Epoch: 490/600..  Training Loss: 0.081..  Test Loss: 0.095.. \n",
            "Epoch: 491/600..  Training Loss: 0.082..  Test Loss: 0.090.. \n",
            "Epoch: 492/600..  Training Loss: 0.078..  Test Loss: 0.098.. \n",
            "Epoch: 493/600..  Training Loss: 0.083..  Test Loss: 0.093.. \n",
            "Epoch: 494/600..  Training Loss: 0.084..  Test Loss: 0.091.. \n",
            "Epoch: 495/600..  Training Loss: 0.088..  Test Loss: 0.102.. \n",
            "Epoch: 496/600..  Training Loss: 0.085..  Test Loss: 0.097.. \n",
            "Epoch: 497/600..  Training Loss: 0.083..  Test Loss: 0.095.. \n",
            "Epoch: 498/600..  Training Loss: 0.079..  Test Loss: 0.101.. \n",
            "Epoch: 499/600..  Training Loss: 0.079..  Test Loss: 0.092.. \n",
            "Epoch: 500/600..  Training Loss: 0.083..  Test Loss: 0.094.. \n",
            "Epoch: 501/600..  Training Loss: 0.078..  Test Loss: 0.103.. \n",
            "Epoch: 502/600..  Training Loss: 0.082..  Test Loss: 0.099.. \n",
            "Epoch: 503/600..  Training Loss: 0.082..  Test Loss: 0.118.. \n",
            "Epoch: 504/600..  Training Loss: 0.087..  Test Loss: 0.097.. \n",
            "Epoch: 505/600..  Training Loss: 0.079..  Test Loss: 0.093.. \n",
            "Epoch: 506/600..  Training Loss: 0.079..  Test Loss: 0.091.. \n",
            "Epoch: 507/600..  Training Loss: 0.079..  Test Loss: 0.104.. \n",
            "Epoch: 508/600..  Training Loss: 0.083..  Test Loss: 0.099.. \n",
            "Epoch: 509/600..  Training Loss: 0.079..  Test Loss: 0.090.. \n",
            "Epoch: 510/600..  Training Loss: 0.077..  Test Loss: 0.089.. \n",
            "Epoch: 511/600..  Training Loss: 0.079..  Test Loss: 0.094.. \n",
            "Epoch: 512/600..  Training Loss: 0.081..  Test Loss: 0.096.. \n",
            "Epoch: 513/600..  Training Loss: 0.080..  Test Loss: 0.097.. \n",
            "Epoch: 514/600..  Training Loss: 0.082..  Test Loss: 0.096.. \n",
            "Epoch: 515/600..  Training Loss: 0.083..  Test Loss: 0.106.. \n",
            "Epoch: 516/600..  Training Loss: 0.082..  Test Loss: 0.093.. \n",
            "Epoch: 517/600..  Training Loss: 0.075..  Test Loss: 0.092.. \n",
            "Epoch: 518/600..  Training Loss: 0.083..  Test Loss: 0.091.. \n",
            "Epoch: 519/600..  Training Loss: 0.093..  Test Loss: 0.111.. \n",
            "Epoch: 520/600..  Training Loss: 0.087..  Test Loss: 0.102.. \n",
            "Epoch: 521/600..  Training Loss: 0.084..  Test Loss: 0.089.. \n",
            "Epoch: 522/600..  Training Loss: 0.082..  Test Loss: 0.089.. \n",
            "Epoch: 523/600..  Training Loss: 0.084..  Test Loss: 0.103.. \n",
            "Epoch: 524/600..  Training Loss: 0.079..  Test Loss: 0.098.. \n",
            "Epoch: 525/600..  Training Loss: 0.079..  Test Loss: 0.093.. \n",
            "Epoch: 526/600..  Training Loss: 0.081..  Test Loss: 0.096.. \n",
            "Epoch: 527/600..  Training Loss: 0.081..  Test Loss: 0.095.. \n",
            "Epoch: 528/600..  Training Loss: 0.081..  Test Loss: 0.093.. \n",
            "Epoch: 529/600..  Training Loss: 0.077..  Test Loss: 0.095.. \n",
            "Epoch: 530/600..  Training Loss: 0.078..  Test Loss: 0.097.. \n",
            "Epoch: 531/600..  Training Loss: 0.079..  Test Loss: 0.090.. \n",
            "Epoch: 532/600..  Training Loss: 0.078..  Test Loss: 0.104.. \n",
            "Epoch: 533/600..  Training Loss: 0.082..  Test Loss: 0.098.. \n",
            "Epoch: 534/600..  Training Loss: 0.081..  Test Loss: 0.098.. \n",
            "Epoch: 535/600..  Training Loss: 0.080..  Test Loss: 0.094.. \n",
            "Epoch: 536/600..  Training Loss: 0.083..  Test Loss: 0.096.. \n",
            "Epoch: 537/600..  Training Loss: 0.079..  Test Loss: 0.104.. \n",
            "Epoch: 538/600..  Training Loss: 0.086..  Test Loss: 0.101.. \n",
            "Epoch: 539/600..  Training Loss: 0.081..  Test Loss: 0.109.. \n",
            "Epoch: 540/600..  Training Loss: 0.085..  Test Loss: 0.089.. \n",
            "Epoch: 541/600..  Training Loss: 0.081..  Test Loss: 0.093.. \n",
            "Epoch: 542/600..  Training Loss: 0.079..  Test Loss: 0.101.. \n",
            "Epoch: 543/600..  Training Loss: 0.080..  Test Loss: 0.094.. \n",
            "Epoch: 544/600..  Training Loss: 0.081..  Test Loss: 0.104.. \n",
            "Epoch: 545/600..  Training Loss: 0.077..  Test Loss: 0.105.. \n",
            "Epoch: 546/600..  Training Loss: 0.082..  Test Loss: 0.113.. \n",
            "Epoch: 547/600..  Training Loss: 0.084..  Test Loss: 0.109.. \n",
            "Epoch: 548/600..  Training Loss: 0.080..  Test Loss: 0.099.. \n",
            "Epoch: 549/600..  Training Loss: 0.083..  Test Loss: 0.094.. \n",
            "Epoch: 550/600..  Training Loss: 0.080..  Test Loss: 0.099.. \n",
            "Epoch: 551/600..  Training Loss: 0.078..  Test Loss: 0.095.. \n",
            "Epoch: 552/600..  Training Loss: 0.079..  Test Loss: 0.105.. \n",
            "Epoch: 553/600..  Training Loss: 0.082..  Test Loss: 0.095.. \n",
            "Epoch: 554/600..  Training Loss: 0.080..  Test Loss: 0.095.. \n",
            "Epoch: 555/600..  Training Loss: 0.079..  Test Loss: 0.092.. \n",
            "Epoch: 556/600..  Training Loss: 0.077..  Test Loss: 0.092.. \n",
            "Epoch: 557/600..  Training Loss: 0.079..  Test Loss: 0.093.. \n",
            "Epoch: 558/600..  Training Loss: 0.081..  Test Loss: 0.097.. \n",
            "Epoch: 559/600..  Training Loss: 0.076..  Test Loss: 0.092.. \n",
            "Epoch: 560/600..  Training Loss: 0.078..  Test Loss: 0.094.. \n",
            "Epoch: 561/600..  Training Loss: 0.083..  Test Loss: 0.095.. \n",
            "Epoch: 562/600..  Training Loss: 0.082..  Test Loss: 0.094.. \n",
            "Epoch: 563/600..  Training Loss: 0.078..  Test Loss: 0.095.. \n",
            "Epoch: 564/600..  Training Loss: 0.075..  Test Loss: 0.094.. \n",
            "Epoch: 565/600..  Training Loss: 0.078..  Test Loss: 0.096.. \n",
            "Epoch: 566/600..  Training Loss: 0.083..  Test Loss: 0.089.. \n",
            "Epoch: 567/600..  Training Loss: 0.077..  Test Loss: 0.093.. \n",
            "Epoch: 568/600..  Training Loss: 0.089..  Test Loss: 0.134.. \n",
            "Epoch: 569/600..  Training Loss: 0.085..  Test Loss: 0.091.. \n",
            "Epoch: 570/600..  Training Loss: 0.078..  Test Loss: 0.092.. \n",
            "Epoch: 571/600..  Training Loss: 0.074..  Test Loss: 0.103.. \n",
            "Epoch: 572/600..  Training Loss: 0.078..  Test Loss: 0.094.. \n",
            "Epoch: 573/600..  Training Loss: 0.077..  Test Loss: 0.100.. \n",
            "Epoch: 574/600..  Training Loss: 0.079..  Test Loss: 0.092.. \n",
            "Epoch: 575/600..  Training Loss: 0.079..  Test Loss: 0.093.. \n",
            "Epoch: 576/600..  Training Loss: 0.078..  Test Loss: 0.094.. \n",
            "Epoch: 577/600..  Training Loss: 0.082..  Test Loss: 0.097.. \n",
            "Epoch: 578/600..  Training Loss: 0.081..  Test Loss: 0.090.. \n",
            "Epoch: 579/600..  Training Loss: 0.081..  Test Loss: 0.096.. \n",
            "Epoch: 580/600..  Training Loss: 0.076..  Test Loss: 0.089.. \n",
            "Epoch: 581/600..  Training Loss: 0.078..  Test Loss: 0.084.. \n",
            "Epoch: 582/600..  Training Loss: 0.078..  Test Loss: 0.093.. \n",
            "Epoch: 583/600..  Training Loss: 0.075..  Test Loss: 0.102.. \n",
            "Epoch: 584/600..  Training Loss: 0.082..  Test Loss: 0.108.. \n",
            "Epoch: 585/600..  Training Loss: 0.078..  Test Loss: 0.090.. \n",
            "Epoch: 586/600..  Training Loss: 0.081..  Test Loss: 0.099.. \n",
            "Epoch: 587/600..  Training Loss: 0.076..  Test Loss: 0.093.. \n",
            "Epoch: 588/600..  Training Loss: 0.078..  Test Loss: 0.093.. \n",
            "Epoch: 589/600..  Training Loss: 0.078..  Test Loss: 0.088.. \n",
            "Epoch: 590/600..  Training Loss: 0.076..  Test Loss: 0.096.. \n",
            "Epoch: 591/600..  Training Loss: 0.077..  Test Loss: 0.105.. \n",
            "Epoch: 592/600..  Training Loss: 0.078..  Test Loss: 0.088.. \n",
            "Epoch: 593/600..  Training Loss: 0.079..  Test Loss: 0.093.. \n",
            "Epoch: 594/600..  Training Loss: 0.082..  Test Loss: 0.092.. \n",
            "Epoch: 595/600..  Training Loss: 0.076..  Test Loss: 0.094.. \n",
            "Epoch: 596/600..  Training Loss: 0.084..  Test Loss: 0.094.. \n",
            "Epoch: 597/600..  Training Loss: 0.076..  Test Loss: 0.089.. \n",
            "Epoch: 598/600..  Training Loss: 0.078..  Test Loss: 0.102.. \n",
            "Epoch: 599/600..  Training Loss: 0.081..  Test Loss: 0.094.. \n",
            "Epoch: 600/600..  Training Loss: 0.079..  Test Loss: 0.092.. \n"
          ]
        }
      ]
    },
    {
      "cell_type": "code",
      "source": [
        "import matplotlib.pyplot as plt\n",
        "plt.plot(train_losses, label='Training Errors')\n",
        "plt.plot(test_losses, label='Validation Errors')\n",
        "plt.legend(frameon=False)"
      ],
      "metadata": {
        "colab": {
          "base_uri": "https://localhost:8080/"
        },
        "id": "CbpDlp0OdM2n",
        "outputId": "fc46d26c-aec4-434f-9092-68aafbdd5170"
      },
      "execution_count": null,
      "outputs": [
        {
          "output_type": "execute_result",
          "data": {
            "text/plain": [
              "<matplotlib.legend.Legend at 0x7ce6bd36d300>"
            ]
          },
          "metadata": {},
          "execution_count": 50
        },
        {
          "output_type": "display_data",
          "data": {
            "text/plain": [
              "<Figure size 640x480 with 1 Axes>"
            ],
            "image/png": "[encoded data removed]"
          },
          "metadata": {}
        }
      ]
    },
    {
      "cell_type": "markdown",
      "source": [
        "---\n",
        "## Add dropout layer\n",
        "\n",
        "In the following, add dropout layer to the above MLP.\n"
      ],
      "metadata": {
        "id": "awKh4JrcwKQC"
      }
    },
    {
      "cell_type": "code",
      "source": [
        "#TODO: plot the training and validation error (MER) over epochs after using norm regularization\n",
        "from torch import nn, optim\n",
        "model_2 = nn.Sequential(nn.Linear(train_features.shape[1], 512),\n",
        "                      nn.ReLU(),\n",
        "                      nn.Dropout(p=0.2),\n",
        "                      nn.Linear(512,256),\n",
        "                      nn.ReLU(),\n",
        "                      nn.Dropout(p=0.2),\n",
        "                      nn.Linear(256,128),\n",
        "                      nn.ReLU(),\n",
        "                      nn.Dropout(p=0.2),\n",
        "                      nn.Linear(128,64),\n",
        "                      nn.ReLU(),\n",
        "                      nn.Dropout(p=0.2),\n",
        "                      nn.Linear(64,1)\n",
        "                      )"
      ],
      "metadata": {
        "id": "8gI38LVoBtSe"
      },
      "execution_count": null,
      "outputs": []
    },
    {
      "cell_type": "code",
      "source": [
        "#train the model with drop out layer\n",
        "\n",
        "optimizer = optim.SGD(model_2.parameters(),lr=0.01)\n",
        "model_2.to(device)\n",
        "\n",
        "epochs = 500\n",
        "train_losses = []\n",
        "test_losses=[]\n",
        "for e in range(epochs):\n",
        "  tot_train_loss = 0\n",
        "  for features, labels in train_loader:\n",
        "\n",
        "    features = features.to(device)\n",
        "    labels = labels.to(device)\n",
        "\n",
        "    optimizer.zero_grad()\n",
        "\n",
        "    output = model_2(features).to(device)\n",
        "    loss = criterion2(output,labels)\n",
        "    loss.backward()\n",
        "    optimizer.step()\n",
        "\n",
        "    tot_train_loss += loss.item()\n",
        "  else:\n",
        "    tot_test_loss = 0\n",
        "    with torch.no_grad():\n",
        "      model_2.eval()\n",
        "      for features, labels in valid_loader:\n",
        "\n",
        "        features = features.to(device)\n",
        "        labels = labels.to(device)\n",
        "        output = model_2(features)\n",
        "        loss = criterion2(output,labels)\n",
        "        tot_test_loss += loss.item()\n",
        "\n",
        "    model_2.train()\n",
        "    train_loss = tot_train_loss/len(train_loader)\n",
        "    test_loss = tot_test_loss / len(valid_loader)\n",
        "    train_losses.append(train_loss)\n",
        "    test_losses.append(test_loss)\n",
        "\n",
        "    print(\"Epoch: {}/{}.. \".format(e+1, epochs),\n",
        "          \"Training Loss: {:.3f}.. \".format(train_loss),\n",
        "          \"Test Loss: {:.3f}.. \".format(test_loss),\n",
        "          )\n"
      ],
      "metadata": {
        "colab": {
          "base_uri": "https://localhost:8080/"
        },
        "id": "VkvimbZadrlx",
        "outputId": "957afec7-2e34-4bea-c955-77a533c4c65f"
      },
      "execution_count": null,
      "outputs": [
        {
          "output_type": "stream",
          "name": "stdout",
          "text": [
            "Epoch: 1/500..  Training Loss: 1.001..  Test Loss: 0.975.. \n",
            "Epoch: 2/500..  Training Loss: 0.950..  Test Loss: 0.925.. \n",
            "Epoch: 3/500..  Training Loss: 0.897..  Test Loss: 0.871.. \n",
            "Epoch: 4/500..  Training Loss: 0.840..  Test Loss: 0.811.. \n",
            "Epoch: 5/500..  Training Loss: 0.773..  Test Loss: 0.739.. \n",
            "Epoch: 6/500..  Training Loss: 0.693..  Test Loss: 0.644.. \n",
            "Epoch: 7/500..  Training Loss: 0.581..  Test Loss: 0.521.. \n",
            "Epoch: 8/500..  Training Loss: 0.442..  Test Loss: 0.363.. \n",
            "Epoch: 9/500..  Training Loss: 0.332..  Test Loss: 0.295.. \n",
            "Epoch: 10/500..  Training Loss: 0.307..  Test Loss: 0.275.. \n",
            "Epoch: 11/500..  Training Loss: 0.296..  Test Loss: 0.263.. \n",
            "Epoch: 12/500..  Training Loss: 0.282..  Test Loss: 0.262.. \n",
            "Epoch: 13/500..  Training Loss: 0.272..  Test Loss: 0.264.. \n",
            "Epoch: 14/500..  Training Loss: 0.269..  Test Loss: 0.244.. \n",
            "Epoch: 15/500..  Training Loss: 0.267..  Test Loss: 0.258.. \n",
            "Epoch: 16/500..  Training Loss: 0.263..  Test Loss: 0.239.. \n",
            "Epoch: 17/500..  Training Loss: 0.245..  Test Loss: 0.229.. \n",
            "Epoch: 18/500..  Training Loss: 0.242..  Test Loss: 0.220.. \n",
            "Epoch: 19/500..  Training Loss: 0.238..  Test Loss: 0.226.. \n",
            "Epoch: 20/500..  Training Loss: 0.233..  Test Loss: 0.219.. \n",
            "Epoch: 21/500..  Training Loss: 0.233..  Test Loss: 0.214.. \n",
            "Epoch: 22/500..  Training Loss: 0.222..  Test Loss: 0.213.. \n",
            "Epoch: 23/500..  Training Loss: 0.227..  Test Loss: 0.204.. \n",
            "Epoch: 24/500..  Training Loss: 0.219..  Test Loss: 0.206.. \n",
            "Epoch: 25/500..  Training Loss: 0.217..  Test Loss: 0.204.. \n",
            "Epoch: 26/500..  Training Loss: 0.216..  Test Loss: 0.209.. \n",
            "Epoch: 27/500..  Training Loss: 0.222..  Test Loss: 0.213.. \n",
            "Epoch: 28/500..  Training Loss: 0.220..  Test Loss: 0.216.. \n",
            "Epoch: 29/500..  Training Loss: 0.210..  Test Loss: 0.194.. \n",
            "Epoch: 30/500..  Training Loss: 0.206..  Test Loss: 0.188.. \n",
            "Epoch: 31/500..  Training Loss: 0.217..  Test Loss: 0.205.. \n",
            "Epoch: 32/500..  Training Loss: 0.209..  Test Loss: 0.202.. \n",
            "Epoch: 33/500..  Training Loss: 0.204..  Test Loss: 0.181.. \n",
            "Epoch: 34/500..  Training Loss: 0.202..  Test Loss: 0.194.. \n",
            "Epoch: 35/500..  Training Loss: 0.204..  Test Loss: 0.183.. \n",
            "Epoch: 36/500..  Training Loss: 0.199..  Test Loss: 0.192.. \n",
            "Epoch: 37/500..  Training Loss: 0.203..  Test Loss: 0.191.. \n",
            "Epoch: 38/500..  Training Loss: 0.203..  Test Loss: 0.212.. \n",
            "Epoch: 39/500..  Training Loss: 0.201..  Test Loss: 0.179.. \n",
            "Epoch: 40/500..  Training Loss: 0.197..  Test Loss: 0.177.. \n",
            "Epoch: 41/500..  Training Loss: 0.198..  Test Loss: 0.173.. \n",
            "Epoch: 42/500..  Training Loss: 0.195..  Test Loss: 0.173.. \n",
            "Epoch: 43/500..  Training Loss: 0.202..  Test Loss: 0.170.. \n",
            "Epoch: 44/500..  Training Loss: 0.196..  Test Loss: 0.172.. \n",
            "Epoch: 45/500..  Training Loss: 0.195..  Test Loss: 0.176.. \n",
            "Epoch: 46/500..  Training Loss: 0.198..  Test Loss: 0.178.. \n",
            "Epoch: 47/500..  Training Loss: 0.195..  Test Loss: 0.180.. \n",
            "Epoch: 48/500..  Training Loss: 0.202..  Test Loss: 0.174.. \n",
            "Epoch: 49/500..  Training Loss: 0.197..  Test Loss: 0.180.. \n",
            "Epoch: 50/500..  Training Loss: 0.203..  Test Loss: 0.181.. \n",
            "Epoch: 51/500..  Training Loss: 0.195..  Test Loss: 0.170.. \n",
            "Epoch: 52/500..  Training Loss: 0.191..  Test Loss: 0.176.. \n",
            "Epoch: 53/500..  Training Loss: 0.187..  Test Loss: 0.177.. \n",
            "Epoch: 54/500..  Training Loss: 0.188..  Test Loss: 0.172.. \n",
            "Epoch: 55/500..  Training Loss: 0.187..  Test Loss: 0.166.. \n",
            "Epoch: 56/500..  Training Loss: 0.190..  Test Loss: 0.167.. \n",
            "Epoch: 57/500..  Training Loss: 0.184..  Test Loss: 0.172.. \n",
            "Epoch: 58/500..  Training Loss: 0.186..  Test Loss: 0.168.. \n",
            "Epoch: 59/500..  Training Loss: 0.186..  Test Loss: 0.196.. \n",
            "Epoch: 60/500..  Training Loss: 0.201..  Test Loss: 0.170.. \n",
            "Epoch: 61/500..  Training Loss: 0.183..  Test Loss: 0.166.. \n",
            "Epoch: 62/500..  Training Loss: 0.185..  Test Loss: 0.179.. \n",
            "Epoch: 63/500..  Training Loss: 0.184..  Test Loss: 0.169.. \n",
            "Epoch: 64/500..  Training Loss: 0.186..  Test Loss: 0.171.. \n",
            "Epoch: 65/500..  Training Loss: 0.179..  Test Loss: 0.164.. \n",
            "Epoch: 66/500..  Training Loss: 0.184..  Test Loss: 0.161.. \n",
            "Epoch: 67/500..  Training Loss: 0.181..  Test Loss: 0.168.. \n",
            "Epoch: 68/500..  Training Loss: 0.180..  Test Loss: 0.164.. \n",
            "Epoch: 69/500..  Training Loss: 0.186..  Test Loss: 0.196.. \n",
            "Epoch: 70/500..  Training Loss: 0.186..  Test Loss: 0.158.. \n",
            "Epoch: 71/500..  Training Loss: 0.179..  Test Loss: 0.160.. \n",
            "Epoch: 72/500..  Training Loss: 0.183..  Test Loss: 0.160.. \n",
            "Epoch: 73/500..  Training Loss: 0.181..  Test Loss: 0.158.. \n",
            "Epoch: 74/500..  Training Loss: 0.181..  Test Loss: 0.166.. \n",
            "Epoch: 75/500..  Training Loss: 0.183..  Test Loss: 0.162.. \n",
            "Epoch: 76/500..  Training Loss: 0.177..  Test Loss: 0.167.. \n",
            "Epoch: 77/500..  Training Loss: 0.177..  Test Loss: 0.177.. \n",
            "Epoch: 78/500..  Training Loss: 0.180..  Test Loss: 0.175.. \n",
            "Epoch: 79/500..  Training Loss: 0.181..  Test Loss: 0.166.. \n",
            "Epoch: 80/500..  Training Loss: 0.177..  Test Loss: 0.170.. \n",
            "Epoch: 81/500..  Training Loss: 0.179..  Test Loss: 0.161.. \n",
            "Epoch: 82/500..  Training Loss: 0.176..  Test Loss: 0.167.. \n",
            "Epoch: 83/500..  Training Loss: 0.179..  Test Loss: 0.175.. \n",
            "Epoch: 84/500..  Training Loss: 0.177..  Test Loss: 0.163.. \n",
            "Epoch: 85/500..  Training Loss: 0.172..  Test Loss: 0.173.. \n",
            "Epoch: 86/500..  Training Loss: 0.176..  Test Loss: 0.167.. \n",
            "Epoch: 87/500..  Training Loss: 0.177..  Test Loss: 0.150.. \n",
            "Epoch: 88/500..  Training Loss: 0.174..  Test Loss: 0.156.. \n",
            "Epoch: 89/500..  Training Loss: 0.177..  Test Loss: 0.151.. \n",
            "Epoch: 90/500..  Training Loss: 0.179..  Test Loss: 0.153.. \n",
            "Epoch: 91/500..  Training Loss: 0.171..  Test Loss: 0.154.. \n",
            "Epoch: 92/500..  Training Loss: 0.172..  Test Loss: 0.161.. \n",
            "Epoch: 93/500..  Training Loss: 0.177..  Test Loss: 0.156.. \n",
            "Epoch: 94/500..  Training Loss: 0.170..  Test Loss: 0.155.. \n",
            "Epoch: 95/500..  Training Loss: 0.171..  Test Loss: 0.150.. \n",
            "Epoch: 96/500..  Training Loss: 0.169..  Test Loss: 0.152.. \n",
            "Epoch: 97/500..  Training Loss: 0.172..  Test Loss: 0.152.. \n",
            "Epoch: 98/500..  Training Loss: 0.168..  Test Loss: 0.149.. \n",
            "Epoch: 99/500..  Training Loss: 0.169..  Test Loss: 0.156.. \n",
            "Epoch: 100/500..  Training Loss: 0.167..  Test Loss: 0.159.. \n",
            "Epoch: 101/500..  Training Loss: 0.175..  Test Loss: 0.162.. \n",
            "Epoch: 102/500..  Training Loss: 0.167..  Test Loss: 0.151.. \n",
            "Epoch: 103/500..  Training Loss: 0.170..  Test Loss: 0.148.. \n",
            "Epoch: 104/500..  Training Loss: 0.167..  Test Loss: 0.141.. \n",
            "Epoch: 105/500..  Training Loss: 0.163..  Test Loss: 0.149.. \n",
            "Epoch: 106/500..  Training Loss: 0.164..  Test Loss: 0.142.. \n",
            "Epoch: 107/500..  Training Loss: 0.167..  Test Loss: 0.146.. \n",
            "Epoch: 108/500..  Training Loss: 0.168..  Test Loss: 0.141.. \n",
            "Epoch: 109/500..  Training Loss: 0.163..  Test Loss: 0.153.. \n",
            "Epoch: 110/500..  Training Loss: 0.166..  Test Loss: 0.144.. \n",
            "Epoch: 111/500..  Training Loss: 0.168..  Test Loss: 0.147.. \n",
            "Epoch: 112/500..  Training Loss: 0.160..  Test Loss: 0.142.. \n",
            "Epoch: 113/500..  Training Loss: 0.160..  Test Loss: 0.144.. \n",
            "Epoch: 114/500..  Training Loss: 0.166..  Test Loss: 0.172.. \n",
            "Epoch: 115/500..  Training Loss: 0.168..  Test Loss: 0.154.. \n",
            "Epoch: 116/500..  Training Loss: 0.166..  Test Loss: 0.151.. \n",
            "Epoch: 117/500..  Training Loss: 0.167..  Test Loss: 0.148.. \n",
            "Epoch: 118/500..  Training Loss: 0.166..  Test Loss: 0.152.. \n",
            "Epoch: 119/500..  Training Loss: 0.171..  Test Loss: 0.147.. \n",
            "Epoch: 120/500..  Training Loss: 0.170..  Test Loss: 0.149.. \n",
            "Epoch: 121/500..  Training Loss: 0.160..  Test Loss: 0.146.. \n",
            "Epoch: 122/500..  Training Loss: 0.161..  Test Loss: 0.140.. \n",
            "Epoch: 123/500..  Training Loss: 0.163..  Test Loss: 0.140.. \n",
            "Epoch: 124/500..  Training Loss: 0.158..  Test Loss: 0.137.. \n",
            "Epoch: 125/500..  Training Loss: 0.159..  Test Loss: 0.135.. \n",
            "Epoch: 126/500..  Training Loss: 0.160..  Test Loss: 0.138.. \n",
            "Epoch: 127/500..  Training Loss: 0.155..  Test Loss: 0.140.. \n",
            "Epoch: 128/500..  Training Loss: 0.157..  Test Loss: 0.139.. \n",
            "Epoch: 129/500..  Training Loss: 0.157..  Test Loss: 0.138.. \n",
            "Epoch: 130/500..  Training Loss: 0.160..  Test Loss: 0.143.. \n",
            "Epoch: 131/500..  Training Loss: 0.161..  Test Loss: 0.168.. \n",
            "Epoch: 132/500..  Training Loss: 0.166..  Test Loss: 0.140.. \n",
            "Epoch: 133/500..  Training Loss: 0.154..  Test Loss: 0.136.. \n",
            "Epoch: 134/500..  Training Loss: 0.154..  Test Loss: 0.144.. \n",
            "Epoch: 135/500..  Training Loss: 0.157..  Test Loss: 0.141.. \n",
            "Epoch: 136/500..  Training Loss: 0.157..  Test Loss: 0.153.. \n",
            "Epoch: 137/500..  Training Loss: 0.157..  Test Loss: 0.138.. \n",
            "Epoch: 138/500..  Training Loss: 0.153..  Test Loss: 0.129.. \n",
            "Epoch: 139/500..  Training Loss: 0.159..  Test Loss: 0.152.. \n",
            "Epoch: 140/500..  Training Loss: 0.151..  Test Loss: 0.142.. \n",
            "Epoch: 141/500..  Training Loss: 0.154..  Test Loss: 0.140.. \n",
            "Epoch: 142/500..  Training Loss: 0.156..  Test Loss: 0.141.. \n",
            "Epoch: 143/500..  Training Loss: 0.153..  Test Loss: 0.146.. \n",
            "Epoch: 144/500..  Training Loss: 0.152..  Test Loss: 0.142.. \n",
            "Epoch: 145/500..  Training Loss: 0.150..  Test Loss: 0.130.. \n",
            "Epoch: 146/500..  Training Loss: 0.153..  Test Loss: 0.141.. \n",
            "Epoch: 147/500..  Training Loss: 0.149..  Test Loss: 0.133.. \n",
            "Epoch: 148/500..  Training Loss: 0.154..  Test Loss: 0.132.. \n",
            "Epoch: 149/500..  Training Loss: 0.153..  Test Loss: 0.131.. \n",
            "Epoch: 150/500..  Training Loss: 0.146..  Test Loss: 0.136.. \n",
            "Epoch: 151/500..  Training Loss: 0.155..  Test Loss: 0.141.. \n",
            "Epoch: 152/500..  Training Loss: 0.151..  Test Loss: 0.134.. \n",
            "Epoch: 153/500..  Training Loss: 0.152..  Test Loss: 0.131.. \n",
            "Epoch: 154/500..  Training Loss: 0.149..  Test Loss: 0.162.. \n",
            "Epoch: 155/500..  Training Loss: 0.147..  Test Loss: 0.127.. \n",
            "Epoch: 156/500..  Training Loss: 0.142..  Test Loss: 0.130.. \n",
            "Epoch: 157/500..  Training Loss: 0.141..  Test Loss: 0.125.. \n",
            "Epoch: 158/500..  Training Loss: 0.146..  Test Loss: 0.133.. \n",
            "Epoch: 159/500..  Training Loss: 0.147..  Test Loss: 0.122.. \n",
            "Epoch: 160/500..  Training Loss: 0.147..  Test Loss: 0.125.. \n",
            "Epoch: 161/500..  Training Loss: 0.144..  Test Loss: 0.124.. \n",
            "Epoch: 162/500..  Training Loss: 0.151..  Test Loss: 0.137.. \n",
            "Epoch: 163/500..  Training Loss: 0.148..  Test Loss: 0.125.. \n",
            "Epoch: 164/500..  Training Loss: 0.146..  Test Loss: 0.129.. \n",
            "Epoch: 165/500..  Training Loss: 0.149..  Test Loss: 0.130.. \n",
            "Epoch: 166/500..  Training Loss: 0.148..  Test Loss: 0.141.. \n",
            "Epoch: 167/500..  Training Loss: 0.150..  Test Loss: 0.152.. \n",
            "Epoch: 168/500..  Training Loss: 0.143..  Test Loss: 0.137.. \n",
            "Epoch: 169/500..  Training Loss: 0.148..  Test Loss: 0.122.. \n",
            "Epoch: 170/500..  Training Loss: 0.147..  Test Loss: 0.131.. \n",
            "Epoch: 171/500..  Training Loss: 0.147..  Test Loss: 0.140.. \n",
            "Epoch: 172/500..  Training Loss: 0.143..  Test Loss: 0.128.. \n",
            "Epoch: 173/500..  Training Loss: 0.151..  Test Loss: 0.124.. \n",
            "Epoch: 174/500..  Training Loss: 0.142..  Test Loss: 0.125.. \n",
            "Epoch: 175/500..  Training Loss: 0.144..  Test Loss: 0.123.. \n",
            "Epoch: 176/500..  Training Loss: 0.142..  Test Loss: 0.135.. \n",
            "Epoch: 177/500..  Training Loss: 0.144..  Test Loss: 0.137.. \n",
            "Epoch: 178/500..  Training Loss: 0.152..  Test Loss: 0.151.. \n",
            "Epoch: 179/500..  Training Loss: 0.146..  Test Loss: 0.137.. \n",
            "Epoch: 180/500..  Training Loss: 0.150..  Test Loss: 0.140.. \n",
            "Epoch: 181/500..  Training Loss: 0.138..  Test Loss: 0.127.. \n",
            "Epoch: 182/500..  Training Loss: 0.143..  Test Loss: 0.124.. \n",
            "Epoch: 183/500..  Training Loss: 0.140..  Test Loss: 0.126.. \n",
            "Epoch: 184/500..  Training Loss: 0.141..  Test Loss: 0.125.. \n",
            "Epoch: 185/500..  Training Loss: 0.140..  Test Loss: 0.133.. \n",
            "Epoch: 186/500..  Training Loss: 0.143..  Test Loss: 0.126.. \n",
            "Epoch: 187/500..  Training Loss: 0.141..  Test Loss: 0.131.. \n",
            "Epoch: 188/500..  Training Loss: 0.141..  Test Loss: 0.135.. \n",
            "Epoch: 189/500..  Training Loss: 0.147..  Test Loss: 0.128.. \n",
            "Epoch: 190/500..  Training Loss: 0.140..  Test Loss: 0.124.. \n",
            "Epoch: 191/500..  Training Loss: 0.139..  Test Loss: 0.127.. \n",
            "Epoch: 192/500..  Training Loss: 0.138..  Test Loss: 0.128.. \n",
            "Epoch: 193/500..  Training Loss: 0.142..  Test Loss: 0.123.. \n",
            "Epoch: 194/500..  Training Loss: 0.139..  Test Loss: 0.128.. \n",
            "Epoch: 195/500..  Training Loss: 0.138..  Test Loss: 0.122.. \n",
            "Epoch: 196/500..  Training Loss: 0.140..  Test Loss: 0.133.. \n",
            "Epoch: 197/500..  Training Loss: 0.139..  Test Loss: 0.126.. \n",
            "Epoch: 198/500..  Training Loss: 0.141..  Test Loss: 0.141.. \n",
            "Epoch: 199/500..  Training Loss: 0.150..  Test Loss: 0.138.. \n",
            "Epoch: 200/500..  Training Loss: 0.139..  Test Loss: 0.125.. \n",
            "Epoch: 201/500..  Training Loss: 0.141..  Test Loss: 0.126.. \n",
            "Epoch: 202/500..  Training Loss: 0.142..  Test Loss: 0.147.. \n",
            "Epoch: 203/500..  Training Loss: 0.137..  Test Loss: 0.121.. \n",
            "Epoch: 204/500..  Training Loss: 0.138..  Test Loss: 0.135.. \n",
            "Epoch: 205/500..  Training Loss: 0.139..  Test Loss: 0.123.. \n",
            "Epoch: 206/500..  Training Loss: 0.139..  Test Loss: 0.143.. \n",
            "Epoch: 207/500..  Training Loss: 0.136..  Test Loss: 0.122.. \n",
            "Epoch: 208/500..  Training Loss: 0.140..  Test Loss: 0.120.. \n",
            "Epoch: 209/500..  Training Loss: 0.140..  Test Loss: 0.128.. \n",
            "Epoch: 210/500..  Training Loss: 0.138..  Test Loss: 0.128.. \n",
            "Epoch: 211/500..  Training Loss: 0.138..  Test Loss: 0.137.. \n",
            "Epoch: 212/500..  Training Loss: 0.138..  Test Loss: 0.132.. \n",
            "Epoch: 213/500..  Training Loss: 0.147..  Test Loss: 0.127.. \n",
            "Epoch: 214/500..  Training Loss: 0.144..  Test Loss: 0.129.. \n",
            "Epoch: 215/500..  Training Loss: 0.143..  Test Loss: 0.129.. \n",
            "Epoch: 216/500..  Training Loss: 0.144..  Test Loss: 0.136.. \n",
            "Epoch: 217/500..  Training Loss: 0.140..  Test Loss: 0.134.. \n",
            "Epoch: 218/500..  Training Loss: 0.145..  Test Loss: 0.129.. \n",
            "Epoch: 219/500..  Training Loss: 0.134..  Test Loss: 0.119.. \n",
            "Epoch: 220/500..  Training Loss: 0.134..  Test Loss: 0.119.. \n",
            "Epoch: 221/500..  Training Loss: 0.132..  Test Loss: 0.115.. \n",
            "Epoch: 222/500..  Training Loss: 0.134..  Test Loss: 0.120.. \n",
            "Epoch: 223/500..  Training Loss: 0.141..  Test Loss: 0.126.. \n",
            "Epoch: 224/500..  Training Loss: 0.136..  Test Loss: 0.141.. \n",
            "Epoch: 225/500..  Training Loss: 0.138..  Test Loss: 0.136.. \n",
            "Epoch: 226/500..  Training Loss: 0.134..  Test Loss: 0.122.. \n",
            "Epoch: 227/500..  Training Loss: 0.138..  Test Loss: 0.128.. \n",
            "Epoch: 228/500..  Training Loss: 0.135..  Test Loss: 0.121.. \n",
            "Epoch: 229/500..  Training Loss: 0.139..  Test Loss: 0.130.. \n",
            "Epoch: 230/500..  Training Loss: 0.133..  Test Loss: 0.123.. \n",
            "Epoch: 231/500..  Training Loss: 0.137..  Test Loss: 0.132.. \n",
            "Epoch: 232/500..  Training Loss: 0.139..  Test Loss: 0.124.. \n",
            "Epoch: 233/500..  Training Loss: 0.140..  Test Loss: 0.125.. \n",
            "Epoch: 234/500..  Training Loss: 0.136..  Test Loss: 0.136.. \n",
            "Epoch: 235/500..  Training Loss: 0.135..  Test Loss: 0.117.. \n",
            "Epoch: 236/500..  Training Loss: 0.138..  Test Loss: 0.120.. \n",
            "Epoch: 237/500..  Training Loss: 0.135..  Test Loss: 0.126.. \n",
            "Epoch: 238/500..  Training Loss: 0.134..  Test Loss: 0.127.. \n",
            "Epoch: 239/500..  Training Loss: 0.139..  Test Loss: 0.119.. \n",
            "Epoch: 240/500..  Training Loss: 0.131..  Test Loss: 0.131.. \n",
            "Epoch: 241/500..  Training Loss: 0.135..  Test Loss: 0.121.. \n",
            "Epoch: 242/500..  Training Loss: 0.138..  Test Loss: 0.140.. \n",
            "Epoch: 243/500..  Training Loss: 0.136..  Test Loss: 0.120.. \n",
            "Epoch: 244/500..  Training Loss: 0.131..  Test Loss: 0.118.. \n",
            "Epoch: 245/500..  Training Loss: 0.138..  Test Loss: 0.126.. \n",
            "Epoch: 246/500..  Training Loss: 0.134..  Test Loss: 0.123.. \n",
            "Epoch: 247/500..  Training Loss: 0.132..  Test Loss: 0.117.. \n",
            "Epoch: 248/500..  Training Loss: 0.133..  Test Loss: 0.135.. \n",
            "Epoch: 249/500..  Training Loss: 0.136..  Test Loss: 0.124.. \n",
            "Epoch: 250/500..  Training Loss: 0.132..  Test Loss: 0.127.. \n",
            "Epoch: 251/500..  Training Loss: 0.136..  Test Loss: 0.122.. \n",
            "Epoch: 252/500..  Training Loss: 0.133..  Test Loss: 0.122.. \n",
            "Epoch: 253/500..  Training Loss: 0.129..  Test Loss: 0.138.. \n",
            "Epoch: 254/500..  Training Loss: 0.133..  Test Loss: 0.127.. \n",
            "Epoch: 255/500..  Training Loss: 0.133..  Test Loss: 0.127.. \n",
            "Epoch: 256/500..  Training Loss: 0.134..  Test Loss: 0.128.. \n",
            "Epoch: 257/500..  Training Loss: 0.132..  Test Loss: 0.122.. \n",
            "Epoch: 258/500..  Training Loss: 0.135..  Test Loss: 0.119.. \n",
            "Epoch: 259/500..  Training Loss: 0.131..  Test Loss: 0.120.. \n",
            "Epoch: 260/500..  Training Loss: 0.131..  Test Loss: 0.129.. \n",
            "Epoch: 261/500..  Training Loss: 0.127..  Test Loss: 0.114.. \n",
            "Epoch: 262/500..  Training Loss: 0.134..  Test Loss: 0.115.. \n",
            "Epoch: 263/500..  Training Loss: 0.132..  Test Loss: 0.115.. \n",
            "Epoch: 264/500..  Training Loss: 0.129..  Test Loss: 0.113.. \n",
            "Epoch: 265/500..  Training Loss: 0.131..  Test Loss: 0.131.. \n",
            "Epoch: 266/500..  Training Loss: 0.141..  Test Loss: 0.131.. \n",
            "Epoch: 267/500..  Training Loss: 0.133..  Test Loss: 0.115.. \n",
            "Epoch: 268/500..  Training Loss: 0.137..  Test Loss: 0.118.. \n",
            "Epoch: 269/500..  Training Loss: 0.128..  Test Loss: 0.114.. \n",
            "Epoch: 270/500..  Training Loss: 0.128..  Test Loss: 0.113.. \n",
            "Epoch: 271/500..  Training Loss: 0.126..  Test Loss: 0.123.. \n",
            "Epoch: 272/500..  Training Loss: 0.135..  Test Loss: 0.132.. \n",
            "Epoch: 273/500..  Training Loss: 0.134..  Test Loss: 0.120.. \n",
            "Epoch: 274/500..  Training Loss: 0.131..  Test Loss: 0.118.. \n",
            "Epoch: 275/500..  Training Loss: 0.136..  Test Loss: 0.117.. \n",
            "Epoch: 276/500..  Training Loss: 0.136..  Test Loss: 0.117.. \n",
            "Epoch: 277/500..  Training Loss: 0.130..  Test Loss: 0.110.. \n",
            "Epoch: 278/500..  Training Loss: 0.130..  Test Loss: 0.111.. \n",
            "Epoch: 279/500..  Training Loss: 0.129..  Test Loss: 0.111.. \n",
            "Epoch: 280/500..  Training Loss: 0.124..  Test Loss: 0.116.. \n",
            "Epoch: 281/500..  Training Loss: 0.126..  Test Loss: 0.112.. \n",
            "Epoch: 282/500..  Training Loss: 0.127..  Test Loss: 0.113.. \n",
            "Epoch: 283/500..  Training Loss: 0.126..  Test Loss: 0.112.. \n",
            "Epoch: 284/500..  Training Loss: 0.128..  Test Loss: 0.116.. \n",
            "Epoch: 285/500..  Training Loss: 0.125..  Test Loss: 0.112.. \n",
            "Epoch: 286/500..  Training Loss: 0.121..  Test Loss: 0.112.. \n",
            "Epoch: 287/500..  Training Loss: 0.128..  Test Loss: 0.125.. \n",
            "Epoch: 288/500..  Training Loss: 0.137..  Test Loss: 0.120.. \n",
            "Epoch: 289/500..  Training Loss: 0.128..  Test Loss: 0.117.. \n",
            "Epoch: 290/500..  Training Loss: 0.126..  Test Loss: 0.115.. \n",
            "Epoch: 291/500..  Training Loss: 0.130..  Test Loss: 0.129.. \n",
            "Epoch: 292/500..  Training Loss: 0.128..  Test Loss: 0.116.. \n",
            "Epoch: 293/500..  Training Loss: 0.126..  Test Loss: 0.115.. \n",
            "Epoch: 294/500..  Training Loss: 0.128..  Test Loss: 0.112.. \n",
            "Epoch: 295/500..  Training Loss: 0.127..  Test Loss: 0.112.. \n",
            "Epoch: 296/500..  Training Loss: 0.125..  Test Loss: 0.110.. \n",
            "Epoch: 297/500..  Training Loss: 0.129..  Test Loss: 0.122.. \n",
            "Epoch: 298/500..  Training Loss: 0.127..  Test Loss: 0.113.. \n",
            "Epoch: 299/500..  Training Loss: 0.124..  Test Loss: 0.108.. \n",
            "Epoch: 300/500..  Training Loss: 0.124..  Test Loss: 0.117.. \n",
            "Epoch: 301/500..  Training Loss: 0.127..  Test Loss: 0.123.. \n",
            "Epoch: 302/500..  Training Loss: 0.131..  Test Loss: 0.122.. \n",
            "Epoch: 303/500..  Training Loss: 0.133..  Test Loss: 0.112.. \n",
            "Epoch: 304/500..  Training Loss: 0.125..  Test Loss: 0.114.. \n",
            "Epoch: 305/500..  Training Loss: 0.125..  Test Loss: 0.116.. \n",
            "Epoch: 306/500..  Training Loss: 0.124..  Test Loss: 0.105.. \n",
            "Epoch: 307/500..  Training Loss: 0.126..  Test Loss: 0.117.. \n",
            "Epoch: 308/500..  Training Loss: 0.129..  Test Loss: 0.114.. \n",
            "Epoch: 309/500..  Training Loss: 0.129..  Test Loss: 0.118.. \n",
            "Epoch: 310/500..  Training Loss: 0.126..  Test Loss: 0.114.. \n",
            "Epoch: 311/500..  Training Loss: 0.125..  Test Loss: 0.112.. \n",
            "Epoch: 312/500..  Training Loss: 0.124..  Test Loss: 0.107.. \n",
            "Epoch: 313/500..  Training Loss: 0.126..  Test Loss: 0.113.. \n",
            "Epoch: 314/500..  Training Loss: 0.125..  Test Loss: 0.128.. \n",
            "Epoch: 315/500..  Training Loss: 0.128..  Test Loss: 0.112.. \n",
            "Epoch: 316/500..  Training Loss: 0.124..  Test Loss: 0.112.. \n",
            "Epoch: 317/500..  Training Loss: 0.127..  Test Loss: 0.113.. \n",
            "Epoch: 318/500..  Training Loss: 0.126..  Test Loss: 0.115.. \n",
            "Epoch: 319/500..  Training Loss: 0.129..  Test Loss: 0.118.. \n",
            "Epoch: 320/500..  Training Loss: 0.132..  Test Loss: 0.119.. \n",
            "Epoch: 321/500..  Training Loss: 0.128..  Test Loss: 0.115.. \n",
            "Epoch: 322/500..  Training Loss: 0.127..  Test Loss: 0.121.. \n",
            "Epoch: 323/500..  Training Loss: 0.127..  Test Loss: 0.109.. \n",
            "Epoch: 324/500..  Training Loss: 0.121..  Test Loss: 0.109.. \n",
            "Epoch: 325/500..  Training Loss: 0.127..  Test Loss: 0.106.. \n",
            "Epoch: 326/500..  Training Loss: 0.122..  Test Loss: 0.108.. \n",
            "Epoch: 327/500..  Training Loss: 0.122..  Test Loss: 0.107.. \n",
            "Epoch: 328/500..  Training Loss: 0.124..  Test Loss: 0.111.. \n",
            "Epoch: 329/500..  Training Loss: 0.127..  Test Loss: 0.109.. \n",
            "Epoch: 330/500..  Training Loss: 0.125..  Test Loss: 0.106.. \n",
            "Epoch: 331/500..  Training Loss: 0.123..  Test Loss: 0.105.. \n",
            "Epoch: 332/500..  Training Loss: 0.123..  Test Loss: 0.107.. \n",
            "Epoch: 333/500..  Training Loss: 0.124..  Test Loss: 0.111.. \n",
            "Epoch: 334/500..  Training Loss: 0.127..  Test Loss: 0.115.. \n",
            "Epoch: 335/500..  Training Loss: 0.125..  Test Loss: 0.121.. \n",
            "Epoch: 336/500..  Training Loss: 0.125..  Test Loss: 0.119.. \n",
            "Epoch: 337/500..  Training Loss: 0.124..  Test Loss: 0.112.. \n",
            "Epoch: 338/500..  Training Loss: 0.125..  Test Loss: 0.125.. \n",
            "Epoch: 339/500..  Training Loss: 0.122..  Test Loss: 0.108.. \n",
            "Epoch: 340/500..  Training Loss: 0.123..  Test Loss: 0.125.. \n",
            "Epoch: 341/500..  Training Loss: 0.123..  Test Loss: 0.121.. \n",
            "Epoch: 342/500..  Training Loss: 0.126..  Test Loss: 0.108.. \n",
            "Epoch: 343/500..  Training Loss: 0.120..  Test Loss: 0.116.. \n",
            "Epoch: 344/500..  Training Loss: 0.125..  Test Loss: 0.108.. \n",
            "Epoch: 345/500..  Training Loss: 0.126..  Test Loss: 0.105.. \n",
            "Epoch: 346/500..  Training Loss: 0.125..  Test Loss: 0.117.. \n",
            "Epoch: 347/500..  Training Loss: 0.128..  Test Loss: 0.147.. \n",
            "Epoch: 348/500..  Training Loss: 0.136..  Test Loss: 0.118.. \n",
            "Epoch: 349/500..  Training Loss: 0.124..  Test Loss: 0.130.. \n",
            "Epoch: 350/500..  Training Loss: 0.130..  Test Loss: 0.121.. \n",
            "Epoch: 351/500..  Training Loss: 0.125..  Test Loss: 0.110.. \n",
            "Epoch: 352/500..  Training Loss: 0.123..  Test Loss: 0.109.. \n",
            "Epoch: 353/500..  Training Loss: 0.122..  Test Loss: 0.112.. \n",
            "Epoch: 354/500..  Training Loss: 0.122..  Test Loss: 0.114.. \n",
            "Epoch: 355/500..  Training Loss: 0.127..  Test Loss: 0.118.. \n",
            "Epoch: 356/500..  Training Loss: 0.128..  Test Loss: 0.111.. \n",
            "Epoch: 357/500..  Training Loss: 0.130..  Test Loss: 0.125.. \n",
            "Epoch: 358/500..  Training Loss: 0.124..  Test Loss: 0.102.. \n",
            "Epoch: 359/500..  Training Loss: 0.124..  Test Loss: 0.105.. \n",
            "Epoch: 360/500..  Training Loss: 0.124..  Test Loss: 0.107.. \n",
            "Epoch: 361/500..  Training Loss: 0.128..  Test Loss: 0.116.. \n",
            "Epoch: 362/500..  Training Loss: 0.129..  Test Loss: 0.119.. \n",
            "Epoch: 363/500..  Training Loss: 0.131..  Test Loss: 0.109.. \n",
            "Epoch: 364/500..  Training Loss: 0.129..  Test Loss: 0.115.. \n",
            "Epoch: 365/500..  Training Loss: 0.133..  Test Loss: 0.131.. \n",
            "Epoch: 366/500..  Training Loss: 0.131..  Test Loss: 0.129.. \n",
            "Epoch: 367/500..  Training Loss: 0.122..  Test Loss: 0.116.. \n",
            "Epoch: 368/500..  Training Loss: 0.120..  Test Loss: 0.119.. \n",
            "Epoch: 369/500..  Training Loss: 0.121..  Test Loss: 0.109.. \n",
            "Epoch: 370/500..  Training Loss: 0.121..  Test Loss: 0.128.. \n",
            "Epoch: 371/500..  Training Loss: 0.124..  Test Loss: 0.106.. \n",
            "Epoch: 372/500..  Training Loss: 0.121..  Test Loss: 0.119.. \n",
            "Epoch: 373/500..  Training Loss: 0.124..  Test Loss: 0.103.. \n",
            "Epoch: 374/500..  Training Loss: 0.123..  Test Loss: 0.108.. \n",
            "Epoch: 375/500..  Training Loss: 0.120..  Test Loss: 0.119.. \n",
            "Epoch: 376/500..  Training Loss: 0.122..  Test Loss: 0.106.. \n",
            "Epoch: 377/500..  Training Loss: 0.122..  Test Loss: 0.108.. \n",
            "Epoch: 378/500..  Training Loss: 0.122..  Test Loss: 0.105.. \n",
            "Epoch: 379/500..  Training Loss: 0.120..  Test Loss: 0.106.. \n",
            "Epoch: 380/500..  Training Loss: 0.122..  Test Loss: 0.135.. \n",
            "Epoch: 381/500..  Training Loss: 0.122..  Test Loss: 0.108.. \n",
            "Epoch: 382/500..  Training Loss: 0.123..  Test Loss: 0.113.. \n",
            "Epoch: 383/500..  Training Loss: 0.124..  Test Loss: 0.106.. \n",
            "Epoch: 384/500..  Training Loss: 0.120..  Test Loss: 0.109.. \n",
            "Epoch: 385/500..  Training Loss: 0.120..  Test Loss: 0.105.. \n",
            "Epoch: 386/500..  Training Loss: 0.116..  Test Loss: 0.105.. \n",
            "Epoch: 387/500..  Training Loss: 0.123..  Test Loss: 0.104.. \n",
            "Epoch: 388/500..  Training Loss: 0.118..  Test Loss: 0.110.. \n",
            "Epoch: 389/500..  Training Loss: 0.120..  Test Loss: 0.111.. \n",
            "Epoch: 390/500..  Training Loss: 0.118..  Test Loss: 0.106.. \n",
            "Epoch: 391/500..  Training Loss: 0.115..  Test Loss: 0.109.. \n",
            "Epoch: 392/500..  Training Loss: 0.120..  Test Loss: 0.105.. \n",
            "Epoch: 393/500..  Training Loss: 0.120..  Test Loss: 0.111.. \n",
            "Epoch: 394/500..  Training Loss: 0.120..  Test Loss: 0.127.. \n",
            "Epoch: 395/500..  Training Loss: 0.123..  Test Loss: 0.116.. \n",
            "Epoch: 396/500..  Training Loss: 0.120..  Test Loss: 0.115.. \n",
            "Epoch: 397/500..  Training Loss: 0.118..  Test Loss: 0.110.. \n",
            "Epoch: 398/500..  Training Loss: 0.121..  Test Loss: 0.109.. \n",
            "Epoch: 399/500..  Training Loss: 0.122..  Test Loss: 0.110.. \n",
            "Epoch: 400/500..  Training Loss: 0.125..  Test Loss: 0.113.. \n",
            "Epoch: 401/500..  Training Loss: 0.122..  Test Loss: 0.106.. \n",
            "Epoch: 402/500..  Training Loss: 0.114..  Test Loss: 0.110.. \n",
            "Epoch: 403/500..  Training Loss: 0.117..  Test Loss: 0.110.. \n",
            "Epoch: 404/500..  Training Loss: 0.118..  Test Loss: 0.104.. \n",
            "Epoch: 405/500..  Training Loss: 0.117..  Test Loss: 0.110.. \n",
            "Epoch: 406/500..  Training Loss: 0.116..  Test Loss: 0.110.. \n",
            "Epoch: 407/500..  Training Loss: 0.117..  Test Loss: 0.110.. \n",
            "Epoch: 408/500..  Training Loss: 0.118..  Test Loss: 0.111.. \n",
            "Epoch: 409/500..  Training Loss: 0.120..  Test Loss: 0.112.. \n",
            "Epoch: 410/500..  Training Loss: 0.123..  Test Loss: 0.110.. \n",
            "Epoch: 411/500..  Training Loss: 0.122..  Test Loss: 0.112.. \n",
            "Epoch: 412/500..  Training Loss: 0.121..  Test Loss: 0.113.. \n",
            "Epoch: 413/500..  Training Loss: 0.117..  Test Loss: 0.108.. \n",
            "Epoch: 414/500..  Training Loss: 0.116..  Test Loss: 0.113.. \n",
            "Epoch: 415/500..  Training Loss: 0.125..  Test Loss: 0.109.. \n",
            "Epoch: 416/500..  Training Loss: 0.122..  Test Loss: 0.115.. \n",
            "Epoch: 417/500..  Training Loss: 0.123..  Test Loss: 0.105.. \n",
            "Epoch: 418/500..  Training Loss: 0.117..  Test Loss: 0.104.. \n",
            "Epoch: 419/500..  Training Loss: 0.118..  Test Loss: 0.111.. \n",
            "Epoch: 420/500..  Training Loss: 0.117..  Test Loss: 0.119.. \n",
            "Epoch: 421/500..  Training Loss: 0.116..  Test Loss: 0.105.. \n",
            "Epoch: 422/500..  Training Loss: 0.116..  Test Loss: 0.109.. \n",
            "Epoch: 423/500..  Training Loss: 0.115..  Test Loss: 0.112.. \n",
            "Epoch: 424/500..  Training Loss: 0.113..  Test Loss: 0.102.. \n",
            "Epoch: 425/500..  Training Loss: 0.118..  Test Loss: 0.114.. \n",
            "Epoch: 426/500..  Training Loss: 0.118..  Test Loss: 0.115.. \n",
            "Epoch: 427/500..  Training Loss: 0.119..  Test Loss: 0.102.. \n",
            "Epoch: 428/500..  Training Loss: 0.114..  Test Loss: 0.105.. \n",
            "Epoch: 429/500..  Training Loss: 0.114..  Test Loss: 0.102.. \n",
            "Epoch: 430/500..  Training Loss: 0.117..  Test Loss: 0.102.. \n",
            "Epoch: 431/500..  Training Loss: 0.116..  Test Loss: 0.104.. \n",
            "Epoch: 432/500..  Training Loss: 0.116..  Test Loss: 0.109.. \n",
            "Epoch: 433/500..  Training Loss: 0.119..  Test Loss: 0.107.. \n",
            "Epoch: 434/500..  Training Loss: 0.117..  Test Loss: 0.104.. \n",
            "Epoch: 435/500..  Training Loss: 0.117..  Test Loss: 0.107.. \n",
            "Epoch: 436/500..  Training Loss: 0.116..  Test Loss: 0.104.. \n",
            "Epoch: 437/500..  Training Loss: 0.115..  Test Loss: 0.101.. \n",
            "Epoch: 438/500..  Training Loss: 0.114..  Test Loss: 0.107.. \n",
            "Epoch: 439/500..  Training Loss: 0.116..  Test Loss: 0.103.. \n",
            "Epoch: 440/500..  Training Loss: 0.115..  Test Loss: 0.109.. \n",
            "Epoch: 441/500..  Training Loss: 0.119..  Test Loss: 0.110.. \n",
            "Epoch: 442/500..  Training Loss: 0.118..  Test Loss: 0.106.. \n",
            "Epoch: 443/500..  Training Loss: 0.121..  Test Loss: 0.111.. \n",
            "Epoch: 444/500..  Training Loss: 0.118..  Test Loss: 0.109.. \n",
            "Epoch: 445/500..  Training Loss: 0.119..  Test Loss: 0.101.. \n",
            "Epoch: 446/500..  Training Loss: 0.113..  Test Loss: 0.107.. \n",
            "Epoch: 447/500..  Training Loss: 0.116..  Test Loss: 0.137.. \n",
            "Epoch: 448/500..  Training Loss: 0.115..  Test Loss: 0.104.. \n",
            "Epoch: 449/500..  Training Loss: 0.113..  Test Loss: 0.107.. \n",
            "Epoch: 450/500..  Training Loss: 0.113..  Test Loss: 0.119.. \n",
            "Epoch: 451/500..  Training Loss: 0.116..  Test Loss: 0.112.. \n",
            "Epoch: 452/500..  Training Loss: 0.118..  Test Loss: 0.110.. \n",
            "Epoch: 453/500..  Training Loss: 0.115..  Test Loss: 0.112.. \n",
            "Epoch: 454/500..  Training Loss: 0.115..  Test Loss: 0.107.. \n",
            "Epoch: 455/500..  Training Loss: 0.115..  Test Loss: 0.106.. \n",
            "Epoch: 456/500..  Training Loss: 0.115..  Test Loss: 0.106.. \n",
            "Epoch: 457/500..  Training Loss: 0.114..  Test Loss: 0.103.. \n",
            "Epoch: 458/500..  Training Loss: 0.118..  Test Loss: 0.107.. \n",
            "Epoch: 459/500..  Training Loss: 0.114..  Test Loss: 0.105.. \n",
            "Epoch: 460/500..  Training Loss: 0.119..  Test Loss: 0.117.. \n",
            "Epoch: 461/500..  Training Loss: 0.114..  Test Loss: 0.103.. \n",
            "Epoch: 462/500..  Training Loss: 0.118..  Test Loss: 0.111.. \n",
            "Epoch: 463/500..  Training Loss: 0.116..  Test Loss: 0.105.. \n",
            "Epoch: 464/500..  Training Loss: 0.117..  Test Loss: 0.103.. \n",
            "Epoch: 465/500..  Training Loss: 0.116..  Test Loss: 0.107.. \n",
            "Epoch: 466/500..  Training Loss: 0.112..  Test Loss: 0.104.. \n",
            "Epoch: 467/500..  Training Loss: 0.116..  Test Loss: 0.104.. \n",
            "Epoch: 468/500..  Training Loss: 0.112..  Test Loss: 0.112.. \n",
            "Epoch: 469/500..  Training Loss: 0.113..  Test Loss: 0.106.. \n",
            "Epoch: 470/500..  Training Loss: 0.113..  Test Loss: 0.104.. \n",
            "Epoch: 471/500..  Training Loss: 0.115..  Test Loss: 0.108.. \n",
            "Epoch: 472/500..  Training Loss: 0.116..  Test Loss: 0.117.. \n",
            "Epoch: 473/500..  Training Loss: 0.114..  Test Loss: 0.107.. \n",
            "Epoch: 474/500..  Training Loss: 0.109..  Test Loss: 0.111.. \n",
            "Epoch: 475/500..  Training Loss: 0.114..  Test Loss: 0.110.. \n",
            "Epoch: 476/500..  Training Loss: 0.118..  Test Loss: 0.129.. \n",
            "Epoch: 477/500..  Training Loss: 0.120..  Test Loss: 0.106.. \n",
            "Epoch: 478/500..  Training Loss: 0.110..  Test Loss: 0.107.. \n",
            "Epoch: 479/500..  Training Loss: 0.114..  Test Loss: 0.117.. \n",
            "Epoch: 480/500..  Training Loss: 0.116..  Test Loss: 0.110.. \n",
            "Epoch: 481/500..  Training Loss: 0.116..  Test Loss: 0.112.. \n",
            "Epoch: 482/500..  Training Loss: 0.117..  Test Loss: 0.108.. \n",
            "Epoch: 483/500..  Training Loss: 0.121..  Test Loss: 0.116.. \n",
            "Epoch: 484/500..  Training Loss: 0.119..  Test Loss: 0.107.. \n",
            "Epoch: 485/500..  Training Loss: 0.114..  Test Loss: 0.104.. \n",
            "Epoch: 486/500..  Training Loss: 0.118..  Test Loss: 0.115.. \n",
            "Epoch: 487/500..  Training Loss: 0.114..  Test Loss: 0.108.. \n",
            "Epoch: 488/500..  Training Loss: 0.115..  Test Loss: 0.104.. \n",
            "Epoch: 489/500..  Training Loss: 0.114..  Test Loss: 0.114.. \n",
            "Epoch: 490/500..  Training Loss: 0.117..  Test Loss: 0.109.. \n",
            "Epoch: 491/500..  Training Loss: 0.119..  Test Loss: 0.105.. \n",
            "Epoch: 492/500..  Training Loss: 0.119..  Test Loss: 0.115.. \n",
            "Epoch: 493/500..  Training Loss: 0.115..  Test Loss: 0.105.. \n",
            "Epoch: 494/500..  Training Loss: 0.114..  Test Loss: 0.105.. \n",
            "Epoch: 495/500..  Training Loss: 0.116..  Test Loss: 0.102.. \n",
            "Epoch: 496/500..  Training Loss: 0.114..  Test Loss: 0.107.. \n",
            "Epoch: 497/500..  Training Loss: 0.113..  Test Loss: 0.109.. \n",
            "Epoch: 498/500..  Training Loss: 0.115..  Test Loss: 0.106.. \n",
            "Epoch: 499/500..  Training Loss: 0.115..  Test Loss: 0.110.. \n",
            "Epoch: 500/500..  Training Loss: 0.117..  Test Loss: 0.110.. \n"
          ]
        }
      ]
    },
    {
      "cell_type": "code",
      "source": [
        "import matplotlib.pyplot as plt\n",
        "plt.plot(train_losses, label='Training Errors')\n",
        "plt.plot(test_losses, label='Validation Errors')\n",
        "plt.legend(frameon=False)"
      ],
      "metadata": {
        "colab": {
          "base_uri": "https://localhost:8080/",
          "height": 452
        },
        "id": "8FYbCKqfdq8o",
        "outputId": "b0ddb05a-6e5b-4dea-ebda-c10790e0cf59"
      },
      "execution_count": null,
      "outputs": [
        {
          "output_type": "execute_result",
          "data": {
            "text/plain": [
              "<matplotlib.legend.Legend at 0x7fabffc5df60>"
            ]
          },
          "metadata": {},
          "execution_count": 39
        },
        {
          "output_type": "display_data",
          "data": {
            "text/plain": [
              "<Figure size 640x480 with 1 Axes>"
            ],
            "image/png": "[encoded data removed]"
          },
          "metadata": {}
        }
      ]
    },
    {
      "cell_type": "markdown",
      "source": [
        "## Some other model variations\n",
        "\n",
        "**You're more than welcome to try some other model varations (e.g. different number of hidden layers, hidden neurons, learning rate, etc) to achieve lower valid error. Include a table listing all the model hyperparameters that you have tried with the corresponding validation errors that you found.**"
      ],
      "metadata": {
        "id": "A2aLRME5nOMA"
      }
    },
    {
      "cell_type": "code",
      "source": [
        "data = {\n",
        "    'Model': ['Model 1', 'Model 2', 'Model 3', 'Model 4','Model 5'],\n",
        "    'Hidden Layers': [4,4,4,4,4],\n",
        "    'batchSize' : [32,32,64,16,32],\n",
        "    '#epoch':[200,200,200,200,200],\n",
        "    'weight_decay': [1e-5,1e-5,1e-5,1e-5, 1e-5],\n",
        "    'Learning Rate': [0.08,0.06,0.06,0.08,0.03],\n",
        "    'Dropout Rate': [0.2,0.2,0.2,0.2, 0.2],\n",
        "    'Training Loss': [0.102,0.105,0.128,0.093,0.093],\n",
        "    'Validation Loss ': [0.089,0.096,0.119,0.086,0.084]\n",
        "}\n",
        "\n",
        "# Create a DataFrame\n",
        "df = pd.DataFrame(data)\n",
        "df"
      ],
      "metadata": {
        "id": "qSNpDljQnN1Z",
        "colab": {
          "base_uri": "https://localhost:8080/",
          "height": 310
        },
        "outputId": "ba9f2c19-8c7c-4143-9c3f-4af479a0c40f"
      },
      "execution_count": null,
      "outputs": [
        {
          "output_type": "execute_result",
          "data": {
            "text/plain": [
              "     Model  Hidden Layers  batchSize  #epoch  weight_decay  Learning Rate  \\\n",
              "0  Model 1              4         32     200       0.00001           0.08   \n",
              "1  Model 2              4         32     200       0.00001           0.06   \n",
              "2  Model 3              4         64     200       0.00001           0.06   \n",
              "3  Model 4              4         16     200       0.00001           0.08   \n",
              "4  Model 5              4         32     200       0.00001           0.03   \n",
              "\n",
              "   Dropout Rate  Training Loss  Validation Loss   \n",
              "0           0.2          0.102             0.089  \n",
              "1           0.2          0.105             0.096  \n",
              "2           0.2          0.128             0.119  \n",
              "3           0.2          0.093             0.086  \n",
              "4           0.2          0.093             0.084  "
            ],
            "text/html": [
              "\n",
              "  <div id=\"df-ec432051-40bb-4970-aad2-78781d68a543\" class=\"colab-df-container\">\n",
              "    <div>\n",
              "<style scoped>\n",
              "    .dataframe tbody tr th:only-of-type {\n",
              "        vertical-align: middle;\n",
              "    }\n",
              "\n",
              "    .dataframe tbody tr th {\n",
              "        vertical-align: top;\n",
              "    }\n",
              "\n",
              "    .dataframe thead th {\n",
              "        text-align: right;\n",
              "    }\n",
              "</style>\n",
              "<table border=\"1\" class=\"dataframe\">\n",
              "  <thead>\n",
              "    <tr style=\"text-align: right;\">\n",
              "      <th></th>\n",
              "      <th>Model</th>\n",
              "      <th>Hidden Layers</th>\n",
              "      <th>batchSize</th>\n",
              "      <th>#epoch</th>\n",
              "      <th>weight_decay</th>\n",
              "      <th>Learning Rate</th>\n",
              "      <th>Dropout Rate</th>\n",
              "      <th>Training Loss</th>\n",
              "      <th>Validation Loss</th>\n",
              "    </tr>\n",
              "  </thead>\n",
              "  <tbody>\n",
              "    <tr>\n",
              "      <th>0</th>\n",
              "      <td>Model 1</td>\n",
              "      <td>4</td>\n",
              "      <td>32</td>\n",
              "      <td>200</td>\n",
              "      <td>0.00001</td>\n",
              "      <td>0.08</td>\n",
              "      <td>0.2</td>\n",
              "      <td>0.102</td>\n",
              "      <td>0.089</td>\n",
              "    </tr>\n",
              "    <tr>\n",
              "      <th>1</th>\n",
              "      <td>Model 2</td>\n",
              "      <td>4</td>\n",
              "      <td>32</td>\n",
              "      <td>200</td>\n",
              "      <td>0.00001</td>\n",
              "      <td>0.06</td>\n",
              "      <td>0.2</td>\n",
              "      <td>0.105</td>\n",
              "      <td>0.096</td>\n",
              "    </tr>\n",
              "    <tr>\n",
              "      <th>2</th>\n",
              "      <td>Model 3</td>\n",
              "      <td>4</td>\n",
              "      <td>64</td>\n",
              "      <td>200</td>\n",
              "      <td>0.00001</td>\n",
              "      <td>0.06</td>\n",
              "      <td>0.2</td>\n",
              "      <td>0.128</td>\n",
              "      <td>0.119</td>\n",
              "    </tr>\n",
              "    <tr>\n",
              "      <th>3</th>\n",
              "      <td>Model 4</td>\n",
              "      <td>4</td>\n",
              "      <td>16</td>\n",
              "      <td>200</td>\n",
              "      <td>0.00001</td>\n",
              "      <td>0.08</td>\n",
              "      <td>0.2</td>\n",
              "      <td>0.093</td>\n",
              "      <td>0.086</td>\n",
              "    </tr>\n",
              "    <tr>\n",
              "      <th>4</th>\n",
              "      <td>Model 5</td>\n",
              "      <td>4</td>\n",
              "      <td>32</td>\n",
              "      <td>200</td>\n",
              "      <td>0.00001</td>\n",
              "      <td>0.03</td>\n",
              "      <td>0.2</td>\n",
              "      <td>0.093</td>\n",
              "      <td>0.084</td>\n",
              "    </tr>\n",
              "  </tbody>\n",
              "</table>\n",
              "</div>\n",
              "    <div class=\"colab-df-buttons\">\n",
              "\n",
              "  <div class=\"colab-df-container\">\n",
              "    <button class=\"colab-df-convert\" onclick=\"convertToInteractive('df-ec432051-40bb-4970-aad2-78781d68a543')\"\n",
              "            title=\"Convert this dataframe to an interactive table.\"\n",
              "            style=\"display:none;\">\n",
              "\n",
              "  <svg xmlns=\"http://www.w3.org/2000/svg\" height=\"24px\" viewBox=\"0 -960 960 960\">\n",
              "    <path d=\"M120-120v-720h720v720H120Zm60-500h600v-160H180v160Zm220 220h160v-160H400v160Zm0 220h160v-160H400v160ZM180-400h160v-160H180v160Zm440 0h160v-160H620v160ZM180-180h160v-160H180v160Zm440 0h160v-160H620v160Z\"/>\n",
              "  </svg>\n",
              "    </button>\n",
              "\n",
              "  <style>\n",
              "    .colab-df-container {\n",
              "      display:flex;\n",
              "      gap: 12px;\n",
              "    }\n",
              "\n",
              "    .colab-df-convert {\n",
              "      background-color: #E8F0FE;\n",
              "      border: none;\n",
              "      border-radius: 50%;\n",
              "      cursor: pointer;\n",
              "      display: none;\n",
              "      fill: #1967D2;\n",
              "      height: 32px;\n",
              "      padding: 0 0 0 0;\n",
              "      width: 32px;\n",
              "    }\n",
              "\n",
              "    .colab-df-convert:hover {\n",
              "      background-color: #E2EBFA;\n",
              "      box-shadow: 0px 1px 2px rgba(60, 64, 67, 0.3), 0px 1px 3px 1px rgba(60, 64, 67, 0.15);\n",
              "      fill: #174EA6;\n",
              "    }\n",
              "\n",
              "    .colab-df-buttons div {\n",
              "      margin-bottom: 4px;\n",
              "    }\n",
              "\n",
              "    [theme=dark] .colab-df-convert {\n",
              "      background-color: #3B4455;\n",
              "      fill: #D2E3FC;\n",
              "    }\n",
              "\n",
              "    [theme=dark] .colab-df-convert:hover {\n",
              "      background-color: #434B5C;\n",
              "      box-shadow: 0px 1px 3px 1px rgba(0, 0, 0, 0.15);\n",
              "      filter: drop-shadow(0px 1px 2px rgba(0, 0, 0, 0.3));\n",
              "      fill: #FFFFFF;\n",
              "    }\n",
              "  </style>\n",
              "\n",
              "    <script>\n",
              "      const buttonEl =\n",
              "        document.querySelector('#df-ec432051-40bb-4970-aad2-78781d68a543 button.colab-df-convert');\n",
              "      buttonEl.style.display =\n",
              "        google.colab.kernel.accessAllowed ? 'block' : 'none';\n",
              "\n",
              "      async function convertToInteractive(key) {\n",
              "        const element = document.querySelector('#df-ec432051-40bb-4970-aad2-78781d68a543');\n",
              "        const dataTable =\n",
              "          await google.colab.kernel.invokeFunction('convertToInteractive',\n",
              "                                                    [key], {});\n",
              "        if (!dataTable) return;\n",
              "\n",
              "        const docLinkHtml = 'Like what you see? Visit the ' +\n",
              "          '<a target=\"_blank\" href=https://colab.research.google.com/notebooks/data_table.ipynb>data table notebook</a>'\n",
              "          + ' to learn more about interactive tables.';\n",
              "        element.innerHTML = '';\n",
              "        dataTable['output_type'] = 'display_data';\n",
              "        await google.colab.output.renderOutput(dataTable, element);\n",
              "        const docLink = document.createElement('div');\n",
              "        docLink.innerHTML = docLinkHtml;\n",
              "        element.appendChild(docLink);\n",
              "      }\n",
              "    </script>\n",
              "  </div>\n",
              "\n",
              "\n",
              "<div id=\"df-cea047cc-0bf2-4441-a962-3cb089f9c298\">\n",
              "  <button class=\"colab-df-quickchart\" onclick=\"quickchart('df-cea047cc-0bf2-4441-a962-3cb089f9c298')\"\n",
              "            title=\"Suggest charts\"\n",
              "            style=\"display:none;\">\n",
              "\n",
              "<svg xmlns=\"http://www.w3.org/2000/svg\" height=\"24px\"viewBox=\"0 0 24 24\"\n",
              "     width=\"24px\">\n",
              "    <g>\n",
              "        <path d=\"M19 3H5c-1.1 0-2 .9-2 2v14c0 1.1.9 2 2 2h14c1.1 0 2-.9 2-2V5c0-1.1-.9-2-2-2zM9 17H7v-7h2v7zm4 0h-2V7h2v10zm4 0h-2v-4h2v4z\"/>\n",
              "    </g>\n",
              "</svg>\n",
              "  </button>\n",
              "\n",
              "<style>\n",
              "  .colab-df-quickchart {\n",
              "      --bg-color: #E8F0FE;\n",
              "      --fill-color: #1967D2;\n",
              "      --hover-bg-color: #E2EBFA;\n",
              "      --hover-fill-color: #174EA6;\n",
              "      --disabled-fill-color: #AAA;\n",
              "      --disabled-bg-color: #DDD;\n",
              "  }\n",
              "\n",
              "  [theme=dark] .colab-df-quickchart {\n",
              "      --bg-color: #3B4455;\n",
              "      --fill-color: #D2E3FC;\n",
              "      --hover-bg-color: #434B5C;\n",
              "      --hover-fill-color: #FFFFFF;\n",
              "      --disabled-bg-color: #3B4455;\n",
              "      --disabled-fill-color: #666;\n",
              "  }\n",
              "\n",
              "  .colab-df-quickchart {\n",
              "    background-color: var(--bg-color);\n",
              "    border: none;\n",
              "    border-radius: 50%;\n",
              "    cursor: pointer;\n",
              "    display: none;\n",
              "    fill: var(--fill-color);\n",
              "    height: 32px;\n",
              "    padding: 0;\n",
              "    width: 32px;\n",
              "  }\n",
              "\n",
              "  .colab-df-quickchart:hover {\n",
              "    background-color: var(--hover-bg-color);\n",
              "    box-shadow: 0 1px 2px rgba(60, 64, 67, 0.3), 0 1px 3px 1px rgba(60, 64, 67, 0.15);\n",
              "    fill: var(--button-hover-fill-color);\n",
              "  }\n",
              "\n",
              "  .colab-df-quickchart-complete:disabled,\n",
              "  .colab-df-quickchart-complete:disabled:hover {\n",
              "    background-color: var(--disabled-bg-color);\n",
              "    fill: var(--disabled-fill-color);\n",
              "    box-shadow: none;\n",
              "  }\n",
              "\n",
              "  .colab-df-spinner {\n",
              "    border: 2px solid var(--fill-color);\n",
              "    border-color: transparent;\n",
              "    border-bottom-color: var(--fill-color);\n",
              "    animation:\n",
              "      spin 1s steps(1) infinite;\n",
              "  }\n",
              "\n",
              "  @keyframes spin {\n",
              "    0% {\n",
              "      border-color: transparent;\n",
              "      border-bottom-color: var(--fill-color);\n",
              "      border-left-color: var(--fill-color);\n",
              "    }\n",
              "    20% {\n",
              "      border-color: transparent;\n",
              "      border-left-color: var(--fill-color);\n",
              "      border-top-color: var(--fill-color);\n",
              "    }\n",
              "    30% {\n",
              "      border-color: transparent;\n",
              "      border-left-color: var(--fill-color);\n",
              "      border-top-color: var(--fill-color);\n",
              "      border-right-color: var(--fill-color);\n",
              "    }\n",
              "    40% {\n",
              "      border-color: transparent;\n",
              "      border-right-color: var(--fill-color);\n",
              "      border-top-color: var(--fill-color);\n",
              "    }\n",
              "    60% {\n",
              "      border-color: transparent;\n",
              "      border-right-color: var(--fill-color);\n",
              "    }\n",
              "    80% {\n",
              "      border-color: transparent;\n",
              "      border-right-color: var(--fill-color);\n",
              "      border-bottom-color: var(--fill-color);\n",
              "    }\n",
              "    90% {\n",
              "      border-color: transparent;\n",
              "      border-bottom-color: var(--fill-color);\n",
              "    }\n",
              "  }\n",
              "</style>\n",
              "\n",
              "  <script>\n",
              "    async function quickchart(key) {\n",
              "      const quickchartButtonEl =\n",
              "        document.querySelector('#' + key + ' button');\n",
              "      quickchartButtonEl.disabled = true;  // To prevent multiple clicks.\n",
              "      quickchartButtonEl.classList.add('colab-df-spinner');\n",
              "      try {\n",
              "        const charts = await google.colab.kernel.invokeFunction(\n",
              "            'suggestCharts', [key], {});\n",
              "      } catch (error) {\n",
              "        console.error('Error during call to suggestCharts:', error);\n",
              "      }\n",
              "      quickchartButtonEl.classList.remove('colab-df-spinner');\n",
              "      quickchartButtonEl.classList.add('colab-df-quickchart-complete');\n",
              "    }\n",
              "    (() => {\n",
              "      let quickchartButtonEl =\n",
              "        document.querySelector('#df-cea047cc-0bf2-4441-a962-3cb089f9c298 button');\n",
              "      quickchartButtonEl.style.display =\n",
              "        google.colab.kernel.accessAllowed ? 'block' : 'none';\n",
              "    })();\n",
              "  </script>\n",
              "</div>\n",
              "    </div>\n",
              "  </div>\n"
            ]
          },
          "metadata": {},
          "execution_count": 54
        }
      ]
    },
    {
      "cell_type": "markdown",
      "source": [
        "---\n",
        "## Save Model\n",
        "\n",
        "Save a `checkpoint.pth` file containing all the necessary information to retrieve your best model and predictions. Remember submitting this file to Canvas siste.\n",
        "\n",
        "Hint: Check out the `Lecture 4 - Saving and Loading Models.ipynb` on Canvas if you do not know how to save model."
      ],
      "metadata": {
        "id": "TKAgZM-PzOcM"
      }
    },
    {
      "cell_type": "code",
      "source": [
        "\n",
        "torch.save({\n",
        "    'model_state_dict': model_2.state_dict(),\n",
        "    'optimizer_state_dict': optimizer.state_dict(),\n",
        "    'train_losses': train_losses,\n",
        "    'test_losses': test_losses,\n",
        "    'epoch': epochs\n",
        "}, 'checkpoint.pth')\n"
      ],
      "metadata": {
        "id": "8ztaxE5pVKKw"
      },
      "execution_count": null,
      "outputs": []
    },
    {
      "cell_type": "markdown",
      "source": [
        "---\n",
        "## Inference on test data\n",
        "\n",
        "After the model is trained, we can use it for inference."
      ],
      "metadata": {
        "id": "Gmrzpydv34Y5"
      }
    },
    {
      "cell_type": "code",
      "source": [
        "#TODO: write the code to generate predicted sale prices for test data\n",
        "device = torch.device(\"cuda:0\" if torch.cuda.is_available() else \"cpu\")\n",
        "model_2.to(device)\n",
        "\n",
        "\n",
        "# Initialize an empty list to store predictions\n",
        "all_predictions = []\n",
        "\n",
        "# Iterate through the test dataset in batches\n",
        "for batch in test_loader:\n",
        "    # Extract the batch of test features\n",
        "    test_batch = batch[0].to(device)\n",
        "\n",
        "    # Perform prediction\n",
        "    with torch.no_grad():\n",
        "        batch_predictions = model_2(test_batch)\n",
        "\n",
        "    # Append batch predictions to the list\n",
        "    all_predictions.append(batch_predictions)\n",
        "\n",
        "# Concatenate predictions from all batches into a single tensor\n",
        "final_predictions = torch.cat(all_predictions, dim=0)"
      ],
      "metadata": {
        "id": "S6zaW1GwVSia"
      },
      "execution_count": null,
      "outputs": []
    },
    {
      "cell_type": "code",
      "source": [
        "#TODO: save the predicted sale prices into submission_csv\n",
        "# Convert the tensor to a NumPy array\n",
        "predictions_np = final_predictions.cpu().numpy()*100000\n",
        "\n",
        "# Create a DataFrame to store predictions\n",
        "predictions_df = pd.DataFrame(predictions_np, columns=['SALE_PRICE'])\n",
        "\n",
        "# Save predictions to a CSV file\n",
        "predictions_df.to_csv('submission.csv', index=False)"
      ],
      "metadata": {
        "id": "KjiNm30lVUBu"
      },
      "execution_count": null,
      "outputs": []
    },
    {
      "cell_type": "markdown",
      "source": [
        "Now, we can submit our predictions on Kaggle and see how they compare with the actual house prices (labels) on the test set.\n",
        "\n",
        "- Log in to the Kaggle website and visit the house price prediction competition page.\n",
        "\n",
        "- Click the “Submit Predictions”.\n",
        "\n",
        "- Click the “Browse Files” button in the dashed box at the bottom of the page and select the prediction file you wish to upload.\n",
        "\n",
        "- Click the “Submit” button at the bottom of the page to view your results."
      ],
      "metadata": {
        "id": "VfIYGk-BVZSs"
      }
    },
    {
      "cell_type": "markdown",
      "source": [
        " **Include your best test error shown on Kaggle in your case report!**"
      ],
      "metadata": {
        "id": "VCzV9HsWVd3P"
      }
    },
    {
      "cell_type": "markdown",
      "source": [
        "---\n",
        "## Evaluate the profit of iBuyer business model\n",
        "\n",
        "\n",
        "In class, we have dicussed the iBuyer business model and its opportunities and risks. In the following analysis, imagine you work in a consulting firm and would like to investigate the profitability of the iBuyer business model.\n",
        "\n",
        "You have taken the Mordern Analytics course and remembered that Prof. X advocated the data-driven approach in business decision making. Thus, you would like to perform analysis based on model and data.\n",
        "\n",
        "Note that since we do not know the true sale prices in the future (like test data), we need to conduct the analysis based on the historical data (train or validation data). Previously, you have already trained a multilayer perceptron model using the train data. Now, let's evaluate the profit of iBuyer business model based on the predicted prices on the **validation data**."
      ],
      "metadata": {
        "id": "UBvBbWT_BjGr"
      }
    },
    {
      "cell_type": "markdown",
      "source": [
        "Let's first compute the predicted prices on the valid data."
      ],
      "metadata": {
        "id": "s-SDd9Zzv2bl"
      }
    },
    {
      "cell_type": "code",
      "source": [
        "## TODO: Load your best model from your saved checkpoint.pth file.\n",
        "checkpoint = torch.load('checkpoint.pth')\n",
        "\n",
        "# Load the model state dictionary\n",
        "model_2.load_state_dict(checkpoint['model_state_dict'])"
      ],
      "metadata": {
        "id": "XeZXNhtdV3zM",
        "colab": {
          "base_uri": "https://localhost:8080/"
        },
        "outputId": "8cb97d13-fa52-411d-d1cf-2217ebac326d"
      },
      "execution_count": null,
      "outputs": [
        {
          "output_type": "execute_result",
          "data": {
            "text/plain": [
              "<All keys matched successfully>"
            ]
          },
          "metadata": {},
          "execution_count": 58
        }
      ]
    },
    {
      "cell_type": "code",
      "source": [
        "## TODO: compute the predicted prices on valid data using your best model\n",
        "model_2.eval()\n",
        "\n",
        "with torch.no_grad():\n",
        "    predicted_prices = []\n",
        "    actual_prices = []\n",
        "\n",
        "    for features, labels in valid_loader:\n",
        "        features = features.to(device)\n",
        "        labels = labels.to(device)\n",
        "\n",
        "        output = model_2(features)\n",
        "\n",
        "        predicted_prices.extend(output.detach().cpu().numpy()*100000)\n",
        "        actual_prices.extend(labels.detach().cpu().numpy()*100000)\n",
        "\n",
        "df = pd.DataFrame({\n",
        "    'Predicted_Prices': predicted_prices,\n",
        "    'Actual_Labels': actual_prices\n",
        "})\n",
        "\n",
        "df['Predicted_Prices'] = df['Predicted_Prices'].str.get(0)\n",
        "df['Actual_Labels'] = df['Actual_Labels'].str.get(0)"
      ],
      "metadata": {
        "id": "HardNM2Zv9IK"
      },
      "execution_count": null,
      "outputs": []
    },
    {
      "cell_type": "markdown",
      "source": [
        "Compute the signed error rates (without taking the absolute value sign), that is\n",
        "\n",
        "$$\n",
        "\\text{Signed Error Rate} = \\frac{\\text{Predicted Price}-\\text{Actual Price}}{\\text{Actual Price}}\n",
        "$$\n",
        "We will call signed error rate as prediction error henceafter."
      ],
      "metadata": {
        "id": "Gi5KDRpfmA0F"
      }
    },
    {
      "cell_type": "code",
      "source": [
        "## TODO: compute the signed error rates (henceafter called prediction errors)\n",
        "df['Signed_Error_Rate'] = (df['Predicted_Prices'] - df['Actual_Labels']) / df['Actual_Labels']"
      ],
      "metadata": {
        "id": "EDhCZd-3mb2J"
      },
      "execution_count": null,
      "outputs": []
    },
    {
      "cell_type": "markdown",
      "source": [
        "### Analysis and visualization of valid errors"
      ],
      "metadata": {
        "id": "LqhwqLxIx-ce"
      }
    },
    {
      "cell_type": "markdown",
      "source": [
        "Let's plot the histogram of prediction errors.\n",
        "\n",
        "**Question 1**: what is the bias of the prediction errors? Include the histogram of prediction errors and the bias in your report."
      ],
      "metadata": {
        "id": "QLsAypFuAumy"
      }
    },
    {
      "cell_type": "code",
      "source": [
        "import pandas as pd\n",
        "import matplotlib.pyplot as plt\n",
        "bias = df['Signed_Error_Rate'].mean()\n",
        "bias\n",
        "plt.figure(figsize=(10, 6))\n",
        "plt.hist(df['Signed_Error_Rate'], bins=100, edgecolor='black')\n",
        "plt.title('Histogram of Prediction Errors')\n",
        "plt.xlabel('Prediction Error')\n",
        "plt.ylabel('Frequency')\n",
        "plt.grid(True)\n",
        "plt.axvline(bias, color='r', linestyle='dashed', linewidth=1, label=f'Bias = {bias:.4f}')\n",
        "plt.legend()\n",
        "plt.show()"
      ],
      "metadata": {
        "colab": {
          "base_uri": "https://localhost:8080/",
          "height": 573
        },
        "id": "1y1usdwHXrcY",
        "outputId": "2d1ac576-76c4-41e8-e59b-3c81155cac65"
      },
      "execution_count": null,
      "outputs": [
        {
          "output_type": "display_data",
          "data": {
            "text/plain": [
              "<Figure size 1000x600 with 1 Axes>"
            ],
            "image/png": "[encoded data removed]"
          },
          "metadata": {}
        }
      ]
    },
    {
      "cell_type": "markdown",
      "source": [
        "### Profit Analysis\n",
        "\n",
        "In the following profit analysis, we assume the iBuyer will make an offer to every property in the valid data based on their predicted price $PP$. We assume the iBuyer decides the offer price $OP$ according to\n",
        "$$\n",
        "OP = \\frac{PP}{1+\\alpha},\n",
        "$$\n",
        "where $\\alpha$ is the (targted) profit margin of the iBuyer.\n",
        "Here we assume the profit margin has already taken into consideration the commission fee charged by the iBuyer\n",
        "and various costs associated such as transaction cost, administration cost, and holding cost. Note that the commission fee charged by Zillow is often around $7.5\\%$ and Zillow may charge additional repair costs after home inspection. Thus we take $\\alpha=12\\%$ in this case study.\n",
        "\n",
        "We further assume that the iBuyer can resell the property at the same\n",
        "price as the broker in the future once the property is bought. In other words, the resell price is equal to the sale price in the valid data. This assumption may not be exactly true in practice and the iBuyer may sell the house at either a higher or lower price depending on the market trend. But our conclusion will not change too much.\n",
        "\n",
        "Based on the above two assumptions, we can now determine the percentage profit\n",
        "for a property bought by the iBuyer as\n",
        "$$\n",
        "\\frac{SP- OP}{OP}.\n",
        "$$\n",
        "We use the percentage profit instead of the absolute profit because the iBuyer cannot hope to purchase all houses in the market. Therefore, the percentage profit is a better measure of the profitability of the iBuyer business model.\n",
        " The aim of the iBuyer in this simplified setting is to purchase properties for less money than they are sold for, to generate a profit."
      ],
      "metadata": {
        "id": "tpp6qgMuwlgp"
      }
    },
    {
      "cell_type": "code",
      "source": [
        "profit_margin = 0.12"
      ],
      "metadata": {
        "id": "etKvSNDOzgSp"
      },
      "execution_count": null,
      "outputs": []
    },
    {
      "cell_type": "markdown",
      "source": [
        "**Question 2**: Consider the hypothetical scenario where the offers are all accepted regardless of their values,\n",
        "what is the average percentage profit? Do you see a big difference compared to the profit margin $\\alpha$? Include your answers in the report."
      ],
      "metadata": {
        "id": "KYDo-OoV8lUM"
      }
    },
    {
      "cell_type": "code",
      "source": [
        "# Calculate the Offer Price (OP) based on the predicted price (PP) and profit margin\n",
        "df['Offer_Price'] = df['Predicted_Prices'] / (1 + profit_margin)\n",
        "\n",
        "# Calculate the percentage profit for each property\n",
        "df['Percentage_Profit'] = (df['Actual_Labels'] - df['Offer_Price']) / df['Offer_Price']\n",
        "\n",
        "# Compute the average percentage profit\n",
        "average_percentage_profit = df['Percentage_Profit'].mean()\n",
        "\n",
        "average_percentage_profit"
      ],
      "metadata": {
        "colab": {
          "base_uri": "https://localhost:8080/"
        },
        "id": "D0bQ7vuOdaro",
        "outputId": "08a81e99-c2e8-4780-a3ec-21e1a4c2eb8d"
      },
      "execution_count": null,
      "outputs": [
        {
          "output_type": "execute_result",
          "data": {
            "text/plain": [
              "0.1157003497443183"
            ]
          },
          "metadata": {},
          "execution_count": 114
        }
      ]
    },
    {
      "cell_type": "markdown",
      "source": [
        "**Offer Acceptance Rule**\n",
        "\n",
        "\n",
        "However, not every offer will be accepted by the home owner. Given an offer price, whether the homeowner accepts it\n",
        "depends on the homeowner's perceived valuation. For the current dataset, we lack enough data to determine the homeowner's perceived valuation of the property. However, the actual sale price in the valid data serves as a reasonable proxy of the homeowner's perceived valuation. Therefore, we assume that the home owner will accept the offer, if\n",
        "$$\n",
        "OP> (1-\\beta) SP,\n",
        "$$\n",
        "where $\\beta$ is a discounting factor. Here the discounting factor captures the commission fee charged\n",
        "by the conventional realtors which is around 6%, as well as the convenience factor that models\n",
        "how much the homeowner values the quick transaction services of the iBuyer over the conventional\n",
        "relator. We assume $\\beta = 10\\%$ in this case."
      ],
      "metadata": {
        "id": "qq8r4Yn2_Jui"
      }
    },
    {
      "cell_type": "markdown",
      "source": [
        "**Question 3**: Based on the sale price in the valid data and the acceptance rule, what is the mean percentage profit among all accepted offers? Do you see a big difference compared to the targeted profit margin $\\alpha$?  Include your answers in your report.  "
      ],
      "metadata": {
        "id": "yvUa2TdyzT5G"
      }
    },
    {
      "cell_type": "code",
      "source": [
        "# Given discounting factor\n",
        "discounting_factor = 0.10\n",
        "\n",
        "# Determine the minimum acceptable offer price by the homeowner\n",
        "df['Min_Acceptable_OP'] = (1 - discounting_factor) * df['Actual_Labels']\n",
        "\n",
        "# Filter the rows where the offer price is greater than the minimum acceptable offer price\n",
        "accepted_offers = df[df['Offer_Price'] > df['Min_Acceptable_OP']]\n",
        "\n",
        "# Compute the mean percentage profit among all accepted offers\n",
        "mean_percentage_profit_accepted = accepted_offers['Percentage_Profit'].mean()\n",
        "\n",
        "mean_percentage_profit_accepted"
      ],
      "metadata": {
        "colab": {
          "base_uri": "https://localhost:8080/"
        },
        "id": "wh7ODPmUe1Lu",
        "outputId": "de5bfb08-2dc9-44e5-85f9-542496862b57"
      },
      "execution_count": null,
      "outputs": [
        {
          "output_type": "execute_result",
          "data": {
            "text/plain": [
              "-0.06647823775092666"
            ]
          },
          "metadata": {},
          "execution_count": 115
        }
      ]
    },
    {
      "cell_type": "markdown",
      "source": [
        "Let's plot the histogram of the prediction errors for those properties whose home owners accepted the offer.\n",
        "\n",
        "**Question 4**: What is the bias of the prediction errors when restricting to those properties whose owners accepted the offer? Based on the histogram and bias, can you explain your answers to Question 3?"
      ],
      "metadata": {
        "id": "Z2_qBob7Bo_f"
      }
    },
    {
      "cell_type": "code",
      "source": [
        "plt.figure(figsize=(10, 6))\n",
        "plt.hist(accepted_offers['Signed_Error_Rate'], bins=100, edgecolor='black')\n",
        "plt.title('Histogram of Prediction Errors for Accepted Offers')\n",
        "plt.xlabel('Prediction Error')\n",
        "plt.ylabel('Frequency')\n",
        "plt.grid(True)\n",
        "\n",
        "# Calculate the bias (mean of prediction errors) for accepted offers\n",
        "bias_accepted_offers = accepted_offers['Signed_Error_Rate'].mean()\n",
        "\n",
        "# Add a vertical line for the bias\n",
        "plt.axvline(bias_accepted_offers, color='r', linestyle='dashed', linewidth=1, label=f'Bias = {bias_accepted_offers:.4f}')\n",
        "plt.legend()\n",
        "\n",
        "plt.show()\n",
        "\n",
        "bias_accepted_offers"
      ],
      "metadata": {
        "colab": {
          "base_uri": "https://localhost:8080/",
          "height": 591
        },
        "id": "er_OjqxzgZhN",
        "outputId": "356474e0-401f-476a-8e57-b9f9c98701ad"
      },
      "execution_count": null,
      "outputs": [
        {
          "output_type": "display_data",
          "data": {
            "text/plain": [
              "<Figure size 1000x600 with 1 Axes>"
            ],
            "image/png": "[encoded data removed]"
          },
          "metadata": {}
        },
        {
          "output_type": "execute_result",
          "data": {
            "text/plain": [
              "0.274045142669817"
            ]
          },
          "metadata": {},
          "execution_count": 117
        }
      ]
    }
  ],
  "metadata": {
    "accelerator": "GPU",
    "colab": {
      "gpuType": "T4",
      "provenance": [],
      "collapsed_sections": [
        "s4QjqzSng9P7",
        "PHY3Ye4wCmWM",
        "gBJ3mU_qLVRv",
        "GpfNC1455HYf",
        "BQ7a1MTxbK_T",
        "4gP6KXY_TAR3",
        "vsxR1nrM1yFH",
        "96o6pXJZtLIF",
        "7318EVBqr6lX",
        "awKh4JrcwKQC",
        "A2aLRME5nOMA",
        "TKAgZM-PzOcM",
        "Gmrzpydv34Y5",
        "UBvBbWT_BjGr"
      ]
    },
    "kernelspec": {
      "display_name": "Python 3",
      "name": "python3"
    },
    "language_info": {
      "codemirror_mode": {
        "name": "ipython",
        "version": 3
      },
      "file_extension": ".py",
      "mimetype": "text/x-python",
      "name": "python",
      "nbconvert_exporter": "python",
      "pygments_lexer": "ipython3",
      "version": "3.9.13"
    }
  },
  "nbformat": 4,
  "nbformat_minor": 0
}